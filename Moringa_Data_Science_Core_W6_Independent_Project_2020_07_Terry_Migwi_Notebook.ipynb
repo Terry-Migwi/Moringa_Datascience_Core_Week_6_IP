{
  "nbformat": 4,
  "nbformat_minor": 0,
  "metadata": {
    "colab": {
      "name": "Moringa_Data_Science_Core_W6_Independent_Project_2020_07_Terry_Migwi_Notebook",
      "provenance": [],
      "collapsed_sections": [],
      "authorship_tag": "ABX9TyOZR9ZCZtuCRzFEZQEOfr99",
      "include_colab_link": true
    },
    "kernelspec": {
      "name": "python3",
      "display_name": "Python 3"
    }
  },
  "cells": [
    {
      "cell_type": "markdown",
      "metadata": {
        "id": "view-in-github",
        "colab_type": "text"
      },
      "source": [
        "<a href=\"https://colab.research.google.com/github/Terry-Migwi/Moringa_Datascience_Core_Week_6_IP/blob/master/Moringa_Data_Science_Core_W6_Independent_Project_2020_07_Terry_Migwi_Notebook.ipynb\" target=\"_parent\"><img src=\"https://colab.research.google.com/assets/colab-badge.svg\" alt=\"Open In Colab\"/></a>"
      ]
    },
    {
      "cell_type": "markdown",
      "metadata": {
        "id": "Er51W4m5w1vv",
        "colab_type": "text"
      },
      "source": [
        "## 1. Defining the question\n"
      ]
    },
    {
      "cell_type": "markdown",
      "metadata": {
        "id": "eiDsGwYYw8os",
        "colab_type": "text"
      },
      "source": [
        "### Specifying the question"
      ]
    },
    {
      "cell_type": "markdown",
      "metadata": {
        "id": "5nLuHHwkxHw7",
        "colab_type": "text"
      },
      "source": [
        "As the football analyst of Mchezopesa limited, I have a task to predict the results of a football match between two teams i.e the home team or the away team.\n",
        "\n",
        "The main objective of this study is to:\n",
        "1. Fit a polynomial model that will predict the home team and the away team scores\n",
        "3. Fit a logistic model to determine if the home team will win, draw or lose to the away team\n"
      ]
    },
    {
      "cell_type": "markdown",
      "metadata": {
        "id": "SfkfKLG_0Q7Y",
        "colab_type": "text"
      },
      "source": [
        "### Defining the Metrics for success"
      ]
    },
    {
      "cell_type": "markdown",
      "metadata": {
        "id": "mx74Y-Cw0Wqb",
        "colab_type": "text"
      },
      "source": [
        "The following are the factors that will determine the success of this study.\n",
        "\n",
        "1. Determine the most appropriate variables to train our models \n",
        "2. Creating appropriate train and test variables for our models\n",
        "3. Fitting and evaluating our models\n"
      ]
    },
    {
      "cell_type": "markdown",
      "metadata": {
        "id": "IMKYx8Sm7XL2",
        "colab_type": "text"
      },
      "source": [
        "### Understanding the context"
      ]
    },
    {
      "cell_type": "markdown",
      "metadata": {
        "id": "BCne5IEj7c8-",
        "colab_type": "text"
      },
      "source": [
        "Mchezopesa limited is a sports analytics company that helps fans analyze and predict individual athletes and team performance. Mchezopesa uses real-time daily and historial data to perform predictive modelling algorithms that they use to make projections that are used by fantasy sports fans. By far, football is the most popular fantasy sport contributing to 36% of the indusry revenue hence mchezopesa focusses on football. The main objective of mchezopesa is to make accurate projections that will optimize winning chances of fantasy sports players hence attracting new players and maintaing existing players.\n",
        "\n",
        "Mchezopesa users focus on three factors i.e the home team, the away team and the type of tournament. i.e either the home team will win or the away team will win based on the type of match they have selected.As the football analyst of mchezopesa, I have a task to ensure the players make winning moves by making the most accurate predictions based on the data available."
      ]
    },
    {
      "cell_type": "markdown",
      "metadata": {
        "id": "RrR5_KhigXjp",
        "colab_type": "text"
      },
      "source": [
        "### Recording the experimental design"
      ]
    },
    {
      "cell_type": "markdown",
      "metadata": {
        "id": "uq2HThv9gcLq",
        "colab_type": "text"
      },
      "source": [
        "The following are the steps to take during this study:\n",
        "1.   Importing necessary dependencies and libraries\n",
        "2.   Loading datasets and investigating important features of the data\n",
        "3.   Merging the datasets\n",
        "4.   Performing EDA \n",
        "5.   Feature Engineering\n",
        "6.   Obtaining appropriate training and test sets \n",
        "7.   Fitting appropriate models to the sets\n",
        "8.   Evaluating the models i.e cross-validation, multi-collinearity and hyperparameter tuning\n",
        "\n"
      ]
    },
    {
      "cell_type": "markdown",
      "metadata": {
        "id": "qUV1Dqdf63jl",
        "colab_type": "text"
      },
      "source": [
        "### Data Relevance"
      ]
    },
    {
      "cell_type": "markdown",
      "metadata": {
        "id": "HoHqJJoX66VG",
        "colab_type": "text"
      },
      "source": [
        "The data provided for this study consists of two datasets i.e fifa rankings and results datasets in csv files. Both datasets contain details of football teams, scores, tournaments, countries, rankings, dates of scores, dates of ranking and units used to find the rankings. As both datasets are equally important for the analyis, we will be required to merge them into one so we can utilize them both. \n",
        "\n",
        "A major decision that needs to be made is what variable we will merge our datasets on. There are columns that are similar to both datasets i.e country and date columns. Major concerns are on how to integrate the two datasets to ensure we maximize on the data and as a result get optimal results. For us to achieve this, we need to ensure we obtain an appropriate size of the data, minimize on duplicate values, and that we obtain a dataset that is less bias. \n",
        "\n",
        "For the reasons stated above, the better option is to integrete the data on the date columns. It is however important to note that both datasets have different records of years. The results dataset has years recorded from 1872 to 2019 while the fifa ranking dataset has years recorded from 1993 to 2018. This means that we will end up with a dataset that has greatly reduced in size as the merge will only integrete the dates both datasets have in common. Hence the final dataset we will analyze will be from 1993 - 2018 and not all that has been provided."
      ]
    },
    {
      "cell_type": "markdown",
      "metadata": {
        "id": "hbHJsqAoB2X6",
        "colab_type": "text"
      },
      "source": [
        "##2. Reading the data"
      ]
    },
    {
      "cell_type": "code",
      "metadata": {
        "id": "Sg0ZdmcaCnEP",
        "colab_type": "code",
        "colab": {}
      },
      "source": [
        "#importing our dependencies\n",
        "\n",
        "import pandas as pd\n",
        "import numpy as np\n",
        "import seaborn as sb\n",
        "import matplotlib.pyplot as plt\n",
        "sb.set_style()\n"
      ],
      "execution_count": null,
      "outputs": []
    },
    {
      "cell_type": "markdown",
      "metadata": {
        "id": "rLO--UKxCOXJ",
        "colab_type": "text"
      },
      "source": [
        "### Loading Datasets"
      ]
    },
    {
      "cell_type": "code",
      "metadata": {
        "id": "QOSgkpiHcdPw",
        "colab_type": "code",
        "colab": {
          "base_uri": "https://localhost:8080/",
          "height": 253
        },
        "outputId": "447b5e8b-35c3-4ef2-98f4-864b34a303f6"
      },
      "source": [
        "ranking = pd.read_csv(\"/content/fifa_ranking.csv\")\n",
        "\n",
        "# previewing the top part of the data\n",
        "ranking.head(4)"
      ],
      "execution_count": null,
      "outputs": [
        {
          "output_type": "execute_result",
          "data": {
            "text/html": [
              "<div>\n",
              "<style scoped>\n",
              "    .dataframe tbody tr th:only-of-type {\n",
              "        vertical-align: middle;\n",
              "    }\n",
              "\n",
              "    .dataframe tbody tr th {\n",
              "        vertical-align: top;\n",
              "    }\n",
              "\n",
              "    .dataframe thead th {\n",
              "        text-align: right;\n",
              "    }\n",
              "</style>\n",
              "<table border=\"1\" class=\"dataframe\">\n",
              "  <thead>\n",
              "    <tr style=\"text-align: right;\">\n",
              "      <th></th>\n",
              "      <th>rank</th>\n",
              "      <th>country_full</th>\n",
              "      <th>country_abrv</th>\n",
              "      <th>total_points</th>\n",
              "      <th>previous_points</th>\n",
              "      <th>rank_change</th>\n",
              "      <th>cur_year_avg</th>\n",
              "      <th>cur_year_avg_weighted</th>\n",
              "      <th>last_year_avg</th>\n",
              "      <th>last_year_avg_weighted</th>\n",
              "      <th>two_year_ago_avg</th>\n",
              "      <th>two_year_ago_weighted</th>\n",
              "      <th>three_year_ago_avg</th>\n",
              "      <th>three_year_ago_weighted</th>\n",
              "      <th>confederation</th>\n",
              "      <th>rank_date</th>\n",
              "    </tr>\n",
              "  </thead>\n",
              "  <tbody>\n",
              "    <tr>\n",
              "      <th>0</th>\n",
              "      <td>1</td>\n",
              "      <td>Germany</td>\n",
              "      <td>GER</td>\n",
              "      <td>0.0</td>\n",
              "      <td>57</td>\n",
              "      <td>0</td>\n",
              "      <td>0.0</td>\n",
              "      <td>0.0</td>\n",
              "      <td>0.0</td>\n",
              "      <td>0.0</td>\n",
              "      <td>0.0</td>\n",
              "      <td>0.0</td>\n",
              "      <td>0.0</td>\n",
              "      <td>0.0</td>\n",
              "      <td>UEFA</td>\n",
              "      <td>1993-08-08</td>\n",
              "    </tr>\n",
              "    <tr>\n",
              "      <th>1</th>\n",
              "      <td>2</td>\n",
              "      <td>Italy</td>\n",
              "      <td>ITA</td>\n",
              "      <td>0.0</td>\n",
              "      <td>57</td>\n",
              "      <td>0</td>\n",
              "      <td>0.0</td>\n",
              "      <td>0.0</td>\n",
              "      <td>0.0</td>\n",
              "      <td>0.0</td>\n",
              "      <td>0.0</td>\n",
              "      <td>0.0</td>\n",
              "      <td>0.0</td>\n",
              "      <td>0.0</td>\n",
              "      <td>UEFA</td>\n",
              "      <td>1993-08-08</td>\n",
              "    </tr>\n",
              "    <tr>\n",
              "      <th>2</th>\n",
              "      <td>3</td>\n",
              "      <td>Switzerland</td>\n",
              "      <td>SUI</td>\n",
              "      <td>0.0</td>\n",
              "      <td>50</td>\n",
              "      <td>9</td>\n",
              "      <td>0.0</td>\n",
              "      <td>0.0</td>\n",
              "      <td>0.0</td>\n",
              "      <td>0.0</td>\n",
              "      <td>0.0</td>\n",
              "      <td>0.0</td>\n",
              "      <td>0.0</td>\n",
              "      <td>0.0</td>\n",
              "      <td>UEFA</td>\n",
              "      <td>1993-08-08</td>\n",
              "    </tr>\n",
              "    <tr>\n",
              "      <th>3</th>\n",
              "      <td>4</td>\n",
              "      <td>Sweden</td>\n",
              "      <td>SWE</td>\n",
              "      <td>0.0</td>\n",
              "      <td>55</td>\n",
              "      <td>0</td>\n",
              "      <td>0.0</td>\n",
              "      <td>0.0</td>\n",
              "      <td>0.0</td>\n",
              "      <td>0.0</td>\n",
              "      <td>0.0</td>\n",
              "      <td>0.0</td>\n",
              "      <td>0.0</td>\n",
              "      <td>0.0</td>\n",
              "      <td>UEFA</td>\n",
              "      <td>1993-08-08</td>\n",
              "    </tr>\n",
              "  </tbody>\n",
              "</table>\n",
              "</div>"
            ],
            "text/plain": [
              "   rank country_full  ... confederation   rank_date\n",
              "0     1      Germany  ...          UEFA  1993-08-08\n",
              "1     2        Italy  ...          UEFA  1993-08-08\n",
              "2     3  Switzerland  ...          UEFA  1993-08-08\n",
              "3     4       Sweden  ...          UEFA  1993-08-08\n",
              "\n",
              "[4 rows x 16 columns]"
            ]
          },
          "metadata": {
            "tags": []
          },
          "execution_count": 4
        }
      ]
    },
    {
      "cell_type": "code",
      "metadata": {
        "id": "dMrpuvGjCkZr",
        "colab_type": "code",
        "colab": {
          "base_uri": "https://localhost:8080/",
          "height": 253
        },
        "outputId": "d68d51cf-d903-4674-8e9e-c194818dac5e"
      },
      "source": [
        "# previewing the bottom of the data\n",
        "\n",
        "ranking.tail(4)"
      ],
      "execution_count": null,
      "outputs": [
        {
          "output_type": "execute_result",
          "data": {
            "text/html": [
              "<div>\n",
              "<style scoped>\n",
              "    .dataframe tbody tr th:only-of-type {\n",
              "        vertical-align: middle;\n",
              "    }\n",
              "\n",
              "    .dataframe tbody tr th {\n",
              "        vertical-align: top;\n",
              "    }\n",
              "\n",
              "    .dataframe thead th {\n",
              "        text-align: right;\n",
              "    }\n",
              "</style>\n",
              "<table border=\"1\" class=\"dataframe\">\n",
              "  <thead>\n",
              "    <tr style=\"text-align: right;\">\n",
              "      <th></th>\n",
              "      <th>rank</th>\n",
              "      <th>country_full</th>\n",
              "      <th>country_abrv</th>\n",
              "      <th>total_points</th>\n",
              "      <th>previous_points</th>\n",
              "      <th>rank_change</th>\n",
              "      <th>cur_year_avg</th>\n",
              "      <th>cur_year_avg_weighted</th>\n",
              "      <th>last_year_avg</th>\n",
              "      <th>last_year_avg_weighted</th>\n",
              "      <th>two_year_ago_avg</th>\n",
              "      <th>two_year_ago_weighted</th>\n",
              "      <th>three_year_ago_avg</th>\n",
              "      <th>three_year_ago_weighted</th>\n",
              "      <th>confederation</th>\n",
              "      <th>rank_date</th>\n",
              "    </tr>\n",
              "  </thead>\n",
              "  <tbody>\n",
              "    <tr>\n",
              "      <th>57789</th>\n",
              "      <td>206</td>\n",
              "      <td>Bahamas</td>\n",
              "      <td>BAH</td>\n",
              "      <td>0.0</td>\n",
              "      <td>0</td>\n",
              "      <td>1</td>\n",
              "      <td>0.0</td>\n",
              "      <td>0.0</td>\n",
              "      <td>0.0</td>\n",
              "      <td>0.0</td>\n",
              "      <td>0.0</td>\n",
              "      <td>0.0</td>\n",
              "      <td>0.0</td>\n",
              "      <td>0.0</td>\n",
              "      <td>CONCACAF</td>\n",
              "      <td>2018-06-07</td>\n",
              "    </tr>\n",
              "    <tr>\n",
              "      <th>57790</th>\n",
              "      <td>206</td>\n",
              "      <td>Eritrea</td>\n",
              "      <td>ERI</td>\n",
              "      <td>0.0</td>\n",
              "      <td>0</td>\n",
              "      <td>1</td>\n",
              "      <td>0.0</td>\n",
              "      <td>0.0</td>\n",
              "      <td>0.0</td>\n",
              "      <td>0.0</td>\n",
              "      <td>0.0</td>\n",
              "      <td>0.0</td>\n",
              "      <td>0.0</td>\n",
              "      <td>0.0</td>\n",
              "      <td>CAF</td>\n",
              "      <td>2018-06-07</td>\n",
              "    </tr>\n",
              "    <tr>\n",
              "      <th>57791</th>\n",
              "      <td>206</td>\n",
              "      <td>Somalia</td>\n",
              "      <td>SOM</td>\n",
              "      <td>0.0</td>\n",
              "      <td>0</td>\n",
              "      <td>1</td>\n",
              "      <td>0.0</td>\n",
              "      <td>0.0</td>\n",
              "      <td>0.0</td>\n",
              "      <td>0.0</td>\n",
              "      <td>0.0</td>\n",
              "      <td>0.0</td>\n",
              "      <td>0.0</td>\n",
              "      <td>0.0</td>\n",
              "      <td>CAF</td>\n",
              "      <td>2018-06-07</td>\n",
              "    </tr>\n",
              "    <tr>\n",
              "      <th>57792</th>\n",
              "      <td>206</td>\n",
              "      <td>Tonga</td>\n",
              "      <td>TGA</td>\n",
              "      <td>0.0</td>\n",
              "      <td>0</td>\n",
              "      <td>1</td>\n",
              "      <td>0.0</td>\n",
              "      <td>0.0</td>\n",
              "      <td>0.0</td>\n",
              "      <td>0.0</td>\n",
              "      <td>0.0</td>\n",
              "      <td>0.0</td>\n",
              "      <td>0.0</td>\n",
              "      <td>0.0</td>\n",
              "      <td>OFC</td>\n",
              "      <td>2018-06-07</td>\n",
              "    </tr>\n",
              "  </tbody>\n",
              "</table>\n",
              "</div>"
            ],
            "text/plain": [
              "       rank country_full  ... confederation   rank_date\n",
              "57789   206      Bahamas  ...      CONCACAF  2018-06-07\n",
              "57790   206      Eritrea  ...           CAF  2018-06-07\n",
              "57791   206      Somalia  ...           CAF  2018-06-07\n",
              "57792   206        Tonga  ...           OFC  2018-06-07\n",
              "\n",
              "[4 rows x 16 columns]"
            ]
          },
          "metadata": {
            "tags": []
          },
          "execution_count": 5
        }
      ]
    },
    {
      "cell_type": "code",
      "metadata": {
        "id": "r9jmXyIBN7CO",
        "colab_type": "code",
        "colab": {
          "base_uri": "https://localhost:8080/",
          "height": 302
        },
        "outputId": "86a1e8b3-ea96-49fd-a794-842ce88684f4"
      },
      "source": [
        "ranking.nunique()"
      ],
      "execution_count": null,
      "outputs": [
        {
          "output_type": "execute_result",
          "data": {
            "text/plain": [
              "rank                         209\n",
              "country_full                 216\n",
              "country_abrv                 216\n",
              "total_points               11114\n",
              "previous_points             1557\n",
              "rank_change                  121\n",
              "cur_year_avg                7419\n",
              "cur_year_avg_weighted       7419\n",
              "last_year_avg               7473\n",
              "last_year_avg_weighted      7001\n",
              "two_year_ago_avg            7575\n",
              "two_year_ago_weighted       6513\n",
              "three_year_ago_avg          7628\n",
              "three_year_ago_weighted     5849\n",
              "confederation                  6\n",
              "rank_date                    286\n",
              "dtype: int64"
            ]
          },
          "metadata": {
            "tags": []
          },
          "execution_count": 6
        }
      ]
    },
    {
      "cell_type": "code",
      "metadata": {
        "id": "VHIgV2pqFKiu",
        "colab_type": "code",
        "colab": {
          "base_uri": "https://localhost:8080/",
          "height": 118
        },
        "outputId": "df025072-62bc-42c1-b193-553aed5640bd"
      },
      "source": [
        "#exploring columns in the rankings dataset\n",
        "\n",
        "ranking.columns"
      ],
      "execution_count": null,
      "outputs": [
        {
          "output_type": "execute_result",
          "data": {
            "text/plain": [
              "Index(['rank', 'country_full', 'country_abrv', 'total_points',\n",
              "       'previous_points', 'rank_change', 'cur_year_avg',\n",
              "       'cur_year_avg_weighted', 'last_year_avg', 'last_year_avg_weighted',\n",
              "       'two_year_ago_avg', 'two_year_ago_weighted', 'three_year_ago_avg',\n",
              "       'three_year_ago_weighted', 'confederation', 'rank_date'],\n",
              "      dtype='object')"
            ]
          },
          "metadata": {
            "tags": []
          },
          "execution_count": 7
        }
      ]
    },
    {
      "cell_type": "code",
      "metadata": {
        "id": "9-dL4f_zA2uw",
        "colab_type": "code",
        "colab": {
          "base_uri": "https://localhost:8080/",
          "height": 34
        },
        "outputId": "7e9e7910-d210-426d-8b34-a7dab630038e"
      },
      "source": [
        "#finding the size of the ranking dataset\n",
        "\n",
        "ranking.shape"
      ],
      "execution_count": null,
      "outputs": [
        {
          "output_type": "execute_result",
          "data": {
            "text/plain": [
              "(57793, 16)"
            ]
          },
          "metadata": {
            "tags": []
          },
          "execution_count": 8
        }
      ]
    },
    {
      "cell_type": "markdown",
      "metadata": {
        "id": "eoQattjyCmFM",
        "colab_type": "text"
      },
      "source": [
        "We have a total of 57,793 records and 16 columns in the dataset"
      ]
    },
    {
      "cell_type": "code",
      "metadata": {
        "id": "DLpm7WXwQXoq",
        "colab_type": "code",
        "colab": {
          "base_uri": "https://localhost:8080/",
          "height": 302
        },
        "outputId": "732b3c6f-a7f9-4c85-85d8-291ed8140e05"
      },
      "source": [
        "#checking datatypes for the columns\n",
        "\n",
        "ranking.dtypes"
      ],
      "execution_count": null,
      "outputs": [
        {
          "output_type": "execute_result",
          "data": {
            "text/plain": [
              "rank                         int64\n",
              "country_full                object\n",
              "country_abrv                object\n",
              "total_points               float64\n",
              "previous_points              int64\n",
              "rank_change                  int64\n",
              "cur_year_avg               float64\n",
              "cur_year_avg_weighted      float64\n",
              "last_year_avg              float64\n",
              "last_year_avg_weighted     float64\n",
              "two_year_ago_avg           float64\n",
              "two_year_ago_weighted      float64\n",
              "three_year_ago_avg         float64\n",
              "three_year_ago_weighted    float64\n",
              "confederation               object\n",
              "rank_date                   object\n",
              "dtype: object"
            ]
          },
          "metadata": {
            "tags": []
          },
          "execution_count": 9
        }
      ]
    },
    {
      "cell_type": "markdown",
      "metadata": {
        "id": "yW6sM0F6UYIi",
        "colab_type": "text"
      },
      "source": [
        "All the columns seem to be of appropriate datatypes except for the rank date which is an object but a more appropriate datatype is datetime"
      ]
    },
    {
      "cell_type": "code",
      "metadata": {
        "id": "htHktcbkMzXc",
        "colab_type": "code",
        "colab": {}
      },
      "source": [
        "#converting rank date to datetime data type\n",
        "\n",
        "ranking['rank_date'] = pd.to_datetime(ranking['rank_date'])"
      ],
      "execution_count": null,
      "outputs": []
    },
    {
      "cell_type": "code",
      "metadata": {
        "id": "a7YGwRAaDqA8",
        "colab_type": "code",
        "colab": {
          "base_uri": "https://localhost:8080/",
          "height": 166
        },
        "outputId": "809857c7-09a6-4323-ea18-6ec6b664c373"
      },
      "source": [
        "# loading the results dataset\n",
        "\n",
        "results = pd.read_csv(\"/content/results.csv\", encoding = 'latin1')\n",
        "results.head(4)"
      ],
      "execution_count": null,
      "outputs": [
        {
          "output_type": "execute_result",
          "data": {
            "text/html": [
              "<div>\n",
              "<style scoped>\n",
              "    .dataframe tbody tr th:only-of-type {\n",
              "        vertical-align: middle;\n",
              "    }\n",
              "\n",
              "    .dataframe tbody tr th {\n",
              "        vertical-align: top;\n",
              "    }\n",
              "\n",
              "    .dataframe thead th {\n",
              "        text-align: right;\n",
              "    }\n",
              "</style>\n",
              "<table border=\"1\" class=\"dataframe\">\n",
              "  <thead>\n",
              "    <tr style=\"text-align: right;\">\n",
              "      <th></th>\n",
              "      <th>date</th>\n",
              "      <th>home_team</th>\n",
              "      <th>away_team</th>\n",
              "      <th>home_score</th>\n",
              "      <th>away_score</th>\n",
              "      <th>tournament</th>\n",
              "      <th>city</th>\n",
              "      <th>country</th>\n",
              "      <th>neutral</th>\n",
              "    </tr>\n",
              "  </thead>\n",
              "  <tbody>\n",
              "    <tr>\n",
              "      <th>0</th>\n",
              "      <td>1872-11-30</td>\n",
              "      <td>Scotland</td>\n",
              "      <td>England</td>\n",
              "      <td>0</td>\n",
              "      <td>0</td>\n",
              "      <td>Friendly</td>\n",
              "      <td>Glasgow</td>\n",
              "      <td>Scotland</td>\n",
              "      <td>False</td>\n",
              "    </tr>\n",
              "    <tr>\n",
              "      <th>1</th>\n",
              "      <td>1873-03-08</td>\n",
              "      <td>England</td>\n",
              "      <td>Scotland</td>\n",
              "      <td>4</td>\n",
              "      <td>2</td>\n",
              "      <td>Friendly</td>\n",
              "      <td>London</td>\n",
              "      <td>England</td>\n",
              "      <td>False</td>\n",
              "    </tr>\n",
              "    <tr>\n",
              "      <th>2</th>\n",
              "      <td>1874-03-07</td>\n",
              "      <td>Scotland</td>\n",
              "      <td>England</td>\n",
              "      <td>2</td>\n",
              "      <td>1</td>\n",
              "      <td>Friendly</td>\n",
              "      <td>Glasgow</td>\n",
              "      <td>Scotland</td>\n",
              "      <td>False</td>\n",
              "    </tr>\n",
              "    <tr>\n",
              "      <th>3</th>\n",
              "      <td>1875-03-06</td>\n",
              "      <td>England</td>\n",
              "      <td>Scotland</td>\n",
              "      <td>2</td>\n",
              "      <td>2</td>\n",
              "      <td>Friendly</td>\n",
              "      <td>London</td>\n",
              "      <td>England</td>\n",
              "      <td>False</td>\n",
              "    </tr>\n",
              "  </tbody>\n",
              "</table>\n",
              "</div>"
            ],
            "text/plain": [
              "         date home_team away_team  ...     city   country neutral\n",
              "0  1872-11-30  Scotland   England  ...  Glasgow  Scotland   False\n",
              "1  1873-03-08   England  Scotland  ...   London   England   False\n",
              "2  1874-03-07  Scotland   England  ...  Glasgow  Scotland   False\n",
              "3  1875-03-06   England  Scotland  ...   London   England   False\n",
              "\n",
              "[4 rows x 9 columns]"
            ]
          },
          "metadata": {
            "tags": []
          },
          "execution_count": 11
        }
      ]
    },
    {
      "cell_type": "code",
      "metadata": {
        "id": "DqY9TYF1EHTl",
        "colab_type": "code",
        "colab": {
          "base_uri": "https://localhost:8080/",
          "height": 166
        },
        "outputId": "c08b437e-e2d9-480b-ce79-1acc5b8819e7"
      },
      "source": [
        "# previewing the bottom part of the dataset\n",
        "\n",
        "results.tail(4)"
      ],
      "execution_count": null,
      "outputs": [
        {
          "output_type": "execute_result",
          "data": {
            "text/html": [
              "<div>\n",
              "<style scoped>\n",
              "    .dataframe tbody tr th:only-of-type {\n",
              "        vertical-align: middle;\n",
              "    }\n",
              "\n",
              "    .dataframe tbody tr th {\n",
              "        vertical-align: top;\n",
              "    }\n",
              "\n",
              "    .dataframe thead th {\n",
              "        text-align: right;\n",
              "    }\n",
              "</style>\n",
              "<table border=\"1\" class=\"dataframe\">\n",
              "  <thead>\n",
              "    <tr style=\"text-align: right;\">\n",
              "      <th></th>\n",
              "      <th>date</th>\n",
              "      <th>home_team</th>\n",
              "      <th>away_team</th>\n",
              "      <th>home_score</th>\n",
              "      <th>away_score</th>\n",
              "      <th>tournament</th>\n",
              "      <th>city</th>\n",
              "      <th>country</th>\n",
              "      <th>neutral</th>\n",
              "    </tr>\n",
              "  </thead>\n",
              "  <tbody>\n",
              "    <tr>\n",
              "      <th>40835</th>\n",
              "      <td>2019-07-18</td>\n",
              "      <td>Fiji</td>\n",
              "      <td>Solomon Islands</td>\n",
              "      <td>4</td>\n",
              "      <td>4</td>\n",
              "      <td>Pacific Games</td>\n",
              "      <td>Apia</td>\n",
              "      <td>Samoa</td>\n",
              "      <td>True</td>\n",
              "    </tr>\n",
              "    <tr>\n",
              "      <th>40836</th>\n",
              "      <td>2019-07-19</td>\n",
              "      <td>Senegal</td>\n",
              "      <td>Algeria</td>\n",
              "      <td>0</td>\n",
              "      <td>1</td>\n",
              "      <td>African Cup of Nations</td>\n",
              "      <td>Cairo</td>\n",
              "      <td>Egypt</td>\n",
              "      <td>True</td>\n",
              "    </tr>\n",
              "    <tr>\n",
              "      <th>40837</th>\n",
              "      <td>2019-07-19</td>\n",
              "      <td>Tajikistan</td>\n",
              "      <td>North Korea</td>\n",
              "      <td>0</td>\n",
              "      <td>1</td>\n",
              "      <td>Intercontinental Cup</td>\n",
              "      <td>Ahmedabad</td>\n",
              "      <td>India</td>\n",
              "      <td>True</td>\n",
              "    </tr>\n",
              "    <tr>\n",
              "      <th>40838</th>\n",
              "      <td>2019-07-20</td>\n",
              "      <td>Papua New Guinea</td>\n",
              "      <td>Fiji</td>\n",
              "      <td>1</td>\n",
              "      <td>1</td>\n",
              "      <td>Pacific Games</td>\n",
              "      <td>Apia</td>\n",
              "      <td>Samoa</td>\n",
              "      <td>True</td>\n",
              "    </tr>\n",
              "  </tbody>\n",
              "</table>\n",
              "</div>"
            ],
            "text/plain": [
              "             date         home_team  ... country  neutral\n",
              "40835  2019-07-18              Fiji  ...   Samoa     True\n",
              "40836  2019-07-19           Senegal  ...   Egypt     True\n",
              "40837  2019-07-19        Tajikistan  ...   India     True\n",
              "40838  2019-07-20  Papua New Guinea  ...   Samoa     True\n",
              "\n",
              "[4 rows x 9 columns]"
            ]
          },
          "metadata": {
            "tags": []
          },
          "execution_count": 12
        }
      ]
    },
    {
      "cell_type": "code",
      "metadata": {
        "id": "V64uuz4CET8c",
        "colab_type": "code",
        "colab": {
          "base_uri": "https://localhost:8080/",
          "height": 67
        },
        "outputId": "6afd2842-1c58-4eb2-dccf-ddd8101f13ce"
      },
      "source": [
        "# checking into the columns in the dataset\n",
        "\n",
        "results.columns"
      ],
      "execution_count": null,
      "outputs": [
        {
          "output_type": "execute_result",
          "data": {
            "text/plain": [
              "Index(['date', 'home_team', 'away_team', 'home_score', 'away_score',\n",
              "       'tournament', 'city', 'country', 'neutral'],\n",
              "      dtype='object')"
            ]
          },
          "metadata": {
            "tags": []
          },
          "execution_count": 13
        }
      ]
    },
    {
      "cell_type": "code",
      "metadata": {
        "id": "WkJKvwA3A8e1",
        "colab_type": "code",
        "colab": {
          "base_uri": "https://localhost:8080/",
          "height": 34
        },
        "outputId": "9379b197-6ee7-4333-c349-a260f15f63fb"
      },
      "source": [
        "# checking the size of the dataset\n",
        "\n",
        "results.shape"
      ],
      "execution_count": null,
      "outputs": [
        {
          "output_type": "execute_result",
          "data": {
            "text/plain": [
              "(40839, 9)"
            ]
          },
          "metadata": {
            "tags": []
          },
          "execution_count": 14
        }
      ]
    },
    {
      "cell_type": "markdown",
      "metadata": {
        "id": "TArO68g6jsvS",
        "colab_type": "text"
      },
      "source": [
        "The dataset has 40,839 records and 9 columns "
      ]
    },
    {
      "cell_type": "code",
      "metadata": {
        "id": "aYyYbMIO4hCO",
        "colab_type": "code",
        "colab": {
          "base_uri": "https://localhost:8080/",
          "height": 185
        },
        "outputId": "eeb2bbe1-f5f3-44f1-9a83-b13152e434a0"
      },
      "source": [
        "# checking unique values of the dataset\n",
        "\n",
        "results.nunique()"
      ],
      "execution_count": null,
      "outputs": [
        {
          "output_type": "execute_result",
          "data": {
            "text/plain": [
              "date          15115\n",
              "home_team       309\n",
              "away_team       306\n",
              "home_score       26\n",
              "away_score       22\n",
              "tournament      109\n",
              "city           1960\n",
              "country         266\n",
              "neutral           2\n",
              "dtype: int64"
            ]
          },
          "metadata": {
            "tags": []
          },
          "execution_count": 15
        }
      ]
    },
    {
      "cell_type": "code",
      "metadata": {
        "id": "-lR7taD73Bt3",
        "colab_type": "code",
        "colab": {
          "base_uri": "https://localhost:8080/",
          "height": 185
        },
        "outputId": "66970611-c06d-4866-a312-633dec17a764"
      },
      "source": [
        "# exploring datatypes of the different columns \n",
        "\n",
        "results.dtypes"
      ],
      "execution_count": null,
      "outputs": [
        {
          "output_type": "execute_result",
          "data": {
            "text/plain": [
              "date          object\n",
              "home_team     object\n",
              "away_team     object\n",
              "home_score     int64\n",
              "away_score     int64\n",
              "tournament    object\n",
              "city          object\n",
              "country       object\n",
              "neutral         bool\n",
              "dtype: object"
            ]
          },
          "metadata": {
            "tags": []
          },
          "execution_count": 16
        }
      ]
    },
    {
      "cell_type": "markdown",
      "metadata": {
        "id": "dzillDM3j8x7",
        "colab_type": "text"
      },
      "source": [
        "All columns have appropriate datasets except for the date column that is an object. We need to convert it to datetime datatype."
      ]
    },
    {
      "cell_type": "code",
      "metadata": {
        "id": "OhNb9pzj1xeu",
        "colab_type": "code",
        "colab": {}
      },
      "source": [
        "#converting date column to datetime data type\n",
        "\n",
        "results['date'] = pd.to_datetime(results['date'])\n"
      ],
      "execution_count": null,
      "outputs": []
    },
    {
      "cell_type": "code",
      "metadata": {
        "id": "L-5isDzS38Ga",
        "colab_type": "code",
        "colab": {
          "base_uri": "https://localhost:8080/",
          "height": 185
        },
        "outputId": "fe778be5-46d0-4b81-ac2c-1f25355837d6"
      },
      "source": [
        "results.dtypes"
      ],
      "execution_count": null,
      "outputs": [
        {
          "output_type": "execute_result",
          "data": {
            "text/plain": [
              "date          datetime64[ns]\n",
              "home_team             object\n",
              "away_team             object\n",
              "home_score             int64\n",
              "away_score             int64\n",
              "tournament            object\n",
              "city                  object\n",
              "country               object\n",
              "neutral                 bool\n",
              "dtype: object"
            ]
          },
          "metadata": {
            "tags": []
          },
          "execution_count": 18
        }
      ]
    },
    {
      "cell_type": "markdown",
      "metadata": {
        "id": "gbH0rsPxZDTl",
        "colab_type": "text"
      },
      "source": [
        "### Merging the Datasets"
      ]
    },
    {
      "cell_type": "code",
      "metadata": {
        "id": "sMmDAFWNZhPO",
        "colab_type": "code",
        "colab": {}
      },
      "source": [
        "#rename country in the ranking dataset to avoid duplicats\n",
        "\n",
        "ranking = ranking.rename(columns = {\"country_full\" : \"country\"})"
      ],
      "execution_count": null,
      "outputs": []
    },
    {
      "cell_type": "code",
      "metadata": {
        "id": "PSVsPMBqiGj8",
        "colab_type": "code",
        "colab": {
          "base_uri": "https://localhost:8080/",
          "height": 286
        },
        "outputId": "09d2e040-f44b-46d4-d3b0-4a9a70e22f4d"
      },
      "source": [
        "# merging the main dataset\n",
        "football = results.merge(ranking, left_on = ['date', 'home_team'],\n",
        "                          right_on = ['rank_date', 'country'])\n",
        "football = results.merge(ranking, left_on = ['date', 'away_team'],\n",
        "                          right_on = ['rank_date', 'country'], suffixes =('_home', '_away_'))\n",
        "football.head(4)"
      ],
      "execution_count": null,
      "outputs": [
        {
          "output_type": "execute_result",
          "data": {
            "text/html": [
              "<div>\n",
              "<style scoped>\n",
              "    .dataframe tbody tr th:only-of-type {\n",
              "        vertical-align: middle;\n",
              "    }\n",
              "\n",
              "    .dataframe tbody tr th {\n",
              "        vertical-align: top;\n",
              "    }\n",
              "\n",
              "    .dataframe thead th {\n",
              "        text-align: right;\n",
              "    }\n",
              "</style>\n",
              "<table border=\"1\" class=\"dataframe\">\n",
              "  <thead>\n",
              "    <tr style=\"text-align: right;\">\n",
              "      <th></th>\n",
              "      <th>date</th>\n",
              "      <th>home_team</th>\n",
              "      <th>away_team</th>\n",
              "      <th>home_score</th>\n",
              "      <th>away_score</th>\n",
              "      <th>tournament</th>\n",
              "      <th>city</th>\n",
              "      <th>country_home</th>\n",
              "      <th>neutral</th>\n",
              "      <th>rank</th>\n",
              "      <th>country_away_</th>\n",
              "      <th>country_abrv</th>\n",
              "      <th>total_points</th>\n",
              "      <th>previous_points</th>\n",
              "      <th>rank_change</th>\n",
              "      <th>cur_year_avg</th>\n",
              "      <th>cur_year_avg_weighted</th>\n",
              "      <th>last_year_avg</th>\n",
              "      <th>last_year_avg_weighted</th>\n",
              "      <th>two_year_ago_avg</th>\n",
              "      <th>two_year_ago_weighted</th>\n",
              "      <th>three_year_ago_avg</th>\n",
              "      <th>three_year_ago_weighted</th>\n",
              "      <th>confederation</th>\n",
              "      <th>rank_date</th>\n",
              "    </tr>\n",
              "  </thead>\n",
              "  <tbody>\n",
              "    <tr>\n",
              "      <th>0</th>\n",
              "      <td>1993-08-08</td>\n",
              "      <td>Bolivia</td>\n",
              "      <td>Uruguay</td>\n",
              "      <td>3</td>\n",
              "      <td>1</td>\n",
              "      <td>FIFA World Cup qualification</td>\n",
              "      <td>La Paz</td>\n",
              "      <td>Bolivia</td>\n",
              "      <td>False</td>\n",
              "      <td>22</td>\n",
              "      <td>Uruguay</td>\n",
              "      <td>URU</td>\n",
              "      <td>0.0</td>\n",
              "      <td>47</td>\n",
              "      <td>-6</td>\n",
              "      <td>0.0</td>\n",
              "      <td>0.0</td>\n",
              "      <td>0.0</td>\n",
              "      <td>0.0</td>\n",
              "      <td>0.0</td>\n",
              "      <td>0.0</td>\n",
              "      <td>0.0</td>\n",
              "      <td>0.0</td>\n",
              "      <td>CONMEBOL</td>\n",
              "      <td>1993-08-08</td>\n",
              "    </tr>\n",
              "    <tr>\n",
              "      <th>1</th>\n",
              "      <td>1993-08-08</td>\n",
              "      <td>Brazil</td>\n",
              "      <td>Mexico</td>\n",
              "      <td>1</td>\n",
              "      <td>1</td>\n",
              "      <td>Friendly</td>\n",
              "      <td>MaceiÃ³</td>\n",
              "      <td>Brazil</td>\n",
              "      <td>False</td>\n",
              "      <td>14</td>\n",
              "      <td>Mexico</td>\n",
              "      <td>MEX</td>\n",
              "      <td>0.0</td>\n",
              "      <td>42</td>\n",
              "      <td>11</td>\n",
              "      <td>0.0</td>\n",
              "      <td>0.0</td>\n",
              "      <td>0.0</td>\n",
              "      <td>0.0</td>\n",
              "      <td>0.0</td>\n",
              "      <td>0.0</td>\n",
              "      <td>0.0</td>\n",
              "      <td>0.0</td>\n",
              "      <td>CONCACAF</td>\n",
              "      <td>1993-08-08</td>\n",
              "    </tr>\n",
              "    <tr>\n",
              "      <th>2</th>\n",
              "      <td>1993-08-08</td>\n",
              "      <td>Ecuador</td>\n",
              "      <td>Venezuela</td>\n",
              "      <td>5</td>\n",
              "      <td>0</td>\n",
              "      <td>FIFA World Cup qualification</td>\n",
              "      <td>Quito</td>\n",
              "      <td>Ecuador</td>\n",
              "      <td>False</td>\n",
              "      <td>94</td>\n",
              "      <td>Venezuela</td>\n",
              "      <td>VEN</td>\n",
              "      <td>0.0</td>\n",
              "      <td>4</td>\n",
              "      <td>31</td>\n",
              "      <td>0.0</td>\n",
              "      <td>0.0</td>\n",
              "      <td>0.0</td>\n",
              "      <td>0.0</td>\n",
              "      <td>0.0</td>\n",
              "      <td>0.0</td>\n",
              "      <td>0.0</td>\n",
              "      <td>0.0</td>\n",
              "      <td>CONMEBOL</td>\n",
              "      <td>1993-08-08</td>\n",
              "    </tr>\n",
              "    <tr>\n",
              "      <th>3</th>\n",
              "      <td>1993-08-08</td>\n",
              "      <td>Guinea</td>\n",
              "      <td>Sierra Leone</td>\n",
              "      <td>1</td>\n",
              "      <td>0</td>\n",
              "      <td>Friendly</td>\n",
              "      <td>Conakry</td>\n",
              "      <td>Guinea</td>\n",
              "      <td>False</td>\n",
              "      <td>86</td>\n",
              "      <td>Sierra Leone</td>\n",
              "      <td>SLE</td>\n",
              "      <td>0.0</td>\n",
              "      <td>16</td>\n",
              "      <td>-7</td>\n",
              "      <td>0.0</td>\n",
              "      <td>0.0</td>\n",
              "      <td>0.0</td>\n",
              "      <td>0.0</td>\n",
              "      <td>0.0</td>\n",
              "      <td>0.0</td>\n",
              "      <td>0.0</td>\n",
              "      <td>0.0</td>\n",
              "      <td>CAF</td>\n",
              "      <td>1993-08-08</td>\n",
              "    </tr>\n",
              "  </tbody>\n",
              "</table>\n",
              "</div>"
            ],
            "text/plain": [
              "        date home_team  ... confederation  rank_date\n",
              "0 1993-08-08   Bolivia  ...      CONMEBOL 1993-08-08\n",
              "1 1993-08-08    Brazil  ...      CONCACAF 1993-08-08\n",
              "2 1993-08-08   Ecuador  ...      CONMEBOL 1993-08-08\n",
              "3 1993-08-08    Guinea  ...           CAF 1993-08-08\n",
              "\n",
              "[4 rows x 25 columns]"
            ]
          },
          "metadata": {
            "tags": []
          },
          "execution_count": 20
        }
      ]
    },
    {
      "cell_type": "code",
      "metadata": {
        "id": "8USe_OYZNTdg",
        "colab_type": "code",
        "colab": {
          "base_uri": "https://localhost:8080/",
          "height": 286
        },
        "outputId": "15dee0ac-d4c8-4993-b44b-d9f870cdf796"
      },
      "source": [
        "#merging the two datasets on home team to obtain a dataset of home team countries with their rankings\n",
        "\n",
        "home_team = results.merge(ranking, left_on = ['date', 'home_team'],\n",
        "                          right_on = ['rank_date', 'country'])\n",
        "home_team.head(3)\n",
        "\n",
        "#renaming the rank and rank change columns to home team rank columns \n",
        "\n",
        "home_team = home_team.rename(columns = ({'rank' : 'home_team_rank', 'rank_change' : 'home_rank_change'}))\n",
        "home_team.head(4)"
      ],
      "execution_count": null,
      "outputs": [
        {
          "output_type": "execute_result",
          "data": {
            "text/html": [
              "<div>\n",
              "<style scoped>\n",
              "    .dataframe tbody tr th:only-of-type {\n",
              "        vertical-align: middle;\n",
              "    }\n",
              "\n",
              "    .dataframe tbody tr th {\n",
              "        vertical-align: top;\n",
              "    }\n",
              "\n",
              "    .dataframe thead th {\n",
              "        text-align: right;\n",
              "    }\n",
              "</style>\n",
              "<table border=\"1\" class=\"dataframe\">\n",
              "  <thead>\n",
              "    <tr style=\"text-align: right;\">\n",
              "      <th></th>\n",
              "      <th>date</th>\n",
              "      <th>home_team</th>\n",
              "      <th>away_team</th>\n",
              "      <th>home_score</th>\n",
              "      <th>away_score</th>\n",
              "      <th>tournament</th>\n",
              "      <th>city</th>\n",
              "      <th>country_x</th>\n",
              "      <th>neutral</th>\n",
              "      <th>home_team_rank</th>\n",
              "      <th>country_y</th>\n",
              "      <th>country_abrv</th>\n",
              "      <th>total_points</th>\n",
              "      <th>previous_points</th>\n",
              "      <th>home_rank_change</th>\n",
              "      <th>cur_year_avg</th>\n",
              "      <th>cur_year_avg_weighted</th>\n",
              "      <th>last_year_avg</th>\n",
              "      <th>last_year_avg_weighted</th>\n",
              "      <th>two_year_ago_avg</th>\n",
              "      <th>two_year_ago_weighted</th>\n",
              "      <th>three_year_ago_avg</th>\n",
              "      <th>three_year_ago_weighted</th>\n",
              "      <th>confederation</th>\n",
              "      <th>rank_date</th>\n",
              "    </tr>\n",
              "  </thead>\n",
              "  <tbody>\n",
              "    <tr>\n",
              "      <th>0</th>\n",
              "      <td>1993-08-08</td>\n",
              "      <td>Bolivia</td>\n",
              "      <td>Uruguay</td>\n",
              "      <td>3</td>\n",
              "      <td>1</td>\n",
              "      <td>FIFA World Cup qualification</td>\n",
              "      <td>La Paz</td>\n",
              "      <td>Bolivia</td>\n",
              "      <td>False</td>\n",
              "      <td>59</td>\n",
              "      <td>Bolivia</td>\n",
              "      <td>BOL</td>\n",
              "      <td>0.0</td>\n",
              "      <td>13</td>\n",
              "      <td>28</td>\n",
              "      <td>0.0</td>\n",
              "      <td>0.0</td>\n",
              "      <td>0.0</td>\n",
              "      <td>0.0</td>\n",
              "      <td>0.0</td>\n",
              "      <td>0.0</td>\n",
              "      <td>0.0</td>\n",
              "      <td>0.0</td>\n",
              "      <td>CONMEBOL</td>\n",
              "      <td>1993-08-08</td>\n",
              "    </tr>\n",
              "    <tr>\n",
              "      <th>1</th>\n",
              "      <td>1993-08-08</td>\n",
              "      <td>Brazil</td>\n",
              "      <td>Mexico</td>\n",
              "      <td>1</td>\n",
              "      <td>1</td>\n",
              "      <td>Friendly</td>\n",
              "      <td>MaceiÃ³</td>\n",
              "      <td>Brazil</td>\n",
              "      <td>False</td>\n",
              "      <td>8</td>\n",
              "      <td>Brazil</td>\n",
              "      <td>BRA</td>\n",
              "      <td>0.0</td>\n",
              "      <td>55</td>\n",
              "      <td>-5</td>\n",
              "      <td>0.0</td>\n",
              "      <td>0.0</td>\n",
              "      <td>0.0</td>\n",
              "      <td>0.0</td>\n",
              "      <td>0.0</td>\n",
              "      <td>0.0</td>\n",
              "      <td>0.0</td>\n",
              "      <td>0.0</td>\n",
              "      <td>CONMEBOL</td>\n",
              "      <td>1993-08-08</td>\n",
              "    </tr>\n",
              "    <tr>\n",
              "      <th>2</th>\n",
              "      <td>1993-08-08</td>\n",
              "      <td>Ecuador</td>\n",
              "      <td>Venezuela</td>\n",
              "      <td>5</td>\n",
              "      <td>0</td>\n",
              "      <td>FIFA World Cup qualification</td>\n",
              "      <td>Quito</td>\n",
              "      <td>Ecuador</td>\n",
              "      <td>False</td>\n",
              "      <td>35</td>\n",
              "      <td>Ecuador</td>\n",
              "      <td>ECU</td>\n",
              "      <td>0.0</td>\n",
              "      <td>23</td>\n",
              "      <td>30</td>\n",
              "      <td>0.0</td>\n",
              "      <td>0.0</td>\n",
              "      <td>0.0</td>\n",
              "      <td>0.0</td>\n",
              "      <td>0.0</td>\n",
              "      <td>0.0</td>\n",
              "      <td>0.0</td>\n",
              "      <td>0.0</td>\n",
              "      <td>CONMEBOL</td>\n",
              "      <td>1993-08-08</td>\n",
              "    </tr>\n",
              "    <tr>\n",
              "      <th>3</th>\n",
              "      <td>1993-08-08</td>\n",
              "      <td>Guinea</td>\n",
              "      <td>Sierra Leone</td>\n",
              "      <td>1</td>\n",
              "      <td>0</td>\n",
              "      <td>Friendly</td>\n",
              "      <td>Conakry</td>\n",
              "      <td>Guinea</td>\n",
              "      <td>False</td>\n",
              "      <td>65</td>\n",
              "      <td>Guinea</td>\n",
              "      <td>GUI</td>\n",
              "      <td>0.0</td>\n",
              "      <td>23</td>\n",
              "      <td>-2</td>\n",
              "      <td>0.0</td>\n",
              "      <td>0.0</td>\n",
              "      <td>0.0</td>\n",
              "      <td>0.0</td>\n",
              "      <td>0.0</td>\n",
              "      <td>0.0</td>\n",
              "      <td>0.0</td>\n",
              "      <td>0.0</td>\n",
              "      <td>CAF</td>\n",
              "      <td>1993-08-08</td>\n",
              "    </tr>\n",
              "  </tbody>\n",
              "</table>\n",
              "</div>"
            ],
            "text/plain": [
              "        date home_team  ... confederation  rank_date\n",
              "0 1993-08-08   Bolivia  ...      CONMEBOL 1993-08-08\n",
              "1 1993-08-08    Brazil  ...      CONMEBOL 1993-08-08\n",
              "2 1993-08-08   Ecuador  ...      CONMEBOL 1993-08-08\n",
              "3 1993-08-08    Guinea  ...           CAF 1993-08-08\n",
              "\n",
              "[4 rows x 25 columns]"
            ]
          },
          "metadata": {
            "tags": []
          },
          "execution_count": 21
        }
      ]
    },
    {
      "cell_type": "code",
      "metadata": {
        "id": "3p-yFHgiPE38",
        "colab_type": "code",
        "colab": {
          "base_uri": "https://localhost:8080/",
          "height": 286
        },
        "outputId": "6850634e-5c0d-408b-f39b-457cb4ae4c0a"
      },
      "source": [
        "#merging the two datasets on away team to obtain a dataset of away team countries with their rankings\n",
        "\n",
        "away_team = results.merge(ranking, left_on = ['date', 'away_team'],\n",
        "                          right_on = ['rank_date', 'country'], suffixes =('_home', '_away_'))\n",
        "away_team.tail(4)\n",
        "\n",
        "#renaming rank to away team rank\n",
        "\n",
        "away_team = away_team.rename(columns = {'rank' : 'away_team_rank', 'rank_change' : 'away_rank_change'})\n",
        "away_team.head(4)"
      ],
      "execution_count": null,
      "outputs": [
        {
          "output_type": "execute_result",
          "data": {
            "text/html": [
              "<div>\n",
              "<style scoped>\n",
              "    .dataframe tbody tr th:only-of-type {\n",
              "        vertical-align: middle;\n",
              "    }\n",
              "\n",
              "    .dataframe tbody tr th {\n",
              "        vertical-align: top;\n",
              "    }\n",
              "\n",
              "    .dataframe thead th {\n",
              "        text-align: right;\n",
              "    }\n",
              "</style>\n",
              "<table border=\"1\" class=\"dataframe\">\n",
              "  <thead>\n",
              "    <tr style=\"text-align: right;\">\n",
              "      <th></th>\n",
              "      <th>date</th>\n",
              "      <th>home_team</th>\n",
              "      <th>away_team</th>\n",
              "      <th>home_score</th>\n",
              "      <th>away_score</th>\n",
              "      <th>tournament</th>\n",
              "      <th>city</th>\n",
              "      <th>country_home</th>\n",
              "      <th>neutral</th>\n",
              "      <th>away_team_rank</th>\n",
              "      <th>country_away_</th>\n",
              "      <th>country_abrv</th>\n",
              "      <th>total_points</th>\n",
              "      <th>previous_points</th>\n",
              "      <th>away_rank_change</th>\n",
              "      <th>cur_year_avg</th>\n",
              "      <th>cur_year_avg_weighted</th>\n",
              "      <th>last_year_avg</th>\n",
              "      <th>last_year_avg_weighted</th>\n",
              "      <th>two_year_ago_avg</th>\n",
              "      <th>two_year_ago_weighted</th>\n",
              "      <th>three_year_ago_avg</th>\n",
              "      <th>three_year_ago_weighted</th>\n",
              "      <th>confederation</th>\n",
              "      <th>rank_date</th>\n",
              "    </tr>\n",
              "  </thead>\n",
              "  <tbody>\n",
              "    <tr>\n",
              "      <th>0</th>\n",
              "      <td>1993-08-08</td>\n",
              "      <td>Bolivia</td>\n",
              "      <td>Uruguay</td>\n",
              "      <td>3</td>\n",
              "      <td>1</td>\n",
              "      <td>FIFA World Cup qualification</td>\n",
              "      <td>La Paz</td>\n",
              "      <td>Bolivia</td>\n",
              "      <td>False</td>\n",
              "      <td>22</td>\n",
              "      <td>Uruguay</td>\n",
              "      <td>URU</td>\n",
              "      <td>0.0</td>\n",
              "      <td>47</td>\n",
              "      <td>-6</td>\n",
              "      <td>0.0</td>\n",
              "      <td>0.0</td>\n",
              "      <td>0.0</td>\n",
              "      <td>0.0</td>\n",
              "      <td>0.0</td>\n",
              "      <td>0.0</td>\n",
              "      <td>0.0</td>\n",
              "      <td>0.0</td>\n",
              "      <td>CONMEBOL</td>\n",
              "      <td>1993-08-08</td>\n",
              "    </tr>\n",
              "    <tr>\n",
              "      <th>1</th>\n",
              "      <td>1993-08-08</td>\n",
              "      <td>Brazil</td>\n",
              "      <td>Mexico</td>\n",
              "      <td>1</td>\n",
              "      <td>1</td>\n",
              "      <td>Friendly</td>\n",
              "      <td>MaceiÃ³</td>\n",
              "      <td>Brazil</td>\n",
              "      <td>False</td>\n",
              "      <td>14</td>\n",
              "      <td>Mexico</td>\n",
              "      <td>MEX</td>\n",
              "      <td>0.0</td>\n",
              "      <td>42</td>\n",
              "      <td>11</td>\n",
              "      <td>0.0</td>\n",
              "      <td>0.0</td>\n",
              "      <td>0.0</td>\n",
              "      <td>0.0</td>\n",
              "      <td>0.0</td>\n",
              "      <td>0.0</td>\n",
              "      <td>0.0</td>\n",
              "      <td>0.0</td>\n",
              "      <td>CONCACAF</td>\n",
              "      <td>1993-08-08</td>\n",
              "    </tr>\n",
              "    <tr>\n",
              "      <th>2</th>\n",
              "      <td>1993-08-08</td>\n",
              "      <td>Ecuador</td>\n",
              "      <td>Venezuela</td>\n",
              "      <td>5</td>\n",
              "      <td>0</td>\n",
              "      <td>FIFA World Cup qualification</td>\n",
              "      <td>Quito</td>\n",
              "      <td>Ecuador</td>\n",
              "      <td>False</td>\n",
              "      <td>94</td>\n",
              "      <td>Venezuela</td>\n",
              "      <td>VEN</td>\n",
              "      <td>0.0</td>\n",
              "      <td>4</td>\n",
              "      <td>31</td>\n",
              "      <td>0.0</td>\n",
              "      <td>0.0</td>\n",
              "      <td>0.0</td>\n",
              "      <td>0.0</td>\n",
              "      <td>0.0</td>\n",
              "      <td>0.0</td>\n",
              "      <td>0.0</td>\n",
              "      <td>0.0</td>\n",
              "      <td>CONMEBOL</td>\n",
              "      <td>1993-08-08</td>\n",
              "    </tr>\n",
              "    <tr>\n",
              "      <th>3</th>\n",
              "      <td>1993-08-08</td>\n",
              "      <td>Guinea</td>\n",
              "      <td>Sierra Leone</td>\n",
              "      <td>1</td>\n",
              "      <td>0</td>\n",
              "      <td>Friendly</td>\n",
              "      <td>Conakry</td>\n",
              "      <td>Guinea</td>\n",
              "      <td>False</td>\n",
              "      <td>86</td>\n",
              "      <td>Sierra Leone</td>\n",
              "      <td>SLE</td>\n",
              "      <td>0.0</td>\n",
              "      <td>16</td>\n",
              "      <td>-7</td>\n",
              "      <td>0.0</td>\n",
              "      <td>0.0</td>\n",
              "      <td>0.0</td>\n",
              "      <td>0.0</td>\n",
              "      <td>0.0</td>\n",
              "      <td>0.0</td>\n",
              "      <td>0.0</td>\n",
              "      <td>0.0</td>\n",
              "      <td>CAF</td>\n",
              "      <td>1993-08-08</td>\n",
              "    </tr>\n",
              "  </tbody>\n",
              "</table>\n",
              "</div>"
            ],
            "text/plain": [
              "        date home_team  ... confederation  rank_date\n",
              "0 1993-08-08   Bolivia  ...      CONMEBOL 1993-08-08\n",
              "1 1993-08-08    Brazil  ...      CONCACAF 1993-08-08\n",
              "2 1993-08-08   Ecuador  ...      CONMEBOL 1993-08-08\n",
              "3 1993-08-08    Guinea  ...           CAF 1993-08-08\n",
              "\n",
              "[4 rows x 25 columns]"
            ]
          },
          "metadata": {
            "tags": []
          },
          "execution_count": 22
        }
      ]
    },
    {
      "cell_type": "code",
      "metadata": {
        "id": "XPKYVMpkkUP5",
        "colab_type": "code",
        "colab": {
          "base_uri": "https://localhost:8080/",
          "height": 177
        },
        "outputId": "15e6bda9-9229-4f95-fe25-2597c4405a71"
      },
      "source": [
        "# adding home team rank, home team rank change, away team rank and away team rank change to the football dataframe\n",
        "football['home_team_rank'] = home_team['home_team_rank']\n",
        "football['away_team_rank'] = away_team['away_team_rank']\n",
        "football['home_team_rank_change'] = home_team['home_rank_change']\n",
        "football['away_team_rank_change'] = away_team['away_rank_change']\n",
        "\n",
        "\n",
        "football.head(2)"
      ],
      "execution_count": null,
      "outputs": [
        {
          "output_type": "execute_result",
          "data": {
            "text/html": [
              "<div>\n",
              "<style scoped>\n",
              "    .dataframe tbody tr th:only-of-type {\n",
              "        vertical-align: middle;\n",
              "    }\n",
              "\n",
              "    .dataframe tbody tr th {\n",
              "        vertical-align: top;\n",
              "    }\n",
              "\n",
              "    .dataframe thead th {\n",
              "        text-align: right;\n",
              "    }\n",
              "</style>\n",
              "<table border=\"1\" class=\"dataframe\">\n",
              "  <thead>\n",
              "    <tr style=\"text-align: right;\">\n",
              "      <th></th>\n",
              "      <th>date</th>\n",
              "      <th>home_team</th>\n",
              "      <th>away_team</th>\n",
              "      <th>home_score</th>\n",
              "      <th>away_score</th>\n",
              "      <th>tournament</th>\n",
              "      <th>city</th>\n",
              "      <th>country_home</th>\n",
              "      <th>neutral</th>\n",
              "      <th>rank</th>\n",
              "      <th>country_away_</th>\n",
              "      <th>country_abrv</th>\n",
              "      <th>total_points</th>\n",
              "      <th>previous_points</th>\n",
              "      <th>rank_change</th>\n",
              "      <th>cur_year_avg</th>\n",
              "      <th>cur_year_avg_weighted</th>\n",
              "      <th>last_year_avg</th>\n",
              "      <th>last_year_avg_weighted</th>\n",
              "      <th>two_year_ago_avg</th>\n",
              "      <th>two_year_ago_weighted</th>\n",
              "      <th>three_year_ago_avg</th>\n",
              "      <th>three_year_ago_weighted</th>\n",
              "      <th>confederation</th>\n",
              "      <th>rank_date</th>\n",
              "      <th>home_team_rank</th>\n",
              "      <th>away_team_rank</th>\n",
              "      <th>home_team_rank_change</th>\n",
              "      <th>away_team_rank_change</th>\n",
              "    </tr>\n",
              "  </thead>\n",
              "  <tbody>\n",
              "    <tr>\n",
              "      <th>0</th>\n",
              "      <td>1993-08-08</td>\n",
              "      <td>Bolivia</td>\n",
              "      <td>Uruguay</td>\n",
              "      <td>3</td>\n",
              "      <td>1</td>\n",
              "      <td>FIFA World Cup qualification</td>\n",
              "      <td>La Paz</td>\n",
              "      <td>Bolivia</td>\n",
              "      <td>False</td>\n",
              "      <td>22</td>\n",
              "      <td>Uruguay</td>\n",
              "      <td>URU</td>\n",
              "      <td>0.0</td>\n",
              "      <td>47</td>\n",
              "      <td>-6</td>\n",
              "      <td>0.0</td>\n",
              "      <td>0.0</td>\n",
              "      <td>0.0</td>\n",
              "      <td>0.0</td>\n",
              "      <td>0.0</td>\n",
              "      <td>0.0</td>\n",
              "      <td>0.0</td>\n",
              "      <td>0.0</td>\n",
              "      <td>CONMEBOL</td>\n",
              "      <td>1993-08-08</td>\n",
              "      <td>59</td>\n",
              "      <td>22</td>\n",
              "      <td>28</td>\n",
              "      <td>-6</td>\n",
              "    </tr>\n",
              "    <tr>\n",
              "      <th>1</th>\n",
              "      <td>1993-08-08</td>\n",
              "      <td>Brazil</td>\n",
              "      <td>Mexico</td>\n",
              "      <td>1</td>\n",
              "      <td>1</td>\n",
              "      <td>Friendly</td>\n",
              "      <td>MaceiÃ³</td>\n",
              "      <td>Brazil</td>\n",
              "      <td>False</td>\n",
              "      <td>14</td>\n",
              "      <td>Mexico</td>\n",
              "      <td>MEX</td>\n",
              "      <td>0.0</td>\n",
              "      <td>42</td>\n",
              "      <td>11</td>\n",
              "      <td>0.0</td>\n",
              "      <td>0.0</td>\n",
              "      <td>0.0</td>\n",
              "      <td>0.0</td>\n",
              "      <td>0.0</td>\n",
              "      <td>0.0</td>\n",
              "      <td>0.0</td>\n",
              "      <td>0.0</td>\n",
              "      <td>CONCACAF</td>\n",
              "      <td>1993-08-08</td>\n",
              "      <td>8</td>\n",
              "      <td>14</td>\n",
              "      <td>-5</td>\n",
              "      <td>11</td>\n",
              "    </tr>\n",
              "  </tbody>\n",
              "</table>\n",
              "</div>"
            ],
            "text/plain": [
              "        date home_team  ... home_team_rank_change  away_team_rank_change\n",
              "0 1993-08-08   Bolivia  ...                    28                     -6\n",
              "1 1993-08-08    Brazil  ...                    -5                     11\n",
              "\n",
              "[2 rows x 29 columns]"
            ]
          },
          "metadata": {
            "tags": []
          },
          "execution_count": 23
        }
      ]
    },
    {
      "cell_type": "markdown",
      "metadata": {
        "id": "sKDkV4IpGFBa",
        "colab_type": "text"
      },
      "source": [
        "##3. Checking the merged dataset"
      ]
    },
    {
      "cell_type": "code",
      "metadata": {
        "id": "jp2BNaPO5aZ_",
        "colab_type": "code",
        "colab": {
          "base_uri": "https://localhost:8080/",
          "height": 571
        },
        "outputId": "49bd6204-c793-47f5-9a4d-9082c9933d09"
      },
      "source": [
        "# splitting the rank date column to year, month and date\n",
        "\n",
        "football[['yy','mm','dd']] = football['rank_date'].astype(str).str.split('-', expand=True).astype(str)\n",
        "\n",
        "#checking the datatypes to ensure changes have been made\n",
        "football.dtypes"
      ],
      "execution_count": null,
      "outputs": [
        {
          "output_type": "execute_result",
          "data": {
            "text/plain": [
              "date                       datetime64[ns]\n",
              "home_team                          object\n",
              "away_team                          object\n",
              "home_score                          int64\n",
              "away_score                          int64\n",
              "tournament                         object\n",
              "city                               object\n",
              "country_home                       object\n",
              "neutral                              bool\n",
              "rank                                int64\n",
              "country_away_                      object\n",
              "country_abrv                       object\n",
              "total_points                      float64\n",
              "previous_points                     int64\n",
              "rank_change                         int64\n",
              "cur_year_avg                      float64\n",
              "cur_year_avg_weighted             float64\n",
              "last_year_avg                     float64\n",
              "last_year_avg_weighted            float64\n",
              "two_year_ago_avg                  float64\n",
              "two_year_ago_weighted             float64\n",
              "three_year_ago_avg                float64\n",
              "three_year_ago_weighted           float64\n",
              "confederation                      object\n",
              "rank_date                  datetime64[ns]\n",
              "home_team_rank                      int64\n",
              "away_team_rank                      int64\n",
              "home_team_rank_change               int64\n",
              "away_team_rank_change               int64\n",
              "yy                                 object\n",
              "mm                                 object\n",
              "dd                                 object\n",
              "dtype: object"
            ]
          },
          "metadata": {
            "tags": []
          },
          "execution_count": 24
        }
      ]
    },
    {
      "cell_type": "markdown",
      "metadata": {
        "id": "Rwg75b6xlqns",
        "colab_type": "text"
      },
      "source": [
        "The split year, months and date columns have been changed to string datatypes as we need the year column as a category variable for the study"
      ]
    },
    {
      "cell_type": "code",
      "metadata": {
        "id": "rquKf_giqGxl",
        "colab_type": "code",
        "colab": {
          "base_uri": "https://localhost:8080/",
          "height": 168
        },
        "outputId": "61b09f70-ccbd-42b7-facc-b2fc0a27e0e0"
      },
      "source": [
        "#checking our columns \n",
        "\n",
        "football.columns"
      ],
      "execution_count": null,
      "outputs": [
        {
          "output_type": "execute_result",
          "data": {
            "text/plain": [
              "Index(['date', 'home_team', 'away_team', 'home_score', 'away_score',\n",
              "       'tournament', 'city', 'country_home', 'neutral', 'rank',\n",
              "       'country_away_', 'country_abrv', 'total_points', 'previous_points',\n",
              "       'rank_change', 'cur_year_avg', 'cur_year_avg_weighted', 'last_year_avg',\n",
              "       'last_year_avg_weighted', 'two_year_ago_avg', 'two_year_ago_weighted',\n",
              "       'three_year_ago_avg', 'three_year_ago_weighted', 'confederation',\n",
              "       'rank_date', 'home_team_rank', 'away_team_rank',\n",
              "       'home_team_rank_change', 'away_team_rank_change', 'yy', 'mm', 'dd'],\n",
              "      dtype='object')"
            ]
          },
          "metadata": {
            "tags": []
          },
          "execution_count": 25
        }
      ]
    },
    {
      "cell_type": "markdown",
      "metadata": {
        "id": "N_MkSnbNGOh5",
        "colab_type": "text"
      },
      "source": [
        "Some columns have the same details, some have been repeated while others are irrelevant to our study hence the need to drop most columns "
      ]
    },
    {
      "cell_type": "code",
      "metadata": {
        "id": "XREfllXFdh4C",
        "colab_type": "code",
        "colab": {}
      },
      "source": [
        "# dropping irrelevent columns from the football dataset\n",
        "\n",
        "# football.drop(['date', 'city', 'country_home', 'rank', 'country_away_', 'country_abrv', 'rank_change', 'rank_date', 'mm', 'dd',\n",
        "                'neutral', 'total_points', 'previous_points', 'cur_year_avg', 'cur_year_avg_weighted','last_year_avg', 'last_year_avg_weighted',\n",
        "                'two_year_ago_avg', 'two_year_ago_weighted', 'three_year_ago_avg', 'three_year_ago_weighted', 'confederation', 'home_team_rank_change',\n",
        "                'away_team_rank_change'], axis = 1, inplace = True)"
      ],
      "execution_count": null,
      "outputs": []
    },
    {
      "cell_type": "code",
      "metadata": {
        "id": "4mUAGBU905p5",
        "colab_type": "code",
        "colab": {}
      },
      "source": [
        "# renaming yy to year \n",
        "football = football.rename(columns = {'yy' : 'year'})"
      ],
      "execution_count": null,
      "outputs": []
    },
    {
      "cell_type": "code",
      "metadata": {
        "id": "POdTBxZkd8ks",
        "colab_type": "code",
        "colab": {
          "base_uri": "https://localhost:8080/",
          "height": 67
        },
        "outputId": "2b66ab07-62a3-4e01-d4e0-a05ddd759728"
      },
      "source": [
        "# confirming we only have relevent columns in our dataset\n",
        "\n",
        "football.columns"
      ],
      "execution_count": null,
      "outputs": [
        {
          "output_type": "execute_result",
          "data": {
            "text/plain": [
              "Index(['home_team', 'away_team', 'home_score', 'away_score', 'tournament',\n",
              "       'home_team_rank', 'away_team_rank', 'year'],\n",
              "      dtype='object')"
            ]
          },
          "metadata": {
            "tags": []
          },
          "execution_count": 28
        }
      ]
    },
    {
      "cell_type": "markdown",
      "metadata": {
        "id": "RzcIbXRmG5dd",
        "colab_type": "text"
      },
      "source": [
        "All the columns required for this study are present. However, we might need to add other columns"
      ]
    },
    {
      "cell_type": "code",
      "metadata": {
        "id": "JzdUNtzdpZJU",
        "colab_type": "code",
        "colab": {
          "base_uri": "https://localhost:8080/",
          "height": 34
        },
        "outputId": "f6d6bc01-f1d9-4352-dd6b-820acb70b16f"
      },
      "source": [
        "#checking the size of our newly obtained dataset\n",
        "\n",
        "football.shape\n"
      ],
      "execution_count": null,
      "outputs": [
        {
          "output_type": "execute_result",
          "data": {
            "text/plain": [
              "(933, 8)"
            ]
          },
          "metadata": {
            "tags": []
          },
          "execution_count": 29
        }
      ]
    },
    {
      "cell_type": "markdown",
      "metadata": {
        "id": "TUyGccxkDlbF",
        "colab_type": "text"
      },
      "source": [
        "The new dataset has 933 records and 8 columns. The records have greatly reduced as a result of the merging. Even so, the remaining dataset is sufficient for this study. "
      ]
    },
    {
      "cell_type": "code",
      "metadata": {
        "id": "FdqaCAS7TdN6",
        "colab_type": "code",
        "colab": {
          "base_uri": "https://localhost:8080/",
          "height": 269
        },
        "outputId": "3e7c8db6-0949-4ebe-cfeb-73313afd745d"
      },
      "source": [
        "#obtaining more information about the dataset\n",
        "football.info()"
      ],
      "execution_count": null,
      "outputs": [
        {
          "output_type": "stream",
          "text": [
            "<class 'pandas.core.frame.DataFrame'>\n",
            "Int64Index: 933 entries, 0 to 932\n",
            "Data columns (total 8 columns):\n",
            " #   Column          Non-Null Count  Dtype \n",
            "---  ------          --------------  ----- \n",
            " 0   home_team       933 non-null    object\n",
            " 1   away_team       933 non-null    object\n",
            " 2   home_score      933 non-null    int64 \n",
            " 3   away_score      933 non-null    int64 \n",
            " 4   tournament      933 non-null    object\n",
            " 5   home_team_rank  933 non-null    int64 \n",
            " 6   away_team_rank  933 non-null    int64 \n",
            " 7   year            933 non-null    object\n",
            "dtypes: int64(4), object(4)\n",
            "memory usage: 65.6+ KB\n"
          ],
          "name": "stdout"
        }
      ]
    },
    {
      "cell_type": "markdown",
      "metadata": {
        "id": "uMT1TfEzgy5X",
        "colab_type": "text"
      },
      "source": [
        "The data has a total of 933 records of non-null values. The datatypes are all appropriate."
      ]
    },
    {
      "cell_type": "code",
      "metadata": {
        "id": "o83gEmPMgtmc",
        "colab_type": "code",
        "colab": {
          "base_uri": "https://localhost:8080/",
          "height": 47
        },
        "outputId": "975c56af-9fab-4556-bd24-950c62724219"
      },
      "source": [
        "# checking for duplicates in the dataset\n",
        "\n",
        "football[football.duplicated()]"
      ],
      "execution_count": null,
      "outputs": [
        {
          "output_type": "execute_result",
          "data": {
            "text/html": [
              "<div>\n",
              "<style scoped>\n",
              "    .dataframe tbody tr th:only-of-type {\n",
              "        vertical-align: middle;\n",
              "    }\n",
              "\n",
              "    .dataframe tbody tr th {\n",
              "        vertical-align: top;\n",
              "    }\n",
              "\n",
              "    .dataframe thead th {\n",
              "        text-align: right;\n",
              "    }\n",
              "</style>\n",
              "<table border=\"1\" class=\"dataframe\">\n",
              "  <thead>\n",
              "    <tr style=\"text-align: right;\">\n",
              "      <th></th>\n",
              "      <th>home_team</th>\n",
              "      <th>away_team</th>\n",
              "      <th>home_score</th>\n",
              "      <th>away_score</th>\n",
              "      <th>tournament</th>\n",
              "      <th>home_team_rank</th>\n",
              "      <th>away_team_rank</th>\n",
              "      <th>year</th>\n",
              "    </tr>\n",
              "  </thead>\n",
              "  <tbody>\n",
              "  </tbody>\n",
              "</table>\n",
              "</div>"
            ],
            "text/plain": [
              "Empty DataFrame\n",
              "Columns: [home_team, away_team, home_score, away_score, tournament, home_team_rank, away_team_rank, year]\n",
              "Index: []"
            ]
          },
          "metadata": {
            "tags": []
          },
          "execution_count": 32
        }
      ]
    },
    {
      "cell_type": "markdown",
      "metadata": {
        "id": "MmqRmkuYhbe7",
        "colab_type": "text"
      },
      "source": [
        "There are no records that have duplicates in our dataset"
      ]
    },
    {
      "cell_type": "code",
      "metadata": {
        "id": "jPFmPolNeRuN",
        "colab_type": "code",
        "colab": {
          "base_uri": "https://localhost:8080/",
          "height": 717
        },
        "outputId": "2b58fb43-2ce2-474f-b003-da39e9434dd7"
      },
      "source": [
        "# checking for outliers in the home scores, away scores and the ranking columns\n",
        "# creating a list of columns of interest\n",
        "\n",
        "columns = ['home_score', 'away_score', 'home_team_rank', 'away_team_rank']\n",
        "\n",
        "\n",
        "fig, ax = plt.subplots(len(columns), figsize = (10, 12))\n",
        "\n",
        "for i, col_val in enumerate(columns):\n",
        "\n",
        "  sb.boxplot(y= football[col_val], ax=ax[i])\n",
        "  ax[i].set_title('Box plot-{}'.format(col_val), fontsize=10)\n",
        "  ax[i].set_xlabel(col_val, fontsize=8)\n",
        "\n",
        "plt.show()\n",
        "\n"
      ],
      "execution_count": null,
      "outputs": [
        {
          "output_type": "display_data",
          "data": {
            "image/png": "[encoded data removed]",
            "text/plain": [
              "<Figure size 720x864 with 4 Axes>"
            ]
          },
          "metadata": {
            "tags": []
          }
        }
      ]
    },
    {
      "cell_type": "markdown",
      "metadata": {
        "id": "VXIlLVDBi3b7",
        "colab_type": "text"
      },
      "source": [
        "In the home score column, most of the observations lie above the 5 mark but below the 20 mark. There is also an observed value at the 31st mark. This could be a true observation hence we will not remove it. In the away score column, the points are distributed evenly above 5 but below 10, there is no value that is observed as an anomaly.\n",
        "\n",
        "The home team rank column has an outlier around the 200 mark while there are no outliers in the away team rank column.\n"
      ]
    },
    {
      "cell_type": "markdown",
      "metadata": {
        "id": "xcyy7Pg0Hd1g",
        "colab_type": "text"
      },
      "source": [
        "##4. External Datasource Validation"
      ]
    },
    {
      "cell_type": "markdown",
      "metadata": {
        "id": "5thR3ntXHiWt",
        "colab_type": "text"
      },
      "source": [
        "Websites such as wikipedia, fifa.com, rsssf.com and individual football associations' websites have all recorded the first match ever as the match between scotland and England in the year 1872 hence we should consider the dataset valid for this study."
      ]
    },
    {
      "cell_type": "markdown",
      "metadata": {
        "id": "l9BIXdPYzsMJ",
        "colab_type": "text"
      },
      "source": [
        "##5. Exploratory Data Analysis"
      ]
    },
    {
      "cell_type": "code",
      "metadata": {
        "id": "kuoyhJxvnA6Z",
        "colab_type": "code",
        "colab": {
          "base_uri": "https://localhost:8080/",
          "height": 238
        },
        "outputId": "5c6732bb-f621-42a8-cc13-44aa0de43558"
      },
      "source": [
        "! pip install pandas_profiling"
      ],
      "execution_count": null,
      "outputs": [
        {
          "output_type": "stream",
          "text": [
            "Requirement already satisfied: pandas_profiling in /usr/local/lib/python3.6/dist-packages (1.4.1)\n",
            "Requirement already satisfied: pandas>=0.19 in /usr/local/lib/python3.6/dist-packages (from pandas_profiling) (1.0.5)\n",
            "Requirement already satisfied: jinja2>=2.8 in /usr/local/lib/python3.6/dist-packages (from pandas_profiling) (2.11.2)\n",
            "Requirement already satisfied: six>=1.9 in /usr/local/lib/python3.6/dist-packages (from pandas_profiling) (1.15.0)\n",
            "Requirement already satisfied: matplotlib>=1.4 in /usr/local/lib/python3.6/dist-packages (from pandas_profiling) (3.2.2)\n",
            "Requirement already satisfied: python-dateutil>=2.6.1 in /usr/local/lib/python3.6/dist-packages (from pandas>=0.19->pandas_profiling) (2.8.1)\n",
            "Requirement already satisfied: numpy>=1.13.3 in /usr/local/lib/python3.6/dist-packages (from pandas>=0.19->pandas_profiling) (1.18.5)\n",
            "Requirement already satisfied: pytz>=2017.2 in /usr/local/lib/python3.6/dist-packages (from pandas>=0.19->pandas_profiling) (2018.9)\n",
            "Requirement already satisfied: MarkupSafe>=0.23 in /usr/local/lib/python3.6/dist-packages (from jinja2>=2.8->pandas_profiling) (1.1.1)\n",
            "Requirement already satisfied: pyparsing!=2.0.4,!=2.1.2,!=2.1.6,>=2.0.1 in /usr/local/lib/python3.6/dist-packages (from matplotlib>=1.4->pandas_profiling) (2.4.7)\n",
            "Requirement already satisfied: cycler>=0.10 in /usr/local/lib/python3.6/dist-packages (from matplotlib>=1.4->pandas_profiling) (0.10.0)\n",
            "Requirement already satisfied: kiwisolver>=1.0.1 in /usr/local/lib/python3.6/dist-packages (from matplotlib>=1.4->pandas_profiling) (1.2.0)\n"
          ],
          "name": "stdout"
        }
      ]
    },
    {
      "cell_type": "code",
      "metadata": {
        "id": "UJriFhnfoB1D",
        "colab_type": "code",
        "colab": {}
      },
      "source": [
        "# from pandas_profiling import ProfileReport\n",
        "# ProfileReport(football)"
      ],
      "execution_count": null,
      "outputs": []
    },
    {
      "cell_type": "markdown",
      "metadata": {
        "id": "csw_MF5ZMyGu",
        "colab_type": "text"
      },
      "source": [
        "### Univariate Analysis"
      ]
    },
    {
      "cell_type": "code",
      "metadata": {
        "id": "FA5L64aKM2fx",
        "colab_type": "code",
        "colab": {
          "base_uri": "https://localhost:8080/",
          "height": 284
        },
        "outputId": "7ba5467a-3a3f-47df-ae4f-a3bef8d8fcdd"
      },
      "source": [
        "football.describe()"
      ],
      "execution_count": null,
      "outputs": [
        {
          "output_type": "execute_result",
          "data": {
            "text/html": [
              "<div>\n",
              "<style scoped>\n",
              "    .dataframe tbody tr th:only-of-type {\n",
              "        vertical-align: middle;\n",
              "    }\n",
              "\n",
              "    .dataframe tbody tr th {\n",
              "        vertical-align: top;\n",
              "    }\n",
              "\n",
              "    .dataframe thead th {\n",
              "        text-align: right;\n",
              "    }\n",
              "</style>\n",
              "<table border=\"1\" class=\"dataframe\">\n",
              "  <thead>\n",
              "    <tr style=\"text-align: right;\">\n",
              "      <th></th>\n",
              "      <th>home_score</th>\n",
              "      <th>away_score</th>\n",
              "      <th>home_team_rank</th>\n",
              "      <th>away_team_rank</th>\n",
              "    </tr>\n",
              "  </thead>\n",
              "  <tbody>\n",
              "    <tr>\n",
              "      <th>count</th>\n",
              "      <td>933.000000</td>\n",
              "      <td>933.000000</td>\n",
              "      <td>933.000000</td>\n",
              "      <td>933.000000</td>\n",
              "    </tr>\n",
              "    <tr>\n",
              "      <th>mean</th>\n",
              "      <td>1.648446</td>\n",
              "      <td>1.004287</td>\n",
              "      <td>66.025723</td>\n",
              "      <td>70.445874</td>\n",
              "    </tr>\n",
              "    <tr>\n",
              "      <th>std</th>\n",
              "      <td>1.951309</td>\n",
              "      <td>1.167323</td>\n",
              "      <td>47.557006</td>\n",
              "      <td>50.450593</td>\n",
              "    </tr>\n",
              "    <tr>\n",
              "      <th>min</th>\n",
              "      <td>0.000000</td>\n",
              "      <td>0.000000</td>\n",
              "      <td>1.000000</td>\n",
              "      <td>1.000000</td>\n",
              "    </tr>\n",
              "    <tr>\n",
              "      <th>25%</th>\n",
              "      <td>0.000000</td>\n",
              "      <td>0.000000</td>\n",
              "      <td>27.000000</td>\n",
              "      <td>29.000000</td>\n",
              "    </tr>\n",
              "    <tr>\n",
              "      <th>50%</th>\n",
              "      <td>1.000000</td>\n",
              "      <td>1.000000</td>\n",
              "      <td>59.000000</td>\n",
              "      <td>61.000000</td>\n",
              "    </tr>\n",
              "    <tr>\n",
              "      <th>75%</th>\n",
              "      <td>2.000000</td>\n",
              "      <td>2.000000</td>\n",
              "      <td>96.000000</td>\n",
              "      <td>103.000000</td>\n",
              "    </tr>\n",
              "    <tr>\n",
              "      <th>max</th>\n",
              "      <td>31.000000</td>\n",
              "      <td>9.000000</td>\n",
              "      <td>206.000000</td>\n",
              "      <td>209.000000</td>\n",
              "    </tr>\n",
              "  </tbody>\n",
              "</table>\n",
              "</div>"
            ],
            "text/plain": [
              "       home_score  away_score  home_team_rank  away_team_rank\n",
              "count  933.000000  933.000000      933.000000      933.000000\n",
              "mean     1.648446    1.004287       66.025723       70.445874\n",
              "std      1.951309    1.167323       47.557006       50.450593\n",
              "min      0.000000    0.000000        1.000000        1.000000\n",
              "25%      0.000000    0.000000       27.000000       29.000000\n",
              "50%      1.000000    1.000000       59.000000       61.000000\n",
              "75%      2.000000    2.000000       96.000000      103.000000\n",
              "max     31.000000    9.000000      206.000000      209.000000"
            ]
          },
          "metadata": {
            "tags": []
          },
          "execution_count": 547
        }
      ]
    },
    {
      "cell_type": "markdown",
      "metadata": {
        "id": "pxrYsNk_MnPu",
        "colab_type": "text"
      },
      "source": [
        "###Measures of Central Tendency"
      ]
    },
    {
      "cell_type": "code",
      "metadata": {
        "id": "al2SQQ9ZMscZ",
        "colab_type": "code",
        "colab": {
          "base_uri": "https://localhost:8080/",
          "height": 218
        },
        "outputId": "2735bb7d-8a64-44b6-ccdf-d8955b14a4cd"
      },
      "source": [
        "# creating a list of scores and ranks of the teams\n",
        "columns = ['home_score', 'away_score', 'home_team_rank', 'away_team_rank']\n",
        "\n",
        "#Obtaining the mean of the columns mentioned\n",
        "\n",
        "for column in columns:\n",
        "  print('\\n')\n",
        "  print(column +':' + str(football[column].mean()))"
      ],
      "execution_count": null,
      "outputs": [
        {
          "output_type": "stream",
          "text": [
            "\n",
            "\n",
            "home_score:1.6484458735262595\n",
            "\n",
            "\n",
            "away_score:1.0042872454448017\n",
            "\n",
            "\n",
            "home_team_rank:66.02572347266882\n",
            "\n",
            "\n",
            "away_team_rank:70.44587352625938\n"
          ],
          "name": "stdout"
        }
      ]
    },
    {
      "cell_type": "markdown",
      "metadata": {
        "id": "HfUR41WlO9FA",
        "colab_type": "text"
      },
      "source": [
        "Both home scores and away scores have a mean range of 1 but home score has a higher mean by 0.5. \n",
        "\n",
        "The mean values of the away team rank is higher than the mean value of the home team rank. Hence the away teams have recorded higher chances of higher rankings.\n",
        "\n"
      ]
    },
    {
      "cell_type": "code",
      "metadata": {
        "id": "3h22PqzxRJNt",
        "colab_type": "code",
        "colab": {
          "base_uri": "https://localhost:8080/",
          "height": 286
        },
        "outputId": "b75857f8-071e-4b93-d7e6-79c78eb6bd76"
      },
      "source": [
        "#Obtaining the mode of the columns mentioned\n",
        "\n",
        "for column in columns:\n",
        "  print('\\n')\n",
        "  print(column +':' + str(football[column].mode()))"
      ],
      "execution_count": null,
      "outputs": [
        {
          "output_type": "stream",
          "text": [
            "\n",
            "\n",
            "home_score:0    1\n",
            "dtype: int64\n",
            "\n",
            "\n",
            "away_score:0    0\n",
            "dtype: int64\n",
            "\n",
            "\n",
            "home_team_rank:0    33\n",
            "dtype: int64\n",
            "\n",
            "\n",
            "away_team_rank:0    36\n",
            "dtype: int64\n"
          ],
          "name": "stdout"
        }
      ]
    },
    {
      "cell_type": "markdown",
      "metadata": {
        "id": "ItqPB13wRVFu",
        "colab_type": "text"
      },
      "source": [
        "Most home scores recorded are 1's as compared to most away scores recorded that are 0's. \n",
        "\n",
        "Most home teams are ranked at 33 while most away teams are ranked at 36, hence more away scores have a higher ranking as compared to the home teams"
      ]
    },
    {
      "cell_type": "markdown",
      "metadata": {
        "id": "IpA_VpaySFMw",
        "colab_type": "text"
      },
      "source": [
        "### Measures of Dispersion"
      ]
    },
    {
      "cell_type": "code",
      "metadata": {
        "id": "tVKr2FNgSNQT",
        "colab_type": "code",
        "colab": {
          "base_uri": "https://localhost:8080/",
          "height": 420
        },
        "outputId": "3900ec90-a95a-4ca4-8793-f944e15ef182"
      },
      "source": [
        "for column in columns:\n",
        "  print('\\n')\n",
        "  print(column + ', variance: ' +str(football[column].var()))\n",
        "  print(column + ', std_deviation: ' +str(football[column].std()))\n",
        "  print(column + ', skewness: ' +str(football[column].skew()))\n",
        "  print(column + ', kurtosis: ' +str(football[column].kurt()))"
      ],
      "execution_count": null,
      "outputs": [
        {
          "output_type": "stream",
          "text": [
            "\n",
            "\n",
            "home_score, variance: 3.8076075606400894\n",
            "home_score, std_deviation: 1.9513091914507268\n",
            "home_score, skewness: 5.276778075359087\n",
            "home_score, kurtosis: 60.985748604004904\n",
            "\n",
            "\n",
            "away_score, variance: 1.3626425440109746\n",
            "away_score, std_deviation: 1.1673228105417004\n",
            "away_score, skewness: 1.8330710075212275\n",
            "away_score, kurtosis: 5.839401828995081\n",
            "\n",
            "\n",
            "home_team_rank, variance: 2261.668865489972\n",
            "home_team_rank, std_deviation: 47.55700648158978\n",
            "home_team_rank, skewness: 0.7211541914994738\n",
            "home_team_rank, kurtosis: -0.21116227568788837\n",
            "\n",
            "\n",
            "away_team_rank, variance: 2545.2623568809854\n",
            "away_team_rank, std_deviation: 50.45059322625439\n",
            "away_team_rank, skewness: 0.6728937288778412\n",
            "away_team_rank, kurtosis: -0.35497011685628177\n"
          ],
          "name": "stdout"
        }
      ]
    },
    {
      "cell_type": "markdown",
      "metadata": {
        "id": "26_nKWVDpTQs",
        "colab_type": "text"
      },
      "source": [
        "Variance and standard deviation of the home scores and away scores are quite low, this is an indication that the number of scores for  both teams do not vary so much from each other. \n",
        "\n",
        "However, as for the home and away team ranks, the variance and standard deviations are quite high. THis shows that both teams have huge variation in rank.\n",
        "\n",
        "Scores from both teams seem to have a normal distribution, with the home team score distribution being right skewed and with fat tails hence shows that there are outliers in this column. As for the away team's scores,the distriution is slightly skewed to the right and has thin tails.\n",
        "\n",
        "The ranks for both teams also seem to exhibit a normal distribution with very thin tails."
      ]
    },
    {
      "cell_type": "markdown",
      "metadata": {
        "id": "mDpe8m5GL4HH",
        "colab_type": "text"
      },
      "source": [
        "###Histograms"
      ]
    },
    {
      "cell_type": "code",
      "metadata": {
        "id": "mxqonaQ5L75H",
        "colab_type": "code",
        "colab": {
          "base_uri": "https://localhost:8080/",
          "height": 602
        },
        "outputId": "4bc7f479-c7c2-4246-e1cb-2f62bae09c35"
      },
      "source": [
        "# histograms of our columns of interest\n",
        "\n",
        "sb.set_style('darkgrid')\n",
        "fig, axes = plt.subplots(len(columns), figsize = (7, 8))\n",
        "fig.suptitle('Distributions of scores and rankings', y= 1.01, color = 'black', fontsize = 15)\n",
        "\n",
        "for ax, data, name in zip(axes.flatten(), football, columns):\n",
        "  sb.distplot(football[name], ax = ax, kde = True, color = 'purple')\n",
        "plt.tight_layout()"
      ],
      "execution_count": null,
      "outputs": [
        {
          "output_type": "display_data",
          "data": {
            "image/png": "[encoded data removed]",
            "text/plain": [
              "<Figure size 504x576 with 4 Axes>"
            ]
          },
          "metadata": {
            "tags": []
          }
        }
      ]
    },
    {
      "cell_type": "markdown",
      "metadata": {
        "id": "iGZX9fzps_OX",
        "colab_type": "text"
      },
      "source": [
        "The histograms confirm that the distribution of the data is slighlty normal but seems to be skewed to the right. "
      ]
    },
    {
      "cell_type": "markdown",
      "metadata": {
        "id": "FxUPr1HjV50M",
        "colab_type": "text"
      },
      "source": [
        "### Bar Charts"
      ]
    },
    {
      "cell_type": "code",
      "metadata": {
        "id": "cnxymLzZV8Zm",
        "colab_type": "code",
        "colab": {
          "base_uri": "https://localhost:8080/",
          "height": 336
        },
        "outputId": "b160db93-317e-4e69-c758-020f40554de3"
      },
      "source": [
        "# creating a list of all categorical columns for exploration\n",
        "\n",
        "categorical_columns = ['home_team', 'away_team', 'tournament', 'year']\n",
        "\n",
        "football['home_team'].value_counts().head(10).plot.bar()\n"
      ],
      "execution_count": null,
      "outputs": [
        {
          "output_type": "execute_result",
          "data": {
            "text/plain": [
              "<matplotlib.axes._subplots.AxesSubplot at 0x7f9b7a71e470>"
            ]
          },
          "metadata": {
            "tags": []
          },
          "execution_count": 552
        },
        {
          "output_type": "display_data",
          "data": {
            "image/png": "[encoded data removed]",
            "text/plain": [
              "<Figure size 432x288 with 1 Axes>"
            ]
          },
          "metadata": {
            "tags": []
          }
        }
      ]
    },
    {
      "cell_type": "code",
      "metadata": {
        "id": "rowWEGf1XJBY",
        "colab_type": "code",
        "colab": {
          "base_uri": "https://localhost:8080/",
          "height": 218
        },
        "outputId": "3c72ae23-6b37-4a6c-8365-dfa05147af53"
      },
      "source": [
        "# frequency distribution\n",
        "\n",
        "football['home_team'].value_counts()"
      ],
      "execution_count": null,
      "outputs": [
        {
          "output_type": "execute_result",
          "data": {
            "text/plain": [
              "Mexico                 23\n",
              "Estonia                15\n",
              "Portugal               15\n",
              "Saudi Arabia           15\n",
              "Hungary                14\n",
              "                       ..\n",
              "Belize                  1\n",
              "Gambia                  1\n",
              "Antigua and Barbuda     1\n",
              "American Samoa          1\n",
              "Philippines             1\n",
              "Name: home_team, Length: 175, dtype: int64"
            ]
          },
          "metadata": {
            "tags": []
          },
          "execution_count": 553
        }
      ]
    },
    {
      "cell_type": "markdown",
      "metadata": {
        "id": "BomcR_p6Yi6o",
        "colab_type": "text"
      },
      "source": [
        "Mexico has the most records of home teams i.e most of the matches were played in Mexico, followed by Portugal, Saudi Arabia and Estonia whereas Liberia, Papua New Guinea, Samoa, Afghanistan and Macau have the least records of home teams"
      ]
    },
    {
      "cell_type": "code",
      "metadata": {
        "id": "Yk8KzjPAXeZJ",
        "colab_type": "code",
        "colab": {
          "base_uri": "https://localhost:8080/",
          "height": 323
        },
        "outputId": "4b649104-5b03-43d6-8804-289f13c5296d"
      },
      "source": [
        "# bar graph of away teams\n",
        "\n",
        "football['away_team'].value_counts().head(10).plot.bar()\n"
      ],
      "execution_count": null,
      "outputs": [
        {
          "output_type": "execute_result",
          "data": {
            "text/plain": [
              "<matplotlib.axes._subplots.AxesSubplot at 0x7f9b7a63efd0>"
            ]
          },
          "metadata": {
            "tags": []
          },
          "execution_count": 554
        },
        {
          "output_type": "display_data",
          "data": {
            "image/png": "[encoded data removed]",
            "text/plain": [
              "<Figure size 432x288 with 1 Axes>"
            ]
          },
          "metadata": {
            "tags": []
          }
        }
      ]
    },
    {
      "cell_type": "code",
      "metadata": {
        "id": "9hEhpOdKXl2x",
        "colab_type": "code",
        "colab": {
          "base_uri": "https://localhost:8080/",
          "height": 218
        },
        "outputId": "efcb8d99-780e-4bb0-f122-c7cf21536924"
      },
      "source": [
        "# frequency distrbution of the away team\n",
        "\n",
        "football['away_team'].value_counts()"
      ],
      "execution_count": null,
      "outputs": [
        {
          "output_type": "execute_result",
          "data": {
            "text/plain": [
              "Uruguay               15\n",
              "Argentina             15\n",
              "Israel                14\n",
              "Bulgaria              14\n",
              "Kuwait                14\n",
              "                      ..\n",
              "Dominican Republic     1\n",
              "Grenada                1\n",
              "Equatorial Guinea      1\n",
              "Congo                  1\n",
              "Sierra Leone           1\n",
              "Name: away_team, Length: 164, dtype: int64"
            ]
          },
          "metadata": {
            "tags": []
          },
          "execution_count": 555
        }
      ]
    },
    {
      "cell_type": "markdown",
      "metadata": {
        "id": "BUSvmwIMXxki",
        "colab_type": "text"
      },
      "source": [
        "There are a total of 175 away teams with Uruguay and Argentina being the most records of 15 and Sierra Leone, Chad, Nepal, San Marino and Solomon Islands with the least records of 1."
      ]
    },
    {
      "cell_type": "code",
      "metadata": {
        "id": "n53ciakLZLJ-",
        "colab_type": "code",
        "colab": {
          "base_uri": "https://localhost:8080/",
          "height": 436
        },
        "outputId": "bb98e143-9fd9-4be1-be4c-7dfa3cc2c859"
      },
      "source": [
        "# bar graphs of the types of tournaments played\n",
        "\n",
        "football['tournament'].value_counts().head(10).plot.bar()"
      ],
      "execution_count": null,
      "outputs": [
        {
          "output_type": "execute_result",
          "data": {
            "text/plain": [
              "<matplotlib.axes._subplots.AxesSubplot at 0x7f9b7a65dd68>"
            ]
          },
          "metadata": {
            "tags": []
          },
          "execution_count": 556
        },
        {
          "output_type": "display_data",
          "data": {
            "image/png": "[encoded data removed]",
            "text/plain": [
              "<Figure size 432x288 with 1 Axes>"
            ]
          },
          "metadata": {
            "tags": []
          }
        }
      ]
    },
    {
      "cell_type": "code",
      "metadata": {
        "id": "iJwKizfvZlY_",
        "colab_type": "code",
        "colab": {
          "base_uri": "https://localhost:8080/",
          "height": 672
        },
        "outputId": "11a08dd2-abda-469d-a01b-e34d699bf6ee"
      },
      "source": [
        "# frequency distribution of tournaments\n",
        "\n",
        "football['tournament'].value_counts()"
      ],
      "execution_count": null,
      "outputs": [
        {
          "output_type": "execute_result",
          "data": {
            "text/plain": [
              "Friendly                                      598\n",
              "FIFA World Cup qualification                  155\n",
              "UEFA Euro qualification                        39\n",
              "AFC Asian Cup qualification                    36\n",
              "Cyprus International Tournament                 8\n",
              "AFF Championship                                8\n",
              "Gulf Cup                                        7\n",
              "CECAFA Cup                                      6\n",
              "Gold Cup                                        6\n",
              "Copa AmÃ©rica                                   6\n",
              "CFU Caribbean Cup qualification                 5\n",
              "African Cup of Nations qualification            5\n",
              "AFC Asian Cup                                   4\n",
              "African Nations Championship                    4\n",
              "African Cup of Nations                          4\n",
              "SAFF Cup                                        4\n",
              "King's Cup                                      3\n",
              "Gold Cup qualification                          3\n",
              "United Arab Emirates Friendship Tournament      3\n",
              "Malta International Tournament                  3\n",
              "Prime Minister's Cup                            2\n",
              "UNCAF Cup                                       2\n",
              "Korea Cup                                       2\n",
              "AFC Challenge Cup qualification                 2\n",
              "CFU Caribbean Cup                               2\n",
              "Confederations Cup                              2\n",
              "Oceania Nations Cup                             2\n",
              "Merdeka Tournament                              2\n",
              "Copa del PacÃ­fico                              1\n",
              "South Pacific Games                             1\n",
              "USA Cup                                         1\n",
              "Nehru Cup                                       1\n",
              "Windward Islands Tournament                     1\n",
              "EAFF Championship                               1\n",
              "UAFA Cup                                        1\n",
              "Intercontinental Cup                            1\n",
              "COSAFA Cup                                      1\n",
              "Millennium Cup                                  1\n",
              "Name: tournament, dtype: int64"
            ]
          },
          "metadata": {
            "tags": []
          },
          "execution_count": 557
        }
      ]
    },
    {
      "cell_type": "markdown",
      "metadata": {
        "id": "CK8PJ9PVZJCb",
        "colab_type": "text"
      },
      "source": [
        "The total types of tournaments recorded is 38. The tournament with the highest record is of 589 friendly matches followed by 155 matches of FIFA World Cup qualifications. There's a huge difference between the two most recorded types of tournaments, this means our data consisits of mostly friendly matches. Most of the other tournament types have significantly few records."
      ]
    },
    {
      "cell_type": "code",
      "metadata": {
        "id": "D6XdRUrFdw0L",
        "colab_type": "code",
        "colab": {
          "base_uri": "https://localhost:8080/",
          "height": 298
        },
        "outputId": "b82414bc-1b52-47f5-8599-eb97b9d576b3"
      },
      "source": [
        "# bar charts of years \n",
        "football['year'].value_counts().plot.bar()"
      ],
      "execution_count": null,
      "outputs": [
        {
          "output_type": "execute_result",
          "data": {
            "text/plain": [
              "<matplotlib.axes._subplots.AxesSubplot at 0x7f9b7c55fa90>"
            ]
          },
          "metadata": {
            "tags": []
          },
          "execution_count": 558
        },
        {
          "output_type": "display_data",
          "data": {
            "image/png": "[encoded data removed]",
            "text/plain": [
              "<Figure size 432x288 with 1 Axes>"
            ]
          },
          "metadata": {
            "tags": []
          }
        }
      ]
    },
    {
      "cell_type": "markdown",
      "metadata": {
        "id": "n-EKW2KXlpzl",
        "colab_type": "text"
      },
      "source": [
        "The year 2010 had the most matches played, around 140 matches. This could have been as a result of the world cup that happened during that year followed by 2002 with 85 matches, which was also an year the world cup was played. Following closely is 2004 with around 70 matches. 2014 and 1995 have recorded the least matches played."
      ]
    },
    {
      "cell_type": "markdown",
      "metadata": {
        "id": "DH6u9Kh3dtBZ",
        "colab_type": "text"
      },
      "source": [
        "<!-- rank dates -->"
      ]
    },
    {
      "cell_type": "markdown",
      "metadata": {
        "id": "Y1fKsfv-nG6V",
        "colab_type": "text"
      },
      "source": [
        "##6. Implementing the Solution\n",
        "\n",
        "This stage will involve the following steps:\n",
        "\n",
        "1. Perform any necessary feature engineering \n",
        "2. Check of multicollinearity\n",
        "3. Start building the model\n",
        "4. Cross-validate the model\n",
        "5. Compute RMSE\n",
        "6. Create residual plots for your models, and assess their heteroscedasticity using Bartlett’s test\n",
        "7. Perform appropriate regressions on the data including your justification\n"
      ]
    },
    {
      "cell_type": "markdown",
      "metadata": {
        "id": "P48s2MZ7nYKM",
        "colab_type": "text"
      },
      "source": [
        "### Feature Engineering"
      ]
    },
    {
      "cell_type": "code",
      "metadata": {
        "id": "KA7ozvO5rnLl",
        "colab_type": "code",
        "colab": {
          "base_uri": "https://localhost:8080/",
          "height": 106
        },
        "outputId": "9b17f5f2-9f35-4317-dcfb-487f0f402187"
      },
      "source": [
        "# creating a new dataframe that we will use \n",
        "football_data = football\n",
        "football_data.head(2)"
      ],
      "execution_count": null,
      "outputs": [
        {
          "output_type": "execute_result",
          "data": {
            "text/html": [
              "<div>\n",
              "<style scoped>\n",
              "    .dataframe tbody tr th:only-of-type {\n",
              "        vertical-align: middle;\n",
              "    }\n",
              "\n",
              "    .dataframe tbody tr th {\n",
              "        vertical-align: top;\n",
              "    }\n",
              "\n",
              "    .dataframe thead th {\n",
              "        text-align: right;\n",
              "    }\n",
              "</style>\n",
              "<table border=\"1\" class=\"dataframe\">\n",
              "  <thead>\n",
              "    <tr style=\"text-align: right;\">\n",
              "      <th></th>\n",
              "      <th>home_team</th>\n",
              "      <th>away_team</th>\n",
              "      <th>home_score</th>\n",
              "      <th>away_score</th>\n",
              "      <th>tournament</th>\n",
              "      <th>home_team_rank</th>\n",
              "      <th>away_team_rank</th>\n",
              "      <th>year</th>\n",
              "    </tr>\n",
              "  </thead>\n",
              "  <tbody>\n",
              "    <tr>\n",
              "      <th>0</th>\n",
              "      <td>Bolivia</td>\n",
              "      <td>Uruguay</td>\n",
              "      <td>3</td>\n",
              "      <td>1</td>\n",
              "      <td>FIFA World Cup qualification</td>\n",
              "      <td>59</td>\n",
              "      <td>22</td>\n",
              "      <td>1993</td>\n",
              "    </tr>\n",
              "    <tr>\n",
              "      <th>1</th>\n",
              "      <td>Brazil</td>\n",
              "      <td>Mexico</td>\n",
              "      <td>1</td>\n",
              "      <td>1</td>\n",
              "      <td>Friendly</td>\n",
              "      <td>8</td>\n",
              "      <td>14</td>\n",
              "      <td>1993</td>\n",
              "    </tr>\n",
              "  </tbody>\n",
              "</table>\n",
              "</div>"
            ],
            "text/plain": [
              "  home_team away_team  home_score  ...  home_team_rank away_team_rank  year\n",
              "0   Bolivia   Uruguay           3  ...              59             22  1993\n",
              "1    Brazil    Mexico           1  ...               8             14  1993\n",
              "\n",
              "[2 rows x 8 columns]"
            ]
          },
          "metadata": {
            "tags": []
          },
          "execution_count": 37
        }
      ]
    },
    {
      "cell_type": "code",
      "metadata": {
        "id": "to3jT5sqrOq1",
        "colab_type": "code",
        "colab": {
          "base_uri": "https://localhost:8080/",
          "height": 136
        },
        "outputId": "04f4f4fe-647f-4281-ca74-b1cef0049afe"
      },
      "source": [
        "# adding the status column to the dataset \n",
        "# creating a list of our conditions\n",
        "conditions = [\n",
        "              football_data['home_score'] > football_data['away_score'],\n",
        "              football_data['home_score'] == football_data['away_score'],\n",
        "              football_data['home_score'] < football_data['away_score']\n",
        "]\n",
        "\n",
        "# create a list of the values we want to assign for each \n",
        "values = ['Win', 'Draw', 'Loss']\n",
        "\n",
        "# creating a new columnn and using np.select to assign values to it using our lists as attributes\n",
        "\n",
        "football_data['status'] = np.select(conditions, values)\n",
        "\n",
        "# previewing the column\n",
        "football_data.head(3)"
      ],
      "execution_count": null,
      "outputs": [
        {
          "output_type": "execute_result",
          "data": {
            "text/html": [
              "<div>\n",
              "<style scoped>\n",
              "    .dataframe tbody tr th:only-of-type {\n",
              "        vertical-align: middle;\n",
              "    }\n",
              "\n",
              "    .dataframe tbody tr th {\n",
              "        vertical-align: top;\n",
              "    }\n",
              "\n",
              "    .dataframe thead th {\n",
              "        text-align: right;\n",
              "    }\n",
              "</style>\n",
              "<table border=\"1\" class=\"dataframe\">\n",
              "  <thead>\n",
              "    <tr style=\"text-align: right;\">\n",
              "      <th></th>\n",
              "      <th>home_team</th>\n",
              "      <th>away_team</th>\n",
              "      <th>home_score</th>\n",
              "      <th>away_score</th>\n",
              "      <th>tournament</th>\n",
              "      <th>home_team_rank</th>\n",
              "      <th>away_team_rank</th>\n",
              "      <th>year</th>\n",
              "      <th>status</th>\n",
              "    </tr>\n",
              "  </thead>\n",
              "  <tbody>\n",
              "    <tr>\n",
              "      <th>0</th>\n",
              "      <td>Bolivia</td>\n",
              "      <td>Uruguay</td>\n",
              "      <td>3</td>\n",
              "      <td>1</td>\n",
              "      <td>FIFA World Cup qualification</td>\n",
              "      <td>59</td>\n",
              "      <td>22</td>\n",
              "      <td>1993</td>\n",
              "      <td>Win</td>\n",
              "    </tr>\n",
              "    <tr>\n",
              "      <th>1</th>\n",
              "      <td>Brazil</td>\n",
              "      <td>Mexico</td>\n",
              "      <td>1</td>\n",
              "      <td>1</td>\n",
              "      <td>Friendly</td>\n",
              "      <td>8</td>\n",
              "      <td>14</td>\n",
              "      <td>1993</td>\n",
              "      <td>Draw</td>\n",
              "    </tr>\n",
              "    <tr>\n",
              "      <th>2</th>\n",
              "      <td>Ecuador</td>\n",
              "      <td>Venezuela</td>\n",
              "      <td>5</td>\n",
              "      <td>0</td>\n",
              "      <td>FIFA World Cup qualification</td>\n",
              "      <td>35</td>\n",
              "      <td>94</td>\n",
              "      <td>1993</td>\n",
              "      <td>Win</td>\n",
              "    </tr>\n",
              "  </tbody>\n",
              "</table>\n",
              "</div>"
            ],
            "text/plain": [
              "  home_team  away_team  home_score  ...  away_team_rank  year  status\n",
              "0   Bolivia    Uruguay           3  ...              22  1993     Win\n",
              "1    Brazil     Mexico           1  ...              14  1993    Draw\n",
              "2   Ecuador  Venezuela           5  ...              94  1993     Win\n",
              "\n",
              "[3 rows x 9 columns]"
            ]
          },
          "metadata": {
            "tags": []
          },
          "execution_count": 38
        }
      ]
    },
    {
      "cell_type": "code",
      "metadata": {
        "id": "B28YKjdzupi6",
        "colab_type": "code",
        "colab": {
          "base_uri": "https://localhost:8080/",
          "height": 84
        },
        "outputId": "64564f56-c1d3-4712-db8d-a8a7668c0938"
      },
      "source": [
        "# exploring the status column \n",
        "football_data['status'].value_counts()"
      ],
      "execution_count": null,
      "outputs": [
        {
          "output_type": "execute_result",
          "data": {
            "text/plain": [
              "Win     451\n",
              "Loss    243\n",
              "Draw    239\n",
              "Name: status, dtype: int64"
            ]
          },
          "metadata": {
            "tags": []
          },
          "execution_count": 39
        }
      ]
    },
    {
      "cell_type": "markdown",
      "metadata": {
        "id": "egZ368bCu5Y7",
        "colab_type": "text"
      },
      "source": [
        "The home team has experienced more wins than losses and draws and more losses than draws"
      ]
    },
    {
      "cell_type": "code",
      "metadata": {
        "id": "1TPzI9_OtR3o",
        "colab_type": "code",
        "colab": {
          "base_uri": "https://localhost:8080/",
          "height": 296
        },
        "outputId": "9037fd82-f640-4d6e-e0c0-d221d413b948"
      },
      "source": [
        "# obtaining a graph for the status column\n",
        "\n",
        "sb.countplot(x = 'status', data = football_data, palette = 'hls')"
      ],
      "execution_count": null,
      "outputs": [
        {
          "output_type": "execute_result",
          "data": {
            "text/plain": [
              "<matplotlib.axes._subplots.AxesSubplot at 0x7ff71bdd27f0>"
            ]
          },
          "metadata": {
            "tags": []
          },
          "execution_count": 40
        },
        {
          "output_type": "display_data",
          "data": {
            "image/png": "[encoded data removed]",
            "text/plain": [
              "<Figure size 432x288 with 1 Axes>"
            ]
          },
          "metadata": {
            "tags": [],
            "needs_background": "light"
          }
        }
      ]
    },
    {
      "cell_type": "markdown",
      "metadata": {
        "id": "6r8yMkSl3BlV",
        "colab_type": "text"
      },
      "source": [
        "#### Encoding categorical variables"
      ]
    },
    {
      "cell_type": "code",
      "metadata": {
        "id": "Lb1Y1Q98Oq09",
        "colab_type": "code",
        "colab": {
          "base_uri": "https://localhost:8080/",
          "height": 136
        },
        "outputId": "8f55dbb1-1299-47a3-a474-227f2a37ac36"
      },
      "source": [
        "# import labelencoder\n",
        "from sklearn.preprocessing import LabelEncoder\n",
        "\n",
        "# label encode categorical features of the dataset\n",
        "le = LabelEncoder()\n",
        "football_encoded = football_data.apply(le.fit_transform)\n",
        "\n",
        "# previewing the encoded data\n",
        "football_encoded.head(3)"
      ],
      "execution_count": null,
      "outputs": [
        {
          "output_type": "execute_result",
          "data": {
            "text/html": [
              "<div>\n",
              "<style scoped>\n",
              "    .dataframe tbody tr th:only-of-type {\n",
              "        vertical-align: middle;\n",
              "    }\n",
              "\n",
              "    .dataframe tbody tr th {\n",
              "        vertical-align: top;\n",
              "    }\n",
              "\n",
              "    .dataframe thead th {\n",
              "        text-align: right;\n",
              "    }\n",
              "</style>\n",
              "<table border=\"1\" class=\"dataframe\">\n",
              "  <thead>\n",
              "    <tr style=\"text-align: right;\">\n",
              "      <th></th>\n",
              "      <th>home_team</th>\n",
              "      <th>away_team</th>\n",
              "      <th>home_score</th>\n",
              "      <th>away_score</th>\n",
              "      <th>tournament</th>\n",
              "      <th>home_team_rank</th>\n",
              "      <th>away_team_rank</th>\n",
              "      <th>year</th>\n",
              "      <th>status</th>\n",
              "    </tr>\n",
              "  </thead>\n",
              "  <tbody>\n",
              "    <tr>\n",
              "      <th>0</th>\n",
              "      <td>20</td>\n",
              "      <td>155</td>\n",
              "      <td>3</td>\n",
              "      <td>1</td>\n",
              "      <td>16</td>\n",
              "      <td>58</td>\n",
              "      <td>21</td>\n",
              "      <td>0</td>\n",
              "      <td>2</td>\n",
              "    </tr>\n",
              "    <tr>\n",
              "      <th>1</th>\n",
              "      <td>23</td>\n",
              "      <td>94</td>\n",
              "      <td>1</td>\n",
              "      <td>1</td>\n",
              "      <td>17</td>\n",
              "      <td>7</td>\n",
              "      <td>13</td>\n",
              "      <td>0</td>\n",
              "      <td>0</td>\n",
              "    </tr>\n",
              "    <tr>\n",
              "      <th>2</th>\n",
              "      <td>44</td>\n",
              "      <td>158</td>\n",
              "      <td>5</td>\n",
              "      <td>0</td>\n",
              "      <td>16</td>\n",
              "      <td>34</td>\n",
              "      <td>93</td>\n",
              "      <td>0</td>\n",
              "      <td>2</td>\n",
              "    </tr>\n",
              "  </tbody>\n",
              "</table>\n",
              "</div>"
            ],
            "text/plain": [
              "   home_team  away_team  home_score  ...  away_team_rank  year  status\n",
              "0         20        155           3  ...              21     0       2\n",
              "1         23         94           1  ...              13     0       0\n",
              "2         44        158           5  ...              93     0       2\n",
              "\n",
              "[3 rows x 9 columns]"
            ]
          },
          "metadata": {
            "tags": []
          },
          "execution_count": 40
        }
      ]
    },
    {
      "cell_type": "code",
      "metadata": {
        "id": "_7jxx_61rACj",
        "colab_type": "code",
        "colab": {}
      },
      "source": [
        "# converting categorical variables to dummy indicators\n",
        "\n",
        "# encoded_home_team = pd.get_dummies(football_data['home_team'], drop_first = True)\n",
        "# encoded_away_team = pd.get_dummies(football_data['home_team'], drop_first = True)\n",
        "# tournament_type = pd.get_dummies(football_data['tournament'], drop_first = True)\n",
        "# encoded_year = pd.get_dummies(football_data['year'], drop_first = True)\n",
        "# encoded_status = pd.get_dummies(football_data['status'], drop_first = True)"
      ],
      "execution_count": null,
      "outputs": []
    },
    {
      "cell_type": "code",
      "metadata": {
        "id": "vGe-qPbMsSzG",
        "colab_type": "code",
        "colab": {}
      },
      "source": [
        "# dropping previous categorical columns from the dataframe\n",
        "\n",
        "# football_data.drop(['home_team', 'away_team', 'tournament', 'year', 'status'], axis = 1, inplace = True)"
      ],
      "execution_count": null,
      "outputs": []
    },
    {
      "cell_type": "code",
      "metadata": {
        "id": "beT8Qp6stYzw",
        "colab_type": "code",
        "colab": {}
      },
      "source": [
        "# concatenating the datasets\n",
        "\n",
        "# football_encoded = pd.concat([football_data, encoded_home_team, encoded_away_team, tournament_type, encoded_year, encoded_status], axis = 1)\n",
        "# football_encoded.head(4)"
      ],
      "execution_count": null,
      "outputs": []
    },
    {
      "cell_type": "markdown",
      "metadata": {
        "id": "_n5QpaMouM-G",
        "colab_type": "text"
      },
      "source": [
        "The method opted for encoding the categorical variables is the label encoder as using the dummy indicators resulted to very many columns that were tedious and difficult to work with."
      ]
    },
    {
      "cell_type": "markdown",
      "metadata": {
        "id": "2tA-t_UYvM1P",
        "colab_type": "text"
      },
      "source": [
        "### Checking for multicollinearity"
      ]
    },
    {
      "cell_type": "code",
      "metadata": {
        "id": "VNCMvP5xWEu5",
        "colab_type": "code",
        "colab": {
          "base_uri": "https://localhost:8080/",
          "height": 136
        },
        "outputId": "02d24780-1fab-4ae2-8437-776e8ccbacf3"
      },
      "source": [
        "football.head(3)"
      ],
      "execution_count": null,
      "outputs": [
        {
          "output_type": "execute_result",
          "data": {
            "text/html": [
              "<div>\n",
              "<style scoped>\n",
              "    .dataframe tbody tr th:only-of-type {\n",
              "        vertical-align: middle;\n",
              "    }\n",
              "\n",
              "    .dataframe tbody tr th {\n",
              "        vertical-align: top;\n",
              "    }\n",
              "\n",
              "    .dataframe thead th {\n",
              "        text-align: right;\n",
              "    }\n",
              "</style>\n",
              "<table border=\"1\" class=\"dataframe\">\n",
              "  <thead>\n",
              "    <tr style=\"text-align: right;\">\n",
              "      <th></th>\n",
              "      <th>home_team</th>\n",
              "      <th>away_team</th>\n",
              "      <th>home_score</th>\n",
              "      <th>away_score</th>\n",
              "      <th>tournament</th>\n",
              "      <th>home_team_rank</th>\n",
              "      <th>away_team_rank</th>\n",
              "      <th>year</th>\n",
              "      <th>status</th>\n",
              "    </tr>\n",
              "  </thead>\n",
              "  <tbody>\n",
              "    <tr>\n",
              "      <th>0</th>\n",
              "      <td>Bolivia</td>\n",
              "      <td>Uruguay</td>\n",
              "      <td>3</td>\n",
              "      <td>1</td>\n",
              "      <td>FIFA World Cup qualification</td>\n",
              "      <td>59</td>\n",
              "      <td>22</td>\n",
              "      <td>1993</td>\n",
              "      <td>Win</td>\n",
              "    </tr>\n",
              "    <tr>\n",
              "      <th>1</th>\n",
              "      <td>Brazil</td>\n",
              "      <td>Mexico</td>\n",
              "      <td>1</td>\n",
              "      <td>1</td>\n",
              "      <td>Friendly</td>\n",
              "      <td>8</td>\n",
              "      <td>14</td>\n",
              "      <td>1993</td>\n",
              "      <td>Draw</td>\n",
              "    </tr>\n",
              "    <tr>\n",
              "      <th>2</th>\n",
              "      <td>Ecuador</td>\n",
              "      <td>Venezuela</td>\n",
              "      <td>5</td>\n",
              "      <td>0</td>\n",
              "      <td>FIFA World Cup qualification</td>\n",
              "      <td>35</td>\n",
              "      <td>94</td>\n",
              "      <td>1993</td>\n",
              "      <td>Win</td>\n",
              "    </tr>\n",
              "  </tbody>\n",
              "</table>\n",
              "</div>"
            ],
            "text/plain": [
              "  home_team  away_team  home_score  ...  away_team_rank  year  status\n",
              "0   Bolivia    Uruguay           3  ...              22  1993     Win\n",
              "1    Brazil     Mexico           1  ...              14  1993    Draw\n",
              "2   Ecuador  Venezuela           5  ...              94  1993     Win\n",
              "\n",
              "[3 rows x 9 columns]"
            ]
          },
          "metadata": {
            "tags": []
          },
          "execution_count": 602
        }
      ]
    },
    {
      "cell_type": "code",
      "metadata": {
        "id": "duw2cnSivRhM",
        "colab_type": "code",
        "colab": {}
      },
      "source": [
        "# dropping all columns that are dependent variables in the football_encoded dataset\n",
        "\n",
        "# independent = football_encoded.drop(columns = ['home_score' ,'away_score', 'status'])\n"
      ],
      "execution_count": null,
      "outputs": []
    },
    {
      "cell_type": "code",
      "metadata": {
        "id": "1k6HDEwDgc7h",
        "colab_type": "code",
        "colab": {
          "base_uri": "https://localhost:8080/",
          "height": 225
        },
        "outputId": "3f7b9ab6-192b-45dc-e3d8-746bebcffeec"
      },
      "source": [
        "# correlations between the independent variables\n",
        "correlations = independent.corr()\n",
        "correlations"
      ],
      "execution_count": null,
      "outputs": [
        {
          "output_type": "execute_result",
          "data": {
            "text/html": [
              "<div>\n",
              "<style scoped>\n",
              "    .dataframe tbody tr th:only-of-type {\n",
              "        vertical-align: middle;\n",
              "    }\n",
              "\n",
              "    .dataframe tbody tr th {\n",
              "        vertical-align: top;\n",
              "    }\n",
              "\n",
              "    .dataframe thead th {\n",
              "        text-align: right;\n",
              "    }\n",
              "</style>\n",
              "<table border=\"1\" class=\"dataframe\">\n",
              "  <thead>\n",
              "    <tr style=\"text-align: right;\">\n",
              "      <th></th>\n",
              "      <th>home_team</th>\n",
              "      <th>away_team</th>\n",
              "      <th>tournament</th>\n",
              "      <th>home_team_rank</th>\n",
              "      <th>away_team_rank</th>\n",
              "      <th>year</th>\n",
              "    </tr>\n",
              "  </thead>\n",
              "  <tbody>\n",
              "    <tr>\n",
              "      <th>home_team</th>\n",
              "      <td>1.000000</td>\n",
              "      <td>0.032133</td>\n",
              "      <td>-0.053057</td>\n",
              "      <td>-0.011848</td>\n",
              "      <td>0.059396</td>\n",
              "      <td>0.010759</td>\n",
              "    </tr>\n",
              "    <tr>\n",
              "      <th>away_team</th>\n",
              "      <td>0.032133</td>\n",
              "      <td>1.000000</td>\n",
              "      <td>-0.077447</td>\n",
              "      <td>0.004157</td>\n",
              "      <td>-0.010931</td>\n",
              "      <td>-0.001479</td>\n",
              "    </tr>\n",
              "    <tr>\n",
              "      <th>tournament</th>\n",
              "      <td>-0.053057</td>\n",
              "      <td>-0.077447</td>\n",
              "      <td>1.000000</td>\n",
              "      <td>-0.061817</td>\n",
              "      <td>-0.116988</td>\n",
              "      <td>-0.073375</td>\n",
              "    </tr>\n",
              "    <tr>\n",
              "      <th>home_team_rank</th>\n",
              "      <td>-0.011848</td>\n",
              "      <td>0.004157</td>\n",
              "      <td>-0.061817</td>\n",
              "      <td>1.000000</td>\n",
              "      <td>0.108315</td>\n",
              "      <td>0.211456</td>\n",
              "    </tr>\n",
              "    <tr>\n",
              "      <th>away_team_rank</th>\n",
              "      <td>0.059396</td>\n",
              "      <td>-0.010931</td>\n",
              "      <td>-0.116988</td>\n",
              "      <td>0.108315</td>\n",
              "      <td>1.000000</td>\n",
              "      <td>0.261842</td>\n",
              "    </tr>\n",
              "    <tr>\n",
              "      <th>year</th>\n",
              "      <td>0.010759</td>\n",
              "      <td>-0.001479</td>\n",
              "      <td>-0.073375</td>\n",
              "      <td>0.211456</td>\n",
              "      <td>0.261842</td>\n",
              "      <td>1.000000</td>\n",
              "    </tr>\n",
              "  </tbody>\n",
              "</table>\n",
              "</div>"
            ],
            "text/plain": [
              "                home_team  away_team  ...  away_team_rank      year\n",
              "home_team        1.000000   0.032133  ...        0.059396  0.010759\n",
              "away_team        0.032133   1.000000  ...       -0.010931 -0.001479\n",
              "tournament      -0.053057  -0.077447  ...       -0.116988 -0.073375\n",
              "home_team_rank  -0.011848   0.004157  ...        0.108315  0.211456\n",
              "away_team_rank   0.059396  -0.010931  ...        1.000000  0.261842\n",
              "year             0.010759  -0.001479  ...        0.261842  1.000000\n",
              "\n",
              "[6 rows x 6 columns]"
            ]
          },
          "metadata": {
            "tags": []
          },
          "execution_count": 134
        }
      ]
    },
    {
      "cell_type": "markdown",
      "metadata": {
        "id": "t6bG01rbjOhD",
        "colab_type": "text"
      },
      "source": [
        "We observe a coefficient of 1 accross the diagonal as all the variables are perfectly positively correlated to themselves."
      ]
    },
    {
      "cell_type": "code",
      "metadata": {
        "id": "sb8TCSwwg9m1",
        "colab_type": "code",
        "colab": {
          "base_uri": "https://localhost:8080/",
          "height": 225
        },
        "outputId": "a1b8d8a4-f2ca-49ce-e605-0abf6fb083b1"
      },
      "source": [
        "# compute VIF scores for each variable\n",
        "\n",
        "pd.DataFrame(np.linalg.inv(correlations.values), index = correlations.index, columns = correlations.columns)"
      ],
      "execution_count": null,
      "outputs": [
        {
          "output_type": "execute_result",
          "data": {
            "text/html": [
              "<div>\n",
              "<style scoped>\n",
              "    .dataframe tbody tr th:only-of-type {\n",
              "        vertical-align: middle;\n",
              "    }\n",
              "\n",
              "    .dataframe tbody tr th {\n",
              "        vertical-align: top;\n",
              "    }\n",
              "\n",
              "    .dataframe thead th {\n",
              "        text-align: right;\n",
              "    }\n",
              "</style>\n",
              "<table border=\"1\" class=\"dataframe\">\n",
              "  <thead>\n",
              "    <tr style=\"text-align: right;\">\n",
              "      <th></th>\n",
              "      <th>home_team</th>\n",
              "      <th>away_team</th>\n",
              "      <th>tournament</th>\n",
              "      <th>home_team_rank</th>\n",
              "      <th>away_team_rank</th>\n",
              "      <th>year</th>\n",
              "    </tr>\n",
              "  </thead>\n",
              "  <tbody>\n",
              "    <tr>\n",
              "      <th>home_team</th>\n",
              "      <td>1.007026</td>\n",
              "      <td>-0.029517</td>\n",
              "      <td>0.045883</td>\n",
              "      <td>0.020456</td>\n",
              "      <td>-0.057850</td>\n",
              "      <td>0.003310</td>\n",
              "    </tr>\n",
              "    <tr>\n",
              "      <th>away_team</th>\n",
              "      <td>-0.029517</td>\n",
              "      <td>1.007318</td>\n",
              "      <td>0.079004</td>\n",
              "      <td>-0.002520</td>\n",
              "      <td>0.021632</td>\n",
              "      <td>0.002473</td>\n",
              "    </tr>\n",
              "    <tr>\n",
              "      <th>tournament</th>\n",
              "      <td>0.045883</td>\n",
              "      <td>0.079004</td>\n",
              "      <td>1.026204</td>\n",
              "      <td>0.044321</td>\n",
              "      <td>0.103311</td>\n",
              "      <td>0.038498</td>\n",
              "    </tr>\n",
              "    <tr>\n",
              "      <th>home_team_rank</th>\n",
              "      <td>0.020456</td>\n",
              "      <td>-0.002520</td>\n",
              "      <td>0.044321</td>\n",
              "      <td>1.052397</td>\n",
              "      <td>-0.056441</td>\n",
              "      <td>-0.204729</td>\n",
              "    </tr>\n",
              "    <tr>\n",
              "      <th>away_team_rank</th>\n",
              "      <td>-0.057850</td>\n",
              "      <td>0.021632</td>\n",
              "      <td>0.103311</td>\n",
              "      <td>-0.056441</td>\n",
              "      <td>1.091420</td>\n",
              "      <td>-0.265610</td>\n",
              "    </tr>\n",
              "    <tr>\n",
              "      <th>year</th>\n",
              "      <td>0.003310</td>\n",
              "      <td>0.002473</td>\n",
              "      <td>0.038498</td>\n",
              "      <td>-0.204729</td>\n",
              "      <td>-0.265610</td>\n",
              "      <td>1.115632</td>\n",
              "    </tr>\n",
              "  </tbody>\n",
              "</table>\n",
              "</div>"
            ],
            "text/plain": [
              "                home_team  away_team  ...  away_team_rank      year\n",
              "home_team        1.007026  -0.029517  ...       -0.057850  0.003310\n",
              "away_team       -0.029517   1.007318  ...        0.021632  0.002473\n",
              "tournament       0.045883   0.079004  ...        0.103311  0.038498\n",
              "home_team_rank   0.020456  -0.002520  ...       -0.056441 -0.204729\n",
              "away_team_rank  -0.057850   0.021632  ...        1.091420 -0.265610\n",
              "year             0.003310   0.002473  ...       -0.265610  1.115632\n",
              "\n",
              "[6 rows x 6 columns]"
            ]
          },
          "metadata": {
            "tags": []
          },
          "execution_count": 135
        }
      ]
    },
    {
      "cell_type": "markdown",
      "metadata": {
        "id": "GO_0JqrSjgRK",
        "colab_type": "text"
      },
      "source": [
        " Accross the diagonal, all the VIF scores are less than 5 indicating our variables are not largely correlated."
      ]
    },
    {
      "cell_type": "code",
      "metadata": {
        "id": "TJMJBSuvCpdo",
        "colab_type": "code",
        "colab": {
          "base_uri": "https://localhost:8080/",
          "height": 363
        },
        "outputId": "52c568de-e16d-4419-89a3-1ce84e53f3fd"
      },
      "source": [
        "# visualizing the correlations\n",
        "\n",
        "sb.heatmap(independent.corr())"
      ],
      "execution_count": null,
      "outputs": [
        {
          "output_type": "execute_result",
          "data": {
            "text/plain": [
              "<matplotlib.axes._subplots.AxesSubplot at 0x7ff7096d41d0>"
            ]
          },
          "metadata": {
            "tags": []
          },
          "execution_count": 136
        },
        {
          "output_type": "display_data",
          "data": {
            "image/png": "[encoded data removed]",
            "text/plain": [
              "<Figure size 432x288 with 2 Axes>"
            ]
          },
          "metadata": {
            "tags": [],
            "needs_background": "light"
          }
        }
      ]
    },
    {
      "cell_type": "markdown",
      "metadata": {
        "id": "znuooYnwutby",
        "colab_type": "text"
      },
      "source": [
        "The map shows that all the variables are independent to each other hence our variables don't show multicollinearity."
      ]
    },
    {
      "cell_type": "markdown",
      "metadata": {
        "id": "V99Hl7rPOmnt",
        "colab_type": "text"
      },
      "source": [
        "## Polynomial Regression\n"
      ]
    },
    {
      "cell_type": "markdown",
      "metadata": {
        "id": "U9tEqWOF3FCY",
        "colab_type": "text"
      },
      "source": [
        "What to train given:\n",
        "\n",
        "1. Rank of home team\n",
        "\n",
        "2. Rank of away team\n",
        "\n",
        "3. Tournament type\n"
      ]
    },
    {
      "cell_type": "code",
      "metadata": {
        "id": "PpXIKg3SOqzG",
        "colab_type": "code",
        "colab": {}
      },
      "source": [
        "# importing necessary libraries\n",
        "\n",
        "from sklearn.preprocessing import PolynomialFeatures\n",
        "from sklearn.model_selection import train_test_split\n",
        "from sklearn.linear_model import LinearRegression\n",
        "from sklearn import metrics"
      ],
      "execution_count": null,
      "outputs": []
    },
    {
      "cell_type": "markdown",
      "metadata": {
        "id": "X33IxxFH5rcz",
        "colab_type": "text"
      },
      "source": [
        "#### Model 1: Predict how many goals the home team scores"
      ]
    },
    {
      "cell_type": "code",
      "metadata": {
        "id": "hZ8wDi70REjG",
        "colab_type": "code",
        "colab": {
          "base_uri": "https://localhost:8080/",
          "height": 136
        },
        "outputId": "67da2db1-96cb-4c5c-e551-7a019f3c5b16"
      },
      "source": [
        "football_encoded.head(4)\n",
        "\n",
        "# creating a dataframe of the required variables for this model\n",
        "\n",
        "home_team_df = football_encoded[['home_score', 'tournament', 'home_team_rank', 'away_team_rank']]\n",
        "home_team_df.head(3)"
      ],
      "execution_count": null,
      "outputs": [
        {
          "output_type": "execute_result",
          "data": {
            "text/html": [
              "<div>\n",
              "<style scoped>\n",
              "    .dataframe tbody tr th:only-of-type {\n",
              "        vertical-align: middle;\n",
              "    }\n",
              "\n",
              "    .dataframe tbody tr th {\n",
              "        vertical-align: top;\n",
              "    }\n",
              "\n",
              "    .dataframe thead th {\n",
              "        text-align: right;\n",
              "    }\n",
              "</style>\n",
              "<table border=\"1\" class=\"dataframe\">\n",
              "  <thead>\n",
              "    <tr style=\"text-align: right;\">\n",
              "      <th></th>\n",
              "      <th>home_score</th>\n",
              "      <th>tournament</th>\n",
              "      <th>home_team_rank</th>\n",
              "      <th>away_team_rank</th>\n",
              "    </tr>\n",
              "  </thead>\n",
              "  <tbody>\n",
              "    <tr>\n",
              "      <th>0</th>\n",
              "      <td>3</td>\n",
              "      <td>16</td>\n",
              "      <td>58</td>\n",
              "      <td>21</td>\n",
              "    </tr>\n",
              "    <tr>\n",
              "      <th>1</th>\n",
              "      <td>1</td>\n",
              "      <td>17</td>\n",
              "      <td>7</td>\n",
              "      <td>13</td>\n",
              "    </tr>\n",
              "    <tr>\n",
              "      <th>2</th>\n",
              "      <td>5</td>\n",
              "      <td>16</td>\n",
              "      <td>34</td>\n",
              "      <td>93</td>\n",
              "    </tr>\n",
              "  </tbody>\n",
              "</table>\n",
              "</div>"
            ],
            "text/plain": [
              "   home_score  tournament  home_team_rank  away_team_rank\n",
              "0           3          16              58              21\n",
              "1           1          17               7              13\n",
              "2           5          16              34              93"
            ]
          },
          "metadata": {
            "tags": []
          },
          "execution_count": 43
        }
      ]
    },
    {
      "cell_type": "code",
      "metadata": {
        "id": "Y3t6kFjy5nxj",
        "colab_type": "code",
        "colab": {
          "base_uri": "https://localhost:8080/",
          "height": 67
        },
        "outputId": "4c2a6249-5053-415d-a884-780a2a6ceca5"
      },
      "source": [
        "# calling train and test sets\n",
        "X = home_team_df.drop(\"home_score\", axis = 1)\n",
        "y = home_team_df[\"home_score\"]\n",
        "              \n",
        "# split the dataset into train and test sets\n",
        "X_train, y_train, X_test, y_test = train_test_split(X, y, test_size = 0.2, random_state = 40)\n",
        "\n",
        "# fit a polynomial regression model of degree 2\n",
        "poly_reg = PolynomialFeatures(degree = 1)    \n",
        "\n",
        "#fit and transform our x independent variables into a formart that has the polynomial feature\n",
        "X_poly = poly_reg.fit_transform(X)   \n",
        "# X_test_poly = poly_reg.fit_transform(X_test)\n",
        "\n",
        "# apply our polynomial feature to linear regression\n",
        "pol_reg = LinearRegression()\n",
        "pol_reg.fit(X_poly, y)\n",
        "\n",
        "\n",
        "# assess the accuracy of the model\n",
        "y_pred = pol_reg.predict(poly_reg.fit_transform(X))\n",
        "\n",
        "print('Mean Absolute Error:', metrics.mean_absolute_error(y, y_pred))  \n",
        "print('Mean Squared Error:', metrics.mean_squared_error(y, y_pred))  \n",
        "print('Root Mean Squared Error:', np.sqrt(metrics.mean_squared_error(y, y_pred)))"
      ],
      "execution_count": null,
      "outputs": [
        {
          "output_type": "stream",
          "text": [
            "Mean Absolute Error: 1.1493417157324521\n",
            "Mean Squared Error: 2.566482539387738\n",
            "Root Mean Squared Error: 1.6020245127299826\n"
          ],
          "name": "stdout"
        }
      ]
    },
    {
      "cell_type": "markdown",
      "metadata": {
        "id": "rYg1A0LpnHzP",
        "colab_type": "text"
      },
      "source": [
        "The root mean squared error is 1.60 which seems to be quite high hence our train and test sets are likely to be distributed unevely.It is therefore important to cross-validate our model."
      ]
    },
    {
      "cell_type": "markdown",
      "metadata": {
        "id": "g79liiaG90t6",
        "colab_type": "text"
      },
      "source": [
        "### K-fold Cross Validation"
      ]
    },
    {
      "cell_type": "code",
      "metadata": {
        "id": "uAi4wvz1_Qgc",
        "colab_type": "code",
        "colab": {
          "base_uri": "https://localhost:8080/",
          "height": 286
        },
        "outputId": "6c50c8e7-4297-4ef2-8fd4-46a76413e88c"
      },
      "source": [
        "# calling train and test sets\n",
        "X = home_team_df[[\"tournament\", \"home_team_rank\", \"away_team_rank\"]].values\n",
        "y = home_team_df[\"home_score\"].values\n",
        "\n",
        "# \n",
        "from sklearn.model_selection import KFold\n",
        "folds = KFold(n_splits = 5)\n",
        "# \n",
        "print('we are using ' +str (folds.get_n_splits(X)) + ' folds')\n",
        "\n",
        "# we create and assess 5 models based on the folds we created\n",
        "RMSES = []\n",
        "count = 1\n",
        "for train_index, test_index in folds.split(X):\n",
        "  print('\\n Training model' + str(count))\n",
        "\n",
        "  # set up train and test based on the split determined by kfold\n",
        "  X_train1, X_test1 = X[train_index], X[test_index]\n",
        "  y_train1, y_test1 = y[train_index], y[test_index]\n",
        "\n",
        "  # fit a polynomial regression model of degree 1\n",
        "  poly_reg_2 = PolynomialFeatures(degree = 1)     #fit a polynomial of degree 1\n",
        "  X_poly_2 = poly_reg_2.fit_transform(X_train1)   #fit and transform our x independent variables into a formart that has the polynomial feature\n",
        "\n",
        "  # apply our polynomial feature to linear regression\n",
        "  pol_reg_2 = LinearRegression()\n",
        "  pol_reg_2.fit(X_poly_2, y_train1)\n",
        "\n",
        "  # assess the accuracy of the model\n",
        "  y_pred1 = pol_reg_2.predict(poly_reg_2.fit_transform(X_test1))\n",
        "\n",
        "  rmse_value = np.sqrt(metrics.mean_squared_error(y_test1, y_pred1))\n",
        "  RMSES.append(rmse_value)\n",
        "\n",
        "  print('Model' + str(count) + 'Root Mean Squared Error:', rmse_value)\n",
        "  count = count + 1\n"
      ],
      "execution_count": null,
      "outputs": [
        {
          "output_type": "stream",
          "text": [
            "we are using 5 folds\n",
            "\n",
            " Training model1\n",
            "Model1Root Mean Squared Error: 1.5117856981604358\n",
            "\n",
            " Training model2\n",
            "Model2Root Mean Squared Error: 1.5815793734420207\n",
            "\n",
            " Training model3\n",
            "Model3Root Mean Squared Error: 1.6425693430170047\n",
            "\n",
            " Training model4\n",
            "Model4Root Mean Squared Error: 1.4131799495508548\n",
            "\n",
            " Training model5\n",
            "Model5Root Mean Squared Error: 1.8820277026727608\n"
          ],
          "name": "stdout"
        }
      ]
    },
    {
      "cell_type": "code",
      "metadata": {
        "id": "coyEf-89NzDc",
        "colab_type": "code",
        "colab": {
          "base_uri": "https://localhost:8080/",
          "height": 34
        },
        "outputId": "b8749056-59c3-4f1e-925b-a0fe14f8ef2b"
      },
      "source": [
        "# compute the average value of all the RMSE scores above\n",
        "np.mean(RMSES)"
      ],
      "execution_count": null,
      "outputs": [
        {
          "output_type": "execute_result",
          "data": {
            "text/plain": [
              "1.6062284133686155"
            ]
          },
          "metadata": {
            "tags": []
          },
          "execution_count": 76
        }
      ]
    },
    {
      "cell_type": "markdown",
      "metadata": {
        "id": "ofsZ2zkxOCPP",
        "colab_type": "text"
      },
      "source": [
        "From the above RMSE scores, we observe that model 5 had the highest RMSE while model 4 had the lowest RMSE out of the five models. This could mean that most outliers from the dataset landed in model 5 hence we should perform further analysis of the specific indices in model 5 to obtain better insights. \n",
        "\n",
        "The mean value of the model above is equal to the mean value of the five models. However, models 1, 2 and 4 have RSMES that are below the mean value hence they are the more reliable models to use. However, Model 4 is the best as it has the lowest RMSE score."
      ]
    },
    {
      "cell_type": "markdown",
      "metadata": {
        "id": "e1JKAFasxRU-",
        "colab_type": "text"
      },
      "source": [
        "### Leave one out cross validation"
      ]
    },
    {
      "cell_type": "code",
      "metadata": {
        "id": "zbemCDiZy_wy",
        "colab_type": "code",
        "colab": {
          "base_uri": "https://localhost:8080/",
          "height": 84
        },
        "outputId": "182311cc-aa7e-4131-e8a8-217c03289bc1"
      },
      "source": [
        "# calling train and test sets\n",
        "X = home_team_df[[\"tournament\", \"home_team_rank\", \"away_team_rank\"]].values\n",
        "y = home_team_df[\"home_score\"].values\n",
        "\n",
        "# importing leave one out library\n",
        "from sklearn.model_selection import LeaveOneOut\n",
        "\n",
        "#\n",
        "folds = LeaveOneOut()\n",
        "\n",
        "#find out how many folds set up for using  get_n_splits\n",
        "print('we are using ' + str (folds.get_n_splits(X)) + ' folds')\n",
        "\n",
        "# create and assess five models based on the folds we have created\n",
        "\n",
        "RMSES = []\n",
        "count = 0\n",
        "for train_index, test_index in folds.split(X):\n",
        "  # set up train and test based on split determined by kfold\n",
        "  X_train, X_test = X[train_index], X[test_index]\n",
        "  y_train, y_test = y[train_index], y[test_index]\n",
        "\n",
        "  # fitting a polynomial regression model of degree 1\n",
        "\n",
        "  poly_reg = PolynomialFeatures(degree = 1)     #fit a polynomial of degree \n",
        "  X_poly = poly_reg.fit_transform(X_train)      #fit and transform our independent train sets into a formart that has the polynomial feature\n",
        "\n",
        "  #apply our polynomial feature to linear regression\n",
        "  pol_reg = LinearRegression()                          \n",
        "  pol_reg.fit(X_poly, y_train)\n",
        "\n",
        "  # making predictions\n",
        "  y_pred = pol_reg.predict(poly_reg.fit_transform(X_test))\n",
        "\n",
        "  # import metrics\n",
        "  from sklearn import metrics\n",
        "\n",
        "  # assessing the accuracy of the model\n",
        "  rmse_value = np.sqrt(metrics.mean_squared_error(y_test, y_pred))\n",
        "  RMSES.append (rmse_value)\n",
        "\n",
        "  count = count + 1\n",
        "\n",
        "print('trained '+str(count) + ' models')\n",
        "print('--------------------------')\n",
        "print('The mean of the RMSES is: ' + str (np.mean(RMSES)))\n"
      ],
      "execution_count": null,
      "outputs": [
        {
          "output_type": "stream",
          "text": [
            "we are using 933 folds\n",
            "trained 933 models\n",
            "--------------------------\n",
            "The mean of the RMSES is: 1.1549488826962182\n"
          ],
          "name": "stdout"
        }
      ]
    },
    {
      "cell_type": "code",
      "metadata": {
        "id": "WSw-PDZHQbpv",
        "colab_type": "code",
        "colab": {}
      },
      "source": [
        "# plotting RMSE scores accross all our models\n",
        "import matplotlib.pyplot as plt\n",
        "\n",
        "plt.plot(RMSES)\n",
        "plt.ylabel('RMSE value')\n",
        "plt.xlabel('model ID')\n",
        "plt.show()"
      ],
      "execution_count": null,
      "outputs": []
    },
    {
      "cell_type": "markdown",
      "metadata": {
        "id": "btYa-TOOPOOq",
        "colab_type": "text"
      },
      "source": [
        "The mean value of the RMSES from this approach is 1.1549, which is way lower than the models from the above 5 folds. So far, this is the best score which is going to be difficult to beat. Hence for predicting the home scores for the home teams this model is the better fit as compared to the other models."
      ]
    },
    {
      "cell_type": "markdown",
      "metadata": {
        "id": "RGXvhaZ1Unjy",
        "colab_type": "text"
      },
      "source": [
        "Exploring how the RMSES will change using a polynomial of a higher degree"
      ]
    },
    {
      "cell_type": "code",
      "metadata": {
        "id": "UetdKnEyU9Zh",
        "colab_type": "code",
        "colab": {
          "base_uri": "https://localhost:8080/",
          "height": 84
        },
        "outputId": "63fc3369-6cc9-4ec1-88ef-e800a0391cd0"
      },
      "source": [
        "# importing leave one out library\n",
        "from sklearn.model_selection import LeaveOneOut\n",
        "\n",
        "#\n",
        "folds = LeaveOneOut()\n",
        "\n",
        "#find out how many folds set up for using  get_n_splits\n",
        "print('we are using ' + str (folds.get_n_splits(X)) + ' folds')\n",
        "\n",
        "# create and assess five models based on the folds we have created\n",
        "\n",
        "RMSES = []\n",
        "count = 0\n",
        "for train_index, test_index in folds.split(X):\n",
        "  # set up train and test based on split determined by kfold\n",
        "  X_train, X_test = X[train_index], X[test_index]\n",
        "  y_train, y_test = y[train_index], y[test_index]\n",
        "\n",
        "  # fitting a polynomial regression model of degree 2\n",
        "\n",
        "  poly_reg = PolynomialFeatures(degree = 2)     #fit a polynomial of degree 2\n",
        "  X_poly = poly_reg.fit_transform(X_train)      #fit and transform our independent train sets into a formart that has the polynomial feature\n",
        "\n",
        "  #apply our polynomial feature to linear regression\n",
        "  pol_reg = LinearRegression()                          \n",
        "  pol_reg.fit(X_poly, y_train)\n",
        "\n",
        "  # making predictions\n",
        "  y_pred = pol_reg.predict(poly_reg.fit_transform(X_test))\n",
        "\n",
        "  # import metrics\n",
        "  from sklearn import metrics\n",
        "\n",
        "  # assessing the accuracy of the model\n",
        "  rmse_value = np.sqrt(metrics.mean_squared_error(y_test, y_pred))\n",
        "  RMSES.append (rmse_value)\n",
        "\n",
        "  count = count + 1\n",
        "\n",
        "print('trained '+str(count) + ' models')\n",
        "print('--------------------------')\n",
        "print('The mean of the RMSES is: ' + str (np.mean(RMSES)))"
      ],
      "execution_count": null,
      "outputs": [
        {
          "output_type": "stream",
          "text": [
            "we are using 933 folds\n",
            "trained 933 models\n",
            "--------------------------\n",
            "The mean of the RMSES is: 1.1568454187779829\n"
          ],
          "name": "stdout"
        }
      ]
    },
    {
      "cell_type": "markdown",
      "metadata": {
        "id": "8txj_qwJVcbt",
        "colab_type": "text"
      },
      "source": [
        "By increasing the degree of the polynomial to 2, the RMSE score has increased slightly. This is an indication that the best model to use is a polynomial of degree 1 to avoid overfitting."
      ]
    },
    {
      "cell_type": "markdown",
      "metadata": {
        "id": "jG5b2NbL3WuC",
        "colab_type": "text"
      },
      "source": [
        "#### Residuals and Heteroscedasticity"
      ]
    },
    {
      "cell_type": "code",
      "metadata": {
        "colab_type": "code",
        "id": "ek25cyJQ3uXC",
        "colab": {
          "base_uri": "https://localhost:8080/",
          "height": 34
        },
        "outputId": "eb3bd1e6-70f2-40cb-9dfe-5929e77e547b"
      },
      "source": [
        "# creating the residuals\n",
        "residuals = np.subtract(y_pred, y_test)\n",
        "\n",
        "# describing our residuals\n",
        "pd.DataFrame(residuals).describe()\n",
        "residuals.mean()"
      ],
      "execution_count": null,
      "outputs": [
        {
          "output_type": "execute_result",
          "data": {
            "text/plain": [
              "1.1887979267660311"
            ]
          },
          "metadata": {
            "tags": []
          },
          "execution_count": 81
        }
      ]
    },
    {
      "cell_type": "markdown",
      "metadata": {
        "id": "fm5zcTA734EI",
        "colab_type": "text"
      },
      "source": [
        "The mean of the residuals is 1,189 which is moderate\n",
        "\n",
        "\n"
      ]
    },
    {
      "cell_type": "code",
      "metadata": {
        "colab_type": "code",
        "id": "BIWD3t8U4OUk",
        "colab": {
          "base_uri": "https://localhost:8080/",
          "height": 202
        },
        "outputId": "e98b9e1f-5dc3-4865-ccfc-4751a1ad14c2"
      },
      "source": [
        "# performimg a heteroscedasticity test\n",
        "import scipy as sp\n",
        "test_result, p_value = sp.stats.bartlett(y_pred, residuals)\n",
        "test_result, p_value"
      ],
      "execution_count": null,
      "outputs": [
        {
          "output_type": "stream",
          "text": [
            "/usr/local/lib/python3.6/dist-packages/numpy/core/fromnumeric.py:3584: RuntimeWarning: Degrees of freedom <= 0 for slice\n",
            "  **kwargs)\n",
            "/usr/local/lib/python3.6/dist-packages/numpy/core/_methods.py:209: RuntimeWarning: invalid value encountered in double_scalars\n",
            "  ret = ret.dtype.type(ret / rcount)\n",
            "/usr/local/lib/python3.6/dist-packages/scipy/stats/morestats.py:2242: RuntimeWarning: divide by zero encountered in true_divide\n",
            "  denom = 1.0 + 1.0/(3*(k - 1)) * ((np.sum(1.0/(Ni - 1.0), axis=0)) -\n",
            "/usr/local/lib/python3.6/dist-packages/scipy/stats/morestats.py:2243: RuntimeWarning: divide by zero encountered in double_scalars\n",
            "  1.0/(Ntot - k))\n",
            "/usr/local/lib/python3.6/dist-packages/scipy/stats/morestats.py:2243: RuntimeWarning: invalid value encountered in double_scalars\n",
            "  1.0/(Ntot - k))\n"
          ],
          "name": "stderr"
        },
        {
          "output_type": "execute_result",
          "data": {
            "text/plain": [
              "(nan, nan)"
            ]
          },
          "metadata": {
            "tags": []
          },
          "execution_count": 82
        }
      ]
    },
    {
      "cell_type": "markdown",
      "metadata": {
        "id": "UbsTMfXISUoa",
        "colab_type": "text"
      },
      "source": [
        "#### Model 2: Predict how many goals the away team scores"
      ]
    },
    {
      "cell_type": "code",
      "metadata": {
        "id": "nimb444Z9shc",
        "colab_type": "code",
        "colab": {
          "base_uri": "https://localhost:8080/",
          "height": 136
        },
        "outputId": "87d244a6-56f1-4ba2-a85a-f8c2f1ceacfd"
      },
      "source": [
        "# creating a dataframe with the required variables\n",
        "\n",
        "away_team_df = football_encoded[[\"away_score\", \"tournament\", \"home_team_rank\", \"away_team_rank\"]]\n",
        "away_team_df.head(3)"
      ],
      "execution_count": null,
      "outputs": [
        {
          "output_type": "execute_result",
          "data": {
            "text/html": [
              "<div>\n",
              "<style scoped>\n",
              "    .dataframe tbody tr th:only-of-type {\n",
              "        vertical-align: middle;\n",
              "    }\n",
              "\n",
              "    .dataframe tbody tr th {\n",
              "        vertical-align: top;\n",
              "    }\n",
              "\n",
              "    .dataframe thead th {\n",
              "        text-align: right;\n",
              "    }\n",
              "</style>\n",
              "<table border=\"1\" class=\"dataframe\">\n",
              "  <thead>\n",
              "    <tr style=\"text-align: right;\">\n",
              "      <th></th>\n",
              "      <th>away_score</th>\n",
              "      <th>tournament</th>\n",
              "      <th>home_team_rank</th>\n",
              "      <th>away_team_rank</th>\n",
              "    </tr>\n",
              "  </thead>\n",
              "  <tbody>\n",
              "    <tr>\n",
              "      <th>0</th>\n",
              "      <td>1</td>\n",
              "      <td>16</td>\n",
              "      <td>58</td>\n",
              "      <td>21</td>\n",
              "    </tr>\n",
              "    <tr>\n",
              "      <th>1</th>\n",
              "      <td>1</td>\n",
              "      <td>17</td>\n",
              "      <td>7</td>\n",
              "      <td>13</td>\n",
              "    </tr>\n",
              "    <tr>\n",
              "      <th>2</th>\n",
              "      <td>0</td>\n",
              "      <td>16</td>\n",
              "      <td>34</td>\n",
              "      <td>93</td>\n",
              "    </tr>\n",
              "  </tbody>\n",
              "</table>\n",
              "</div>"
            ],
            "text/plain": [
              "   away_score  tournament  home_team_rank  away_team_rank\n",
              "0           1          16              58              21\n",
              "1           1          17               7              13\n",
              "2           0          16              34              93"
            ]
          },
          "metadata": {
            "tags": []
          },
          "execution_count": 85
        }
      ]
    },
    {
      "cell_type": "code",
      "metadata": {
        "id": "OkKFF4bzs9Fh",
        "colab_type": "code",
        "colab": {}
      },
      "source": [
        "# calling train and test sets\n",
        "\n",
        "A = away_team_df.drop(\"away_score\", axis = 1)\n",
        "b = away_team_df[\"away_score\"]\n",
        "              \n",
        "# print(A)\n",
        "# print(b)"
      ],
      "execution_count": null,
      "outputs": []
    },
    {
      "cell_type": "code",
      "metadata": {
        "id": "HRln3NDH45ip",
        "colab_type": "code",
        "colab": {
          "base_uri": "https://localhost:8080/",
          "height": 34
        },
        "outputId": "7150ea49-d064-42b0-c37b-5af8907e65d0"
      },
      "source": [
        "# fitting a polynomial regression model of degree 1\n",
        "\n",
        "poly_reg = PolynomialFeatures(degree = 1)     #fit a polynomial of degree 1\n",
        "A_poly = poly_reg.fit_transform(A)             #fit and transform our independent train sets into a formart that has the polynomial feature\n",
        "\n",
        "#apply our polynomial feature to linear regression\n",
        "pol_reg = LinearRegression()                          \n",
        "pol_reg.fit(A_poly, b)\n",
        "\n",
        "# making predictions\n",
        "b_pred = pol_reg.predict(poly_reg.fit_transform(A))\n",
        "\n",
        "# assessing the model\n",
        "print('Root Mean Squared Error:', np.sqrt(metrics.mean_squared_error(b, b_pred)))"
      ],
      "execution_count": null,
      "outputs": [
        {
          "output_type": "stream",
          "text": [
            "Root Mean Squared Error: 1.154235483617598\n"
          ],
          "name": "stdout"
        }
      ]
    },
    {
      "cell_type": "markdown",
      "metadata": {
        "id": "ZXN7Uu6L5__-",
        "colab_type": "text"
      },
      "source": [
        "The predicted model has a root mean squared error of 1.154 is quite high hence it is important to cross validate the model."
      ]
    },
    {
      "cell_type": "code",
      "metadata": {
        "id": "QvCL31QvTv2u",
        "colab_type": "code",
        "colab": {
          "base_uri": "https://localhost:8080/",
          "height": 84
        },
        "outputId": "36453002-2f1b-4a32-897a-7730fc8616e0"
      },
      "source": [
        "# importing leave one out library\n",
        "from sklearn.model_selection import LeaveOneOut\n",
        "\n",
        "# calling train and test sets\n",
        "A = away_team_df[[\"tournament\", \"home_team_rank\", \"away_team_rank\"]].values\n",
        "b = away_team_df[\"away_score\"].values\n",
        "\n",
        "#\n",
        "folds = LeaveOneOut()\n",
        "\n",
        "#find out how many folds set up for using  get_n_splits\n",
        "print('we are using ' + str (folds.get_n_splits(X)) + ' folds')\n",
        "\n",
        "# create and assess five models based on the folds we have created\n",
        "\n",
        "RMSES = []\n",
        "count = 0\n",
        "for train_index, test_index in folds.split(X):\n",
        "  # set up train and test based on split determined by kfold\n",
        "  A_train, A_test = A[train_index], A[test_index]\n",
        "  b_train, b_test = b[train_index], b[test_index]\n",
        "\n",
        "  # fitting a polynomial regression model of degree 2\n",
        "\n",
        "  poly_reg = PolynomialFeatures(degree = 2)     #fit a polynomial of degree 2\n",
        "  A_poly = poly_reg.fit_transform(A_train)      #fit and transform our independent train sets into a formart that has the polynomial feature\n",
        "\n",
        "  #apply our polynomial feature to linear regression\n",
        "  pol_reg = LinearRegression()                          \n",
        "  pol_reg.fit(A_poly, b_train)\n",
        "\n",
        "  # making predictions\n",
        "  b_pred = pol_reg.predict(poly_reg.fit_transform(A_test))\n",
        "\n",
        "  # import metrics\n",
        "  from sklearn import metrics\n",
        "\n",
        "  # assessing the accuracy of the model\n",
        "  rmse_value = np.sqrt(metrics.mean_squared_error(b_test, b_pred))\n",
        "  RMSES.append (rmse_value)\n",
        "\n",
        "  count = count + 1\n",
        "  \n",
        "print('trained '+str(count) + ' models')\n",
        "print('--------------------------')\n",
        "print('The mean of the RMSES is: ' + str (np.mean(RMSES)))\n"
      ],
      "execution_count": null,
      "outputs": [
        {
          "output_type": "stream",
          "text": [
            "we are using 933 folds\n",
            "trained 933 models\n",
            "--------------------------\n",
            "The mean of the RMSES is: 0.848216707120763\n"
          ],
          "name": "stdout"
        }
      ]
    },
    {
      "cell_type": "markdown",
      "metadata": {
        "id": "3xAIby7H6T7t",
        "colab_type": "text"
      },
      "source": [
        "After cross validation the RMSE score had greatly reduced. It would be difficult to fit a polynomial model with a lower RMSES hence the cross validated model is a better model."
      ]
    },
    {
      "cell_type": "markdown",
      "metadata": {
        "id": "9g7Qq-BR_sSg",
        "colab_type": "text"
      },
      "source": [
        "#### Residuals and heteroscedasticity"
      ]
    },
    {
      "cell_type": "code",
      "metadata": {
        "id": "toGzhKHK_x18",
        "colab_type": "code",
        "colab": {
          "base_uri": "https://localhost:8080/",
          "height": 34
        },
        "outputId": "33cca4df-c0e1-463c-948c-e0a1eebcf8e2"
      },
      "source": [
        "# creating the residuals\n",
        "residuals = np.subtract(b_pred, b_test)\n",
        "\n",
        "# describing our residuals\n",
        "pd.DataFrame(residuals).describe()\n",
        "residuals.mean()"
      ],
      "execution_count": null,
      "outputs": [
        {
          "output_type": "execute_result",
          "data": {
            "text/plain": [
              "-1.2615333463777727"
            ]
          },
          "metadata": {
            "tags": []
          },
          "execution_count": 90
        }
      ]
    },
    {
      "cell_type": "markdown",
      "metadata": {
        "id": "m9A4v-aB_6TY",
        "colab_type": "text"
      },
      "source": [
        "The mean value of the residuals is negative. This shows that there is a negative difference between the predicted scores and the test score values"
      ]
    },
    {
      "cell_type": "code",
      "metadata": {
        "id": "OdogcWKrAYCs",
        "colab_type": "code",
        "colab": {
          "base_uri": "https://localhost:8080/",
          "height": 202
        },
        "outputId": "06ebf2a1-9e11-400e-e523-6be993a00946"
      },
      "source": [
        "# performimg a heteroscedasticity test\n",
        "import scipy as sp\n",
        "test_result, p_value = sp.stats.bartlett(b_pred, residuals)\n",
        "test_result, p_value"
      ],
      "execution_count": null,
      "outputs": [
        {
          "output_type": "stream",
          "text": [
            "/usr/local/lib/python3.6/dist-packages/numpy/core/fromnumeric.py:3584: RuntimeWarning: Degrees of freedom <= 0 for slice\n",
            "  **kwargs)\n",
            "/usr/local/lib/python3.6/dist-packages/numpy/core/_methods.py:209: RuntimeWarning: invalid value encountered in double_scalars\n",
            "  ret = ret.dtype.type(ret / rcount)\n",
            "/usr/local/lib/python3.6/dist-packages/scipy/stats/morestats.py:2242: RuntimeWarning: divide by zero encountered in true_divide\n",
            "  denom = 1.0 + 1.0/(3*(k - 1)) * ((np.sum(1.0/(Ni - 1.0), axis=0)) -\n",
            "/usr/local/lib/python3.6/dist-packages/scipy/stats/morestats.py:2243: RuntimeWarning: divide by zero encountered in double_scalars\n",
            "  1.0/(Ntot - k))\n",
            "/usr/local/lib/python3.6/dist-packages/scipy/stats/morestats.py:2243: RuntimeWarning: invalid value encountered in double_scalars\n",
            "  1.0/(Ntot - k))\n"
          ],
          "name": "stderr"
        },
        {
          "output_type": "execute_result",
          "data": {
            "text/plain": [
              "(nan, nan)"
            ]
          },
          "metadata": {
            "tags": []
          },
          "execution_count": 91
        }
      ]
    },
    {
      "cell_type": "markdown",
      "metadata": {
        "id": "RNhaCq77Ohcb",
        "colab_type": "text"
      },
      "source": [
        "###Logistic Regression"
      ]
    },
    {
      "cell_type": "markdown",
      "metadata": {
        "id": "LZ4i3sV0JZXR",
        "colab_type": "text"
      },
      "source": [
        "What is the home team's perspective if the game is a win, loss or draw?"
      ]
    },
    {
      "cell_type": "code",
      "metadata": {
        "id": "GxZbH2UyD2DU",
        "colab_type": "code",
        "colab": {
          "base_uri": "https://localhost:8080/",
          "height": 136
        },
        "outputId": "73c94f22-47e5-4e71-f655-ea57695142a6"
      },
      "source": [
        "# previewing the dataset\n",
        "football_encoded.head(3)"
      ],
      "execution_count": null,
      "outputs": [
        {
          "output_type": "execute_result",
          "data": {
            "text/html": [
              "<div>\n",
              "<style scoped>\n",
              "    .dataframe tbody tr th:only-of-type {\n",
              "        vertical-align: middle;\n",
              "    }\n",
              "\n",
              "    .dataframe tbody tr th {\n",
              "        vertical-align: top;\n",
              "    }\n",
              "\n",
              "    .dataframe thead th {\n",
              "        text-align: right;\n",
              "    }\n",
              "</style>\n",
              "<table border=\"1\" class=\"dataframe\">\n",
              "  <thead>\n",
              "    <tr style=\"text-align: right;\">\n",
              "      <th></th>\n",
              "      <th>home_team</th>\n",
              "      <th>away_team</th>\n",
              "      <th>home_score</th>\n",
              "      <th>away_score</th>\n",
              "      <th>tournament</th>\n",
              "      <th>home_team_rank</th>\n",
              "      <th>away_team_rank</th>\n",
              "      <th>year</th>\n",
              "      <th>status</th>\n",
              "    </tr>\n",
              "  </thead>\n",
              "  <tbody>\n",
              "    <tr>\n",
              "      <th>0</th>\n",
              "      <td>20</td>\n",
              "      <td>155</td>\n",
              "      <td>3</td>\n",
              "      <td>1</td>\n",
              "      <td>16</td>\n",
              "      <td>58</td>\n",
              "      <td>21</td>\n",
              "      <td>0</td>\n",
              "      <td>2</td>\n",
              "    </tr>\n",
              "    <tr>\n",
              "      <th>1</th>\n",
              "      <td>23</td>\n",
              "      <td>94</td>\n",
              "      <td>1</td>\n",
              "      <td>1</td>\n",
              "      <td>17</td>\n",
              "      <td>7</td>\n",
              "      <td>13</td>\n",
              "      <td>0</td>\n",
              "      <td>0</td>\n",
              "    </tr>\n",
              "    <tr>\n",
              "      <th>2</th>\n",
              "      <td>44</td>\n",
              "      <td>158</td>\n",
              "      <td>5</td>\n",
              "      <td>0</td>\n",
              "      <td>16</td>\n",
              "      <td>34</td>\n",
              "      <td>93</td>\n",
              "      <td>0</td>\n",
              "      <td>2</td>\n",
              "    </tr>\n",
              "  </tbody>\n",
              "</table>\n",
              "</div>"
            ],
            "text/plain": [
              "   home_team  away_team  home_score  ...  away_team_rank  year  status\n",
              "0         20        155           3  ...              21     0       2\n",
              "1         23         94           1  ...              13     0       0\n",
              "2         44        158           5  ...              93     0       2\n",
              "\n",
              "[3 rows x 9 columns]"
            ]
          },
          "metadata": {
            "tags": []
          },
          "execution_count": 32
        }
      ]
    },
    {
      "cell_type": "code",
      "metadata": {
        "id": "3Ohgyl6bkFGh",
        "colab_type": "code",
        "colab": {
          "base_uri": "https://localhost:8080/",
          "height": 136
        },
        "outputId": "04e0d956-915d-456d-b27e-a55b21aaddc1"
      },
      "source": [
        "# creating a new dataframe of the target variable and the independent features of this variable\n",
        "home_team_perspective = football_encoded[['home_team', 'home_score', 'tournament', 'home_team_rank', 'status']]\n",
        "home_team_perspective.head(3)"
      ],
      "execution_count": null,
      "outputs": [
        {
          "output_type": "execute_result",
          "data": {
            "text/html": [
              "<div>\n",
              "<style scoped>\n",
              "    .dataframe tbody tr th:only-of-type {\n",
              "        vertical-align: middle;\n",
              "    }\n",
              "\n",
              "    .dataframe tbody tr th {\n",
              "        vertical-align: top;\n",
              "    }\n",
              "\n",
              "    .dataframe thead th {\n",
              "        text-align: right;\n",
              "    }\n",
              "</style>\n",
              "<table border=\"1\" class=\"dataframe\">\n",
              "  <thead>\n",
              "    <tr style=\"text-align: right;\">\n",
              "      <th></th>\n",
              "      <th>home_team</th>\n",
              "      <th>home_score</th>\n",
              "      <th>tournament</th>\n",
              "      <th>home_team_rank</th>\n",
              "      <th>status</th>\n",
              "    </tr>\n",
              "  </thead>\n",
              "  <tbody>\n",
              "    <tr>\n",
              "      <th>0</th>\n",
              "      <td>20</td>\n",
              "      <td>3</td>\n",
              "      <td>16</td>\n",
              "      <td>58</td>\n",
              "      <td>2</td>\n",
              "    </tr>\n",
              "    <tr>\n",
              "      <th>1</th>\n",
              "      <td>23</td>\n",
              "      <td>1</td>\n",
              "      <td>17</td>\n",
              "      <td>7</td>\n",
              "      <td>0</td>\n",
              "    </tr>\n",
              "    <tr>\n",
              "      <th>2</th>\n",
              "      <td>44</td>\n",
              "      <td>5</td>\n",
              "      <td>16</td>\n",
              "      <td>34</td>\n",
              "      <td>2</td>\n",
              "    </tr>\n",
              "  </tbody>\n",
              "</table>\n",
              "</div>"
            ],
            "text/plain": [
              "   home_team  home_score  tournament  home_team_rank  status\n",
              "0         20           3          16              58       2\n",
              "1         23           1          17               7       0\n",
              "2         44           5          16              34       2"
            ]
          },
          "metadata": {
            "tags": []
          },
          "execution_count": 76
        }
      ]
    },
    {
      "cell_type": "code",
      "metadata": {
        "id": "Q6arTdBj9Y9Y",
        "colab_type": "code",
        "colab": {
          "base_uri": "https://localhost:8080/",
          "height": 296
        },
        "outputId": "c51cca30-6fa2-4c2d-85ff-4ef2607ae2d2"
      },
      "source": [
        "# checking our target variable \n",
        "sb.countplot(x = 'status', data = home_team_perspective, palette = 'hls')"
      ],
      "execution_count": null,
      "outputs": [
        {
          "output_type": "execute_result",
          "data": {
            "text/plain": [
              "<matplotlib.axes._subplots.AxesSubplot at 0x7f980428ac88>"
            ]
          },
          "metadata": {
            "tags": []
          },
          "execution_count": 77
        },
        {
          "output_type": "display_data",
          "data": {
            "image/png": "[encoded data removed]",
            "text/plain": [
              "<Figure size 432x288 with 1 Axes>"
            ]
          },
          "metadata": {
            "tags": [],
            "needs_background": "light"
          }
        }
      ]
    },
    {
      "cell_type": "markdown",
      "metadata": {
        "id": "7p71WP1LJ8yF",
        "colab_type": "text"
      },
      "source": [
        "From the output, the target variable has more than two outcomes hence it is not binary"
      ]
    },
    {
      "cell_type": "code",
      "metadata": {
        "id": "MM4JcHnUoMuM",
        "colab_type": "code",
        "colab": {
          "base_uri": "https://localhost:8080/",
          "height": 34
        },
        "outputId": "74fd3447-8e5f-42a1-ecc3-c6aac82dcc78"
      },
      "source": [
        "# confirming there are no missing values in the dataset\n",
        "home_team_perspective.isnull().values.any()"
      ],
      "execution_count": null,
      "outputs": [
        {
          "output_type": "execute_result",
          "data": {
            "text/plain": [
              "False"
            ]
          },
          "metadata": {
            "tags": []
          },
          "execution_count": 78
        }
      ]
    },
    {
      "cell_type": "markdown",
      "metadata": {
        "id": "cNRLlJbFKj9A",
        "colab_type": "text"
      },
      "source": [
        "The encoded dataset does not contain any missing values"
      ]
    },
    {
      "cell_type": "code",
      "metadata": {
        "id": "R5vWZRmwzoeg",
        "colab_type": "code",
        "colab": {
          "base_uri": "https://localhost:8080/",
          "height": 363
        },
        "outputId": "8b592509-ba67-4a8d-e4ed-5717c1cbda3a"
      },
      "source": [
        "#checking for independence between features\n",
        "sb.heatmap(home_team_perspective.corr())"
      ],
      "execution_count": null,
      "outputs": [
        {
          "output_type": "execute_result",
          "data": {
            "text/plain": [
              "<matplotlib.axes._subplots.AxesSubplot at 0x7f980c6fe550>"
            ]
          },
          "metadata": {
            "tags": []
          },
          "execution_count": 36
        },
        {
          "output_type": "display_data",
          "data": {
            "image/png": "[encoded data removed]",
            "text/plain": [
              "<Figure size 432x288 with 2 Axes>"
            ]
          },
          "metadata": {
            "tags": [],
            "needs_background": "light"
          }
        }
      ]
    },
    {
      "cell_type": "markdown",
      "metadata": {
        "id": "hEYrNMcULEQ8",
        "colab_type": "text"
      },
      "source": [
        "All the features are independent hence we retain all of them"
      ]
    },
    {
      "cell_type": "code",
      "metadata": {
        "id": "kiDqbcihIpKO",
        "colab_type": "code",
        "colab": {
          "base_uri": "https://localhost:8080/",
          "height": 218
        },
        "outputId": "804e5245-404f-43d9-b718-2796ed073886"
      },
      "source": [
        "#checking the dataset size is sufficent\n",
        "home_team_perspective.info()"
      ],
      "execution_count": null,
      "outputs": [
        {
          "output_type": "stream",
          "text": [
            "<class 'pandas.core.frame.DataFrame'>\n",
            "Int64Index: 933 entries, 0 to 932\n",
            "Data columns (total 5 columns):\n",
            " #   Column          Non-Null Count  Dtype\n",
            "---  ------          --------------  -----\n",
            " 0   home_team       933 non-null    int64\n",
            " 1   home_score      933 non-null    int64\n",
            " 2   tournament      933 non-null    int64\n",
            " 3   home_team_rank  933 non-null    int64\n",
            " 4   status          933 non-null    int64\n",
            "dtypes: int64(5)\n",
            "memory usage: 83.7 KB\n"
          ],
          "name": "stdout"
        }
      ]
    },
    {
      "cell_type": "markdown",
      "metadata": {
        "id": "UaR4G8oGLXG1",
        "colab_type": "text"
      },
      "source": [
        "The dataset contains 933 records, these are all the records that were generated from merging the two datasets hence the data is sufficient"
      ]
    },
    {
      "cell_type": "code",
      "metadata": {
        "id": "S23t2a_cLVlR",
        "colab_type": "code",
        "colab": {
          "base_uri": "https://localhost:8080/",
          "height": 151
        },
        "outputId": "dbd9d727-b1ae-49fa-8b7e-3c6a7cab65e6"
      },
      "source": [
        "# splitting the data\n",
        "W = home_team_perspective.drop(\"status\", axis = 1)\n",
        "z = home_team_perspective[\"status\"]\n",
        "\n",
        "#splitting the data to train and test sets\n",
        "from sklearn.model_selection import train_test_split\n",
        "\n",
        "W_train, W_test, z_train, z_test = train_test_split(W, z, test_size = 0.3, random_state = 25)\n",
        "\n",
        "# fitting the model\n",
        "from sklearn.linear_model import LogisticRegression\n",
        "LogReg = LogisticRegression()\n",
        "LogReg.fit(W_train, z_train)\n",
        "\n",
        "# using our model to make predictions\n",
        "z_pred = LogReg.predict(W_test)\n"
      ],
      "execution_count": null,
      "outputs": [
        {
          "output_type": "stream",
          "text": [
            "/usr/local/lib/python3.6/dist-packages/sklearn/linear_model/_logistic.py:940: ConvergenceWarning: lbfgs failed to converge (status=1):\n",
            "STOP: TOTAL NO. of ITERATIONS REACHED LIMIT.\n",
            "\n",
            "Increase the number of iterations (max_iter) or scale the data as shown in:\n",
            "    https://scikit-learn.org/stable/modules/preprocessing.html\n",
            "Please also refer to the documentation for alternative solver options:\n",
            "    https://scikit-learn.org/stable/modules/linear_model.html#logistic-regression\n",
            "  extra_warning_msg=_LOGISTIC_SOLVER_CONVERGENCE_MSG)\n"
          ],
          "name": "stderr"
        }
      ]
    },
    {
      "cell_type": "code",
      "metadata": {
        "id": "TJk1xo8DMfxf",
        "colab_type": "code",
        "colab": {
          "base_uri": "https://localhost:8080/",
          "height": 118
        },
        "outputId": "71b9f953-c297-4044-88ea-eee55e34d35d"
      },
      "source": [
        "# evaluating the model\n",
        "from sklearn.metrics import confusion_matrix\n",
        "from sklearn.metrics import accuracy_score\n",
        "\n",
        "Confusion_matrix = confusion_matrix(z_test, z_pred)\n",
        "print(Confusion_matrix)\n",
        "print('\\n')\n",
        "print('Accuracy ', accuracy_score(z_test, z_pred))"
      ],
      "execution_count": null,
      "outputs": [
        {
          "output_type": "stream",
          "text": [
            "[[ 19  31  14]\n",
            " [ 27  46   3]\n",
            " [ 29   2 109]]\n",
            "\n",
            "\n",
            "Accuracy  0.6214285714285714\n"
          ],
          "name": "stdout"
        }
      ]
    },
    {
      "cell_type": "markdown",
      "metadata": {
        "id": "nM3x4sB0PB2b",
        "colab_type": "text"
      },
      "source": [
        "From the model, we have a total of 19, 46 and 109 correct predictions while the number of incorrect predictions are 14, 46 and 29. This means that the logistic model has an accuracy of 62% of the home team's perspective on the games."
      ]
    },
    {
      "cell_type": "markdown",
      "metadata": {
        "id": "LNhWJ1yTRgLY",
        "colab_type": "text"
      },
      "source": [
        "#### Hyperparameter Tuning"
      ]
    },
    {
      "cell_type": "code",
      "metadata": {
        "id": "oSTk75ocWgc_",
        "colab_type": "code",
        "colab": {}
      },
      "source": [
        "# creating regularization penalty space\n",
        "penalty = ['l1', 'l2']"
      ],
      "execution_count": null,
      "outputs": []
    },
    {
      "cell_type": "code",
      "metadata": {
        "id": "LxdtlivOWjUk",
        "colab_type": "code",
        "colab": {}
      },
      "source": [
        "# creating regularization hyperparameter space\n",
        "C = np.logspace(0,4,10)"
      ],
      "execution_count": null,
      "outputs": []
    },
    {
      "cell_type": "code",
      "metadata": {
        "id": "UTcMXwj7mHtw",
        "colab_type": "code",
        "colab": {}
      },
      "source": [
        "# solver \n",
        "solver = ['liblinear', 'saga']"
      ],
      "execution_count": null,
      "outputs": []
    },
    {
      "cell_type": "code",
      "metadata": {
        "id": "4jmsWwKOWqfm",
        "colab_type": "code",
        "colab": {}
      },
      "source": [
        "# creating hyperparameter options\n",
        "hyperparameters = dict(C=C, penalty = penalty, solver = solver)"
      ],
      "execution_count": null,
      "outputs": []
    },
    {
      "cell_type": "code",
      "metadata": {
        "id": "GsoZKSmmWtUy",
        "colab_type": "code",
        "colab": {}
      },
      "source": [
        "from sklearn.model_selection import GridSearchCV\n",
        "# creating gridsearch using 5 fold cross validation\n",
        "logistic = linear_model.LogisticRegression\n",
        "gridsearch = GridSearchCV(logistic, hyperparameters, cv=5, verbose = 0)"
      ],
      "execution_count": null,
      "outputs": []
    },
    {
      "cell_type": "code",
      "metadata": {
        "id": "S1UVPXlrW3AU",
        "colab_type": "code",
        "colab": {
          "base_uri": "https://localhost:8080/",
          "height": 387
        },
        "outputId": "e30b814e-b6a0-4c37-f238-99912b5c7013"
      },
      "source": [
        "# fitting gridsearch\n",
        "# import scipy\n",
        "# scipy.linalg.lstsq\n",
        "\n",
        "# klass = estimator._class_\n",
        "# new_object_params = estimator.get_params(deep = False)\n",
        "best_model = gridsearch.fit(W,z)\n",
        "\n",
        "# viewing  best hyperparameters\n",
        "print('Best Penalty: ' ,best_model.best_estimator_.get_params()['penalty'])\n",
        "print('Best C: ' ,best_model.best_estimator_.get_params()['C'])\n",
        "\n",
        "# predicting target vector\n",
        "best_model.predict(W)"
      ],
      "execution_count": null,
      "outputs": [
        {
          "output_type": "error",
          "ename": "TypeError",
          "evalue": "ignored",
          "traceback": [
            "\u001b[0;31m---------------------------------------------------------------------------\u001b[0m",
            "\u001b[0;31mTypeError\u001b[0m                                 Traceback (most recent call last)",
            "\u001b[0;32m<ipython-input-89-b9b52e6f3e26>\u001b[0m in \u001b[0;36m<module>\u001b[0;34m()\u001b[0m\n\u001b[1;32m      5\u001b[0m \u001b[0;31m# klass = estimator._class_\u001b[0m\u001b[0;34m\u001b[0m\u001b[0;34m\u001b[0m\u001b[0;34m\u001b[0m\u001b[0m\n\u001b[1;32m      6\u001b[0m \u001b[0;31m# new_object_params = estimator.get_params(deep = False)\u001b[0m\u001b[0;34m\u001b[0m\u001b[0;34m\u001b[0m\u001b[0;34m\u001b[0m\u001b[0m\n\u001b[0;32m----> 7\u001b[0;31m \u001b[0mbest_model\u001b[0m \u001b[0;34m=\u001b[0m \u001b[0mgridsearch\u001b[0m\u001b[0;34m.\u001b[0m\u001b[0mfit\u001b[0m\u001b[0;34m(\u001b[0m\u001b[0mW\u001b[0m\u001b[0;34m,\u001b[0m\u001b[0mz\u001b[0m\u001b[0;34m)\u001b[0m\u001b[0;34m\u001b[0m\u001b[0;34m\u001b[0m\u001b[0m\n\u001b[0m\u001b[1;32m      8\u001b[0m \u001b[0;34m\u001b[0m\u001b[0m\n\u001b[1;32m      9\u001b[0m \u001b[0;31m# viewing  best hyperparameters\u001b[0m\u001b[0;34m\u001b[0m\u001b[0;34m\u001b[0m\u001b[0;34m\u001b[0m\u001b[0m\n",
            "\u001b[0;32m/usr/local/lib/python3.6/dist-packages/sklearn/model_selection/_search.py\u001b[0m in \u001b[0;36mfit\u001b[0;34m(self, X, y, groups, **fit_params)\u001b[0m\n\u001b[1;32m    653\u001b[0m         \u001b[0mn_splits\u001b[0m \u001b[0;34m=\u001b[0m \u001b[0mcv\u001b[0m\u001b[0;34m.\u001b[0m\u001b[0mget_n_splits\u001b[0m\u001b[0;34m(\u001b[0m\u001b[0mX\u001b[0m\u001b[0;34m,\u001b[0m \u001b[0my\u001b[0m\u001b[0;34m,\u001b[0m \u001b[0mgroups\u001b[0m\u001b[0;34m)\u001b[0m\u001b[0;34m\u001b[0m\u001b[0;34m\u001b[0m\u001b[0m\n\u001b[1;32m    654\u001b[0m \u001b[0;34m\u001b[0m\u001b[0m\n\u001b[0;32m--> 655\u001b[0;31m         \u001b[0mbase_estimator\u001b[0m \u001b[0;34m=\u001b[0m \u001b[0mclone\u001b[0m\u001b[0;34m(\u001b[0m\u001b[0mself\u001b[0m\u001b[0;34m.\u001b[0m\u001b[0mestimator\u001b[0m\u001b[0;34m)\u001b[0m\u001b[0;34m\u001b[0m\u001b[0;34m\u001b[0m\u001b[0m\n\u001b[0m\u001b[1;32m    656\u001b[0m \u001b[0;34m\u001b[0m\u001b[0m\n\u001b[1;32m    657\u001b[0m         parallel = Parallel(n_jobs=self.n_jobs, verbose=self.verbose,\n",
            "\u001b[0;32m/usr/local/lib/python3.6/dist-packages/sklearn/base.py\u001b[0m in \u001b[0;36mclone\u001b[0;34m(estimator, safe)\u001b[0m\n\u001b[1;32m     65\u001b[0m                             \u001b[0;34m\"it does not seem to be a scikit-learn estimator \"\u001b[0m\u001b[0;34m\u001b[0m\u001b[0;34m\u001b[0m\u001b[0m\n\u001b[1;32m     66\u001b[0m                             \u001b[0;34m\"as it does not implement a 'get_params' methods.\"\u001b[0m\u001b[0;34m\u001b[0m\u001b[0;34m\u001b[0m\u001b[0m\n\u001b[0;32m---> 67\u001b[0;31m                             % (repr(estimator), type(estimator)))\n\u001b[0m\u001b[1;32m     68\u001b[0m     \u001b[0mklass\u001b[0m \u001b[0;34m=\u001b[0m \u001b[0mestimator\u001b[0m\u001b[0;34m.\u001b[0m\u001b[0m__class__\u001b[0m\u001b[0;34m\u001b[0m\u001b[0;34m\u001b[0m\u001b[0m\n\u001b[1;32m     69\u001b[0m     \u001b[0mnew_object_params\u001b[0m \u001b[0;34m=\u001b[0m \u001b[0mestimator\u001b[0m\u001b[0;34m.\u001b[0m\u001b[0mget_params\u001b[0m\u001b[0;34m(\u001b[0m\u001b[0mdeep\u001b[0m\u001b[0;34m=\u001b[0m\u001b[0;32mFalse\u001b[0m\u001b[0;34m)\u001b[0m\u001b[0;34m\u001b[0m\u001b[0;34m\u001b[0m\u001b[0m\n",
            "\u001b[0;31mTypeError\u001b[0m: Cannot clone object '<class 'sklearn.linear_model._logistic.LogisticRegression'>' (type <class 'type'>): it does not seem to be a scikit-learn estimator as it does not implement a 'get_params' methods."
          ]
        }
      ]
    },
    {
      "cell_type": "markdown",
      "metadata": {
        "id": "Pd9h68rDhgjt",
        "colab_type": "text"
      },
      "source": [
        "Residual plots and Heteroscedasticity testing"
      ]
    },
    {
      "cell_type": "code",
      "metadata": {
        "id": "z6g0uGdDSYZM",
        "colab_type": "code",
        "colab": {
          "base_uri": "https://localhost:8080/",
          "height": 34
        },
        "outputId": "6564a3ab-793d-4d92-8fee-861beebd9821"
      },
      "source": [
        "# creating the residuals\n",
        "residuals = np.subtract(z_pred, z_test)\n",
        "\n",
        "# describing our residuals\n",
        "pd.DataFrame(residuals).describe()\n",
        "residuals.mean()"
      ],
      "execution_count": null,
      "outputs": [
        {
          "output_type": "execute_result",
          "data": {
            "text/plain": [
              "-0.08928571428571429"
            ]
          },
          "metadata": {
            "tags": []
          },
          "execution_count": 93
        }
      ]
    },
    {
      "cell_type": "code",
      "metadata": {
        "id": "yQVNTWzJpS0a",
        "colab_type": "code",
        "colab": {
          "base_uri": "https://localhost:8080/",
          "height": 297
        },
        "outputId": "be0ef888-d024-4bf1-c0ce-10ea553c01e8"
      },
      "source": [
        "# plotting residuals\n",
        "import matplotlib.pyplot as plt\n",
        "plt.scatter(z_pred, residuals, color = 'black')\n",
        "plt.ylabel('residual')\n",
        "plt.xlabel('fitted_values')\n",
        "plt.axhline(y=residuals.mean(), color = 'red', linewidth = 1)\n",
        "plt.show"
      ],
      "execution_count": null,
      "outputs": [
        {
          "output_type": "execute_result",
          "data": {
            "text/plain": [
              "<function matplotlib.pyplot.show>"
            ]
          },
          "metadata": {
            "tags": []
          },
          "execution_count": 97
        },
        {
          "output_type": "display_data",
          "data": {
            "image/png": "[encoded data removed]",
            "text/plain": [
              "<Figure size 432x288 with 1 Axes>"
            ]
          },
          "metadata": {
            "tags": [],
            "needs_background": "light"
          }
        }
      ]
    },
    {
      "cell_type": "code",
      "metadata": {
        "id": "LqfNrNPDqYdW",
        "colab_type": "code",
        "colab": {
          "base_uri": "https://localhost:8080/",
          "height": 34
        },
        "outputId": "fe3f9586-41ca-4bd0-925d-2f8f351188b4"
      },
      "source": [
        "# performimg a heteroscedasticity test\n",
        "import scipy as sp\n",
        "test_result, p_value = sp.stats.bartlett(z_pred, residuals)\n",
        "test_result, p_value"
      ],
      "execution_count": null,
      "outputs": [
        {
          "output_type": "execute_result",
          "data": {
            "text/plain": [
              "(2.6177729728604406, 0.1056726561889552)"
            ]
          },
          "metadata": {
            "tags": []
          },
          "execution_count": 104
        }
      ]
    },
    {
      "cell_type": "markdown",
      "metadata": {
        "id": "79-S39vDt2kk",
        "colab_type": "text"
      },
      "source": [
        "By using the Bartlett's test, we have a hypothesis established as follows:\n",
        " \n",
        " Null hypothesis: the variance is equal for all our datapoints\n",
        "\n",
        " Alternative hypothesis: the variance is different for at least one pair of the datasets.\n"
      ]
    },
    {
      "cell_type": "code",
      "metadata": {
        "id": "CdeBP98KrOYe",
        "colab_type": "code",
        "colab": {
          "base_uri": "https://localhost:8080/",
          "height": 50
        },
        "outputId": "92d53c58-fd0b-4e25-cf9f-3ead1d88c2d9"
      },
      "source": [
        "# computing a critical value\n",
        "df = len(z_pred) - 1\n",
        "probability = 1 - p_value\n",
        "\n",
        "# \n",
        "critical_value = sp.stats.chi2.ppf(probability, df)\n",
        "print(critical_value)\n",
        "\n",
        "if (test_result > critical_value):\n",
        "  print('the variances are unequal and the model should be reassessed')\n",
        "else:\n",
        "  print('the variances are homogeneous!')\n"
      ],
      "execution_count": null,
      "outputs": [
        {
          "output_type": "stream",
          "text": [
            "308.8673518456948\n",
            "the variances are homogeneous!\n"
          ],
          "name": "stdout"
        }
      ]
    },
    {
      "cell_type": "markdown",
      "metadata": {
        "id": "NoUh00q4tV-Y",
        "colab_type": "text"
      },
      "source": [
        "After calculating the critical values and the test results, the critical values of the model are greater than the test results, hence we reject the null hypothesis as we have enough evidence to conclude that the variance is different for at least one pair of datapoints. \n",
        "This means that our model is efficient and it does not need to be assessed."
      ]
    },
    {
      "cell_type": "markdown",
      "metadata": {
        "id": "wFD_pSZJ6ljX",
        "colab_type": "text"
      },
      "source": [
        "##8. Challenging the solution"
      ]
    },
    {
      "cell_type": "markdown",
      "metadata": {
        "id": "tMPTwWLGhsK_",
        "colab_type": "text"
      },
      "source": [
        "The polynomial model predicting the home team's scores has a RMSE score of 1.15  while the polynomial model predicting the away team's score has a RMSE score of 0.84. It is evident that the latter model is a better fit as it has a lower RMSE score. However, RMSE score of 0.84 is not the lowest that can be obtained. The logistic regression model has an accuracy of 62% which is also not the best accuracy for the model.\n",
        "\n",
        "From our data processing process, we had a huge number of records that we lost while we were mergine our datasets. We could have obtained better results for our models if we had more variables to train our models hence it would be best to find a better way of merging the datasets without loosing that much records.\n",
        "\n",
        "Also while encoding our categorical variables, the method used i.e label encoding was not the most efficient as the algorithms probably considered the data as ordered data yet they were not. Hence, we should probably use better methods to encode the categorical data to obtain better results."
      ]
    },
    {
      "cell_type": "markdown",
      "metadata": {
        "id": "reMf5w6d6qE4",
        "colab_type": "text"
      },
      "source": [
        "##9. Follow up questions"
      ]
    },
    {
      "cell_type": "markdown",
      "metadata": {
        "id": "Y3RwpR2Okx54",
        "colab_type": "text"
      },
      "source": [
        "While merging the data on the dates column, the datapoints retained were of scores and rankings that were recorded the same day. This suggests that the scores and the rankings are made on the same dates, however, how likely is it that this is usually the case? "
      ]
    }
  ]
}