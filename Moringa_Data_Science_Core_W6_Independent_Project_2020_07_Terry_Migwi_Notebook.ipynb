{
  "nbformat": 4,
  "nbformat_minor": 0,
  "metadata": {
    "colab": {
      "name": "Moringa_Data_Science_Core_W6_Independent_Project_2020_07_Terry_Migwi_Notebook",
      "provenance": [],
      "collapsed_sections": [
        "V99Hl7rPOmnt",
        "RNhaCq77Ohcb"
      ],
      "authorship_tag": "ABX9TyMdDEKGibnUqyzI1jt7blOb",
      "include_colab_link": true
    },
    "kernelspec": {
      "name": "python3",
      "display_name": "Python 3"
    }
  },
  "cells": [
    {
      "cell_type": "markdown",
      "metadata": {
        "id": "view-in-github",
        "colab_type": "text"
      },
      "source": [
        "<a href=\"https://colab.research.google.com/github/Terry-Migwi/Moringa_Datascience_Core_Week_6_IP/blob/master/Moringa_Data_Science_Core_W6_Independent_Project_2020_07_Terry_Migwi_Notebook.ipynb\" target=\"_parent\"><img src=\"https://colab.research.google.com/assets/colab-badge.svg\" alt=\"Open In Colab\"/></a>"
      ]
    },
    {
      "cell_type": "markdown",
      "metadata": {
        "id": "Er51W4m5w1vv",
        "colab_type": "text"
      },
      "source": [
        "## 1. Defining the question\n"
      ]
    },
    {
      "cell_type": "markdown",
      "metadata": {
        "id": "eiDsGwYYw8os",
        "colab_type": "text"
      },
      "source": [
        "### Specifying the question"
      ]
    },
    {
      "cell_type": "markdown",
      "metadata": {
        "id": "5nLuHHwkxHw7",
        "colab_type": "text"
      },
      "source": [
        "As the football analyst of Mchezopesa limited, I have a task to predict the results of a football match between two teams i.e the home team or the away team.\n",
        "\n",
        "The results should include the number of goals scored by each team and the difference between the scores from both teams i.e \n",
        "1.   How many goals will the home team score?\n",
        "2.   How many goals will the away team score?\n",
        "3.   Which of the two teams will be the winning team?\n",
        "\n"
      ]
    },
    {
      "cell_type": "markdown",
      "metadata": {
        "id": "SfkfKLG_0Q7Y",
        "colab_type": "text"
      },
      "source": [
        "### Defining the Metrics for success"
      ]
    },
    {
      "cell_type": "markdown",
      "metadata": {
        "id": "mx74Y-Cw0Wqb",
        "colab_type": "text"
      },
      "source": [
        "1. Determine what to train given the rank of the home teams, rank of the away teams and the type of match/tournament \n",
        "2. Predicting the scores for the teams given the correct training data using a polynomial model\n",
        "3. Determine the home team's perspective i.e is it a win, draw or a loss using logistic regression"
      ]
    },
    {
      "cell_type": "markdown",
      "metadata": {
        "id": "IMKYx8Sm7XL2",
        "colab_type": "text"
      },
      "source": [
        "### Understanding the context"
      ]
    },
    {
      "cell_type": "markdown",
      "metadata": {
        "id": "BCne5IEj7c8-",
        "colab_type": "text"
      },
      "source": [
        "Mchezopesa limited is a sports analytics company that helps fans analyze and predict individual athletes and team performance. Mchezopesa uses real-time daily and historial data to perform predictive modelling algorithms that they use to make projections that are used by fantasy sports fans. By far, football is the most popular fantasy sport contributing to 36% of the indusry revenue hence mchezopesa focusses on football. The main objective of mchezopesa is to make accurate projections that will optimize winning chances of fantasy sports players hence attracting new players and maintaing existing players.\n",
        "\n",
        "Mchezopesa users focus on three factors i.e the home team, the away team and the type of tournament. i.e either the home team will win or the away team will win based on the type of match they have selected.As the football analyst of mchezopesa, I have a task to ensure the players make winning moves by making the most accurate predictions based on the data available."
      ]
    },
    {
      "cell_type": "markdown",
      "metadata": {
        "id": "RrR5_KhigXjp",
        "colab_type": "text"
      },
      "source": [
        "### Recording the experimental design"
      ]
    },
    {
      "cell_type": "markdown",
      "metadata": {
        "id": "uq2HThv9gcLq",
        "colab_type": "text"
      },
      "source": [
        "The following are the steps to take during this study:\n",
        "1.   Importing necessary dependencies and libraries\n",
        "2.   Loading datasets and investigating important features of the data\n",
        "3.   Merging the datasets\n",
        "4.   Performing EDA \n",
        "5.   Feature Engineering\n",
        "6.   Obtaining appropriate training and test sets \n",
        "7.   Fitting appropriate models to the sets\n",
        "8.   Evaluating the models i.e cross-validation, multi-collinearity hyperparameter tuning\n",
        "\n"
      ]
    },
    {
      "cell_type": "markdown",
      "metadata": {
        "id": "qUV1Dqdf63jl",
        "colab_type": "text"
      },
      "source": [
        "### Data Relevance"
      ]
    },
    {
      "cell_type": "markdown",
      "metadata": {
        "id": "HoHqJJoX66VG",
        "colab_type": "text"
      },
      "source": [
        "The data provided for this study consists of two datasets i.e fifa rankings and results datasets in csv files. Both datasets contain details of football teams, scores, tournaments, countries, rankings and units used to do the rankings. As both datasets are equally important for the analyis, we will be required to merge them into one so we can utilize them both. "
      ]
    },
    {
      "cell_type": "markdown",
      "metadata": {
        "id": "hbHJsqAoB2X6",
        "colab_type": "text"
      },
      "source": [
        "##2. Reading the data"
      ]
    },
    {
      "cell_type": "code",
      "metadata": {
        "id": "Sg0ZdmcaCnEP",
        "colab_type": "code",
        "colab": {}
      },
      "source": [
        "#importing our dependencies\n",
        "\n",
        "import pandas as pd\n",
        "import numpy as np\n",
        "import seaborn as sb\n",
        "import matplotlib.pyplot as plt\n",
        "sb.set_style()\n"
      ],
      "execution_count": null,
      "outputs": []
    },
    {
      "cell_type": "markdown",
      "metadata": {
        "id": "rLO--UKxCOXJ",
        "colab_type": "text"
      },
      "source": [
        "### Loading Datasets"
      ]
    },
    {
      "cell_type": "code",
      "metadata": {
        "id": "QOSgkpiHcdPw",
        "colab_type": "code",
        "colab": {
          "base_uri": "https://localhost:8080/",
          "height": 253
        },
        "outputId": "98c501c2-9a0e-47fe-86bb-7c2d11697b64"
      },
      "source": [
        "ranking = pd.read_csv(\"/content/fifa_ranking.csv\")\n",
        "\n",
        "# previewing the top part of the data\n",
        "ranking.head(4)"
      ],
      "execution_count": null,
      "outputs": [
        {
          "output_type": "execute_result",
          "data": {
            "text/html": [
              "<div>\n",
              "<style scoped>\n",
              "    .dataframe tbody tr th:only-of-type {\n",
              "        vertical-align: middle;\n",
              "    }\n",
              "\n",
              "    .dataframe tbody tr th {\n",
              "        vertical-align: top;\n",
              "    }\n",
              "\n",
              "    .dataframe thead th {\n",
              "        text-align: right;\n",
              "    }\n",
              "</style>\n",
              "<table border=\"1\" class=\"dataframe\">\n",
              "  <thead>\n",
              "    <tr style=\"text-align: right;\">\n",
              "      <th></th>\n",
              "      <th>rank</th>\n",
              "      <th>country_full</th>\n",
              "      <th>country_abrv</th>\n",
              "      <th>total_points</th>\n",
              "      <th>previous_points</th>\n",
              "      <th>rank_change</th>\n",
              "      <th>cur_year_avg</th>\n",
              "      <th>cur_year_avg_weighted</th>\n",
              "      <th>last_year_avg</th>\n",
              "      <th>last_year_avg_weighted</th>\n",
              "      <th>two_year_ago_avg</th>\n",
              "      <th>two_year_ago_weighted</th>\n",
              "      <th>three_year_ago_avg</th>\n",
              "      <th>three_year_ago_weighted</th>\n",
              "      <th>confederation</th>\n",
              "      <th>rank_date</th>\n",
              "    </tr>\n",
              "  </thead>\n",
              "  <tbody>\n",
              "    <tr>\n",
              "      <th>0</th>\n",
              "      <td>1</td>\n",
              "      <td>Germany</td>\n",
              "      <td>GER</td>\n",
              "      <td>0.0</td>\n",
              "      <td>57.0</td>\n",
              "      <td>0.0</td>\n",
              "      <td>0.0</td>\n",
              "      <td>0.0</td>\n",
              "      <td>0.0</td>\n",
              "      <td>0.0</td>\n",
              "      <td>0.0</td>\n",
              "      <td>0.0</td>\n",
              "      <td>0.0</td>\n",
              "      <td>0.0</td>\n",
              "      <td>UEFA</td>\n",
              "      <td>1993-08-08</td>\n",
              "    </tr>\n",
              "    <tr>\n",
              "      <th>1</th>\n",
              "      <td>2</td>\n",
              "      <td>Italy</td>\n",
              "      <td>ITA</td>\n",
              "      <td>0.0</td>\n",
              "      <td>57.0</td>\n",
              "      <td>0.0</td>\n",
              "      <td>0.0</td>\n",
              "      <td>0.0</td>\n",
              "      <td>0.0</td>\n",
              "      <td>0.0</td>\n",
              "      <td>0.0</td>\n",
              "      <td>0.0</td>\n",
              "      <td>0.0</td>\n",
              "      <td>0.0</td>\n",
              "      <td>UEFA</td>\n",
              "      <td>1993-08-08</td>\n",
              "    </tr>\n",
              "    <tr>\n",
              "      <th>2</th>\n",
              "      <td>3</td>\n",
              "      <td>Switzerland</td>\n",
              "      <td>SUI</td>\n",
              "      <td>0.0</td>\n",
              "      <td>50.0</td>\n",
              "      <td>9.0</td>\n",
              "      <td>0.0</td>\n",
              "      <td>0.0</td>\n",
              "      <td>0.0</td>\n",
              "      <td>0.0</td>\n",
              "      <td>0.0</td>\n",
              "      <td>0.0</td>\n",
              "      <td>0.0</td>\n",
              "      <td>0.0</td>\n",
              "      <td>UEFA</td>\n",
              "      <td>1993-08-08</td>\n",
              "    </tr>\n",
              "    <tr>\n",
              "      <th>3</th>\n",
              "      <td>4</td>\n",
              "      <td>Sweden</td>\n",
              "      <td>SWE</td>\n",
              "      <td>0.0</td>\n",
              "      <td>55.0</td>\n",
              "      <td>0.0</td>\n",
              "      <td>0.0</td>\n",
              "      <td>0.0</td>\n",
              "      <td>0.0</td>\n",
              "      <td>0.0</td>\n",
              "      <td>0.0</td>\n",
              "      <td>0.0</td>\n",
              "      <td>0.0</td>\n",
              "      <td>0.0</td>\n",
              "      <td>UEFA</td>\n",
              "      <td>1993-08-08</td>\n",
              "    </tr>\n",
              "  </tbody>\n",
              "</table>\n",
              "</div>"
            ],
            "text/plain": [
              "   rank country_full  ... confederation   rank_date\n",
              "0     1      Germany  ...          UEFA  1993-08-08\n",
              "1     2        Italy  ...          UEFA  1993-08-08\n",
              "2     3  Switzerland  ...          UEFA  1993-08-08\n",
              "3     4       Sweden  ...          UEFA  1993-08-08\n",
              "\n",
              "[4 rows x 16 columns]"
            ]
          },
          "metadata": {
            "tags": []
          },
          "execution_count": 49
        }
      ]
    },
    {
      "cell_type": "code",
      "metadata": {
        "id": "dMrpuvGjCkZr",
        "colab_type": "code",
        "colab": {
          "base_uri": "https://localhost:8080/",
          "height": 236
        },
        "outputId": "54d088a1-da99-40e2-c4eb-7a67f8f2eea0"
      },
      "source": [
        "# previewing the bottom of the data\n",
        "\n",
        "ranking.tail(4)"
      ],
      "execution_count": null,
      "outputs": [
        {
          "output_type": "execute_result",
          "data": {
            "text/html": [
              "<div>\n",
              "<style scoped>\n",
              "    .dataframe tbody tr th:only-of-type {\n",
              "        vertical-align: middle;\n",
              "    }\n",
              "\n",
              "    .dataframe tbody tr th {\n",
              "        vertical-align: top;\n",
              "    }\n",
              "\n",
              "    .dataframe thead th {\n",
              "        text-align: right;\n",
              "    }\n",
              "</style>\n",
              "<table border=\"1\" class=\"dataframe\">\n",
              "  <thead>\n",
              "    <tr style=\"text-align: right;\">\n",
              "      <th></th>\n",
              "      <th>rank</th>\n",
              "      <th>country_full</th>\n",
              "      <th>country_abrv</th>\n",
              "      <th>total_points</th>\n",
              "      <th>previous_points</th>\n",
              "      <th>rank_change</th>\n",
              "      <th>cur_year_avg</th>\n",
              "      <th>cur_year_avg_weighted</th>\n",
              "      <th>last_year_avg</th>\n",
              "      <th>last_year_avg_weighted</th>\n",
              "      <th>two_year_ago_avg</th>\n",
              "      <th>two_year_ago_weighted</th>\n",
              "      <th>three_year_ago_avg</th>\n",
              "      <th>three_year_ago_weighted</th>\n",
              "      <th>confederation</th>\n",
              "      <th>rank_date</th>\n",
              "    </tr>\n",
              "  </thead>\n",
              "  <tbody>\n",
              "    <tr>\n",
              "      <th>13991</th>\n",
              "      <td>104</td>\n",
              "      <td>Vietnam</td>\n",
              "      <td>VIE</td>\n",
              "      <td>0.0</td>\n",
              "      <td>393.0</td>\n",
              "      <td>-3.0</td>\n",
              "      <td>0.0</td>\n",
              "      <td>0.0</td>\n",
              "      <td>0.0</td>\n",
              "      <td>0.0</td>\n",
              "      <td>0.0</td>\n",
              "      <td>0.0</td>\n",
              "      <td>0.0</td>\n",
              "      <td>0.0</td>\n",
              "      <td>AFC</td>\n",
              "      <td>2000-08-09</td>\n",
              "    </tr>\n",
              "    <tr>\n",
              "      <th>13992</th>\n",
              "      <td>105</td>\n",
              "      <td>Mozambique</td>\n",
              "      <td>MOZ</td>\n",
              "      <td>0.0</td>\n",
              "      <td>373.0</td>\n",
              "      <td>2.0</td>\n",
              "      <td>0.0</td>\n",
              "      <td>0.0</td>\n",
              "      <td>0.0</td>\n",
              "      <td>0.0</td>\n",
              "      <td>0.0</td>\n",
              "      <td>0.0</td>\n",
              "      <td>0.0</td>\n",
              "      <td>0.0</td>\n",
              "      <td>CAF</td>\n",
              "      <td>2000-08-09</td>\n",
              "    </tr>\n",
              "    <tr>\n",
              "      <th>13993</th>\n",
              "      <td>106</td>\n",
              "      <td>Uganda</td>\n",
              "      <td>UGA</td>\n",
              "      <td>0.0</td>\n",
              "      <td>355.0</td>\n",
              "      <td>8.0</td>\n",
              "      <td>0.0</td>\n",
              "      <td>0.0</td>\n",
              "      <td>0.0</td>\n",
              "      <td>0.0</td>\n",
              "      <td>0.0</td>\n",
              "      <td>0.0</td>\n",
              "      <td>0.0</td>\n",
              "      <td>0.0</td>\n",
              "      <td>CAF</td>\n",
              "      <td>2000-08-09</td>\n",
              "    </tr>\n",
              "    <tr>\n",
              "      <th>13994</th>\n",
              "      <td>107</td>\n",
              "      <td>NaN</td>\n",
              "      <td>NaN</td>\n",
              "      <td>NaN</td>\n",
              "      <td>NaN</td>\n",
              "      <td>NaN</td>\n",
              "      <td>NaN</td>\n",
              "      <td>NaN</td>\n",
              "      <td>NaN</td>\n",
              "      <td>NaN</td>\n",
              "      <td>NaN</td>\n",
              "      <td>NaN</td>\n",
              "      <td>NaN</td>\n",
              "      <td>NaN</td>\n",
              "      <td>NaN</td>\n",
              "      <td>NaN</td>\n",
              "    </tr>\n",
              "  </tbody>\n",
              "</table>\n",
              "</div>"
            ],
            "text/plain": [
              "       rank country_full  ... confederation   rank_date\n",
              "13991   104      Vietnam  ...           AFC  2000-08-09\n",
              "13992   105   Mozambique  ...           CAF  2000-08-09\n",
              "13993   106       Uganda  ...           CAF  2000-08-09\n",
              "13994   107          NaN  ...           NaN         NaN\n",
              "\n",
              "[4 rows x 16 columns]"
            ]
          },
          "metadata": {
            "tags": []
          },
          "execution_count": 50
        }
      ]
    },
    {
      "cell_type": "code",
      "metadata": {
        "id": "r9jmXyIBN7CO",
        "colab_type": "code",
        "colab": {
          "base_uri": "https://localhost:8080/",
          "height": 302
        },
        "outputId": "be3e4d84-7e84-4b74-9649-2ecb751642f6"
      },
      "source": [
        "ranking.nunique()"
      ],
      "execution_count": null,
      "outputs": [
        {
          "output_type": "execute_result",
          "data": {
            "text/plain": [
              "rank                       202\n",
              "country_full               204\n",
              "country_abrv               204\n",
              "total_points                 1\n",
              "previous_points            772\n",
              "rank_change                 88\n",
              "cur_year_avg                 1\n",
              "cur_year_avg_weighted        1\n",
              "last_year_avg                1\n",
              "last_year_avg_weighted       1\n",
              "two_year_ago_avg             1\n",
              "two_year_ago_weighted        1\n",
              "three_year_ago_avg           1\n",
              "three_year_ago_weighted      1\n",
              "confederation                6\n",
              "rank_date                   75\n",
              "dtype: int64"
            ]
          },
          "metadata": {
            "tags": []
          },
          "execution_count": 51
        }
      ]
    },
    {
      "cell_type": "code",
      "metadata": {
        "id": "VHIgV2pqFKiu",
        "colab_type": "code",
        "colab": {
          "base_uri": "https://localhost:8080/",
          "height": 118
        },
        "outputId": "faaafb1a-ba17-412c-9070-182e6710beda"
      },
      "source": [
        "#exploring columns in the rankings dataset\n",
        "\n",
        "ranking.columns"
      ],
      "execution_count": null,
      "outputs": [
        {
          "output_type": "execute_result",
          "data": {
            "text/plain": [
              "Index(['rank', 'country_full', 'country_abrv', 'total_points',\n",
              "       'previous_points', 'rank_change', 'cur_year_avg',\n",
              "       'cur_year_avg_weighted', 'last_year_avg', 'last_year_avg_weighted',\n",
              "       'two_year_ago_avg', 'two_year_ago_weighted', 'three_year_ago_avg',\n",
              "       'three_year_ago_weighted', 'confederation', 'rank_date'],\n",
              "      dtype='object')"
            ]
          },
          "metadata": {
            "tags": []
          },
          "execution_count": 52
        }
      ]
    },
    {
      "cell_type": "code",
      "metadata": {
        "id": "9-dL4f_zA2uw",
        "colab_type": "code",
        "colab": {
          "base_uri": "https://localhost:8080/",
          "height": 34
        },
        "outputId": "923df920-9c04-4a6d-c71a-d772337dac38"
      },
      "source": [
        "#finding the size of the ranking dataset\n",
        "\n",
        "ranking.shape"
      ],
      "execution_count": null,
      "outputs": [
        {
          "output_type": "execute_result",
          "data": {
            "text/plain": [
              "(13995, 16)"
            ]
          },
          "metadata": {
            "tags": []
          },
          "execution_count": 53
        }
      ]
    },
    {
      "cell_type": "markdown",
      "metadata": {
        "id": "eoQattjyCmFM",
        "colab_type": "text"
      },
      "source": [
        "We have a total of 57,793 records and 16 columns in the dataset"
      ]
    },
    {
      "cell_type": "code",
      "metadata": {
        "id": "DLpm7WXwQXoq",
        "colab_type": "code",
        "colab": {
          "base_uri": "https://localhost:8080/",
          "height": 302
        },
        "outputId": "d5eaa934-c0a9-4b4a-bf15-d8a836fdbc40"
      },
      "source": [
        "#checking datatypes for the columns\n",
        "\n",
        "ranking.dtypes"
      ],
      "execution_count": null,
      "outputs": [
        {
          "output_type": "execute_result",
          "data": {
            "text/plain": [
              "rank                         int64\n",
              "country_full                object\n",
              "country_abrv                object\n",
              "total_points               float64\n",
              "previous_points            float64\n",
              "rank_change                float64\n",
              "cur_year_avg               float64\n",
              "cur_year_avg_weighted      float64\n",
              "last_year_avg              float64\n",
              "last_year_avg_weighted     float64\n",
              "two_year_ago_avg           float64\n",
              "two_year_ago_weighted      float64\n",
              "three_year_ago_avg         float64\n",
              "three_year_ago_weighted    float64\n",
              "confederation               object\n",
              "rank_date                   object\n",
              "dtype: object"
            ]
          },
          "metadata": {
            "tags": []
          },
          "execution_count": 54
        }
      ]
    },
    {
      "cell_type": "markdown",
      "metadata": {
        "id": "yW6sM0F6UYIi",
        "colab_type": "text"
      },
      "source": [
        "All the columns seem to be of appropriate datatypes except for the rank date which is an object but a more appropriate datatype is datetime"
      ]
    },
    {
      "cell_type": "code",
      "metadata": {
        "id": "htHktcbkMzXc",
        "colab_type": "code",
        "colab": {}
      },
      "source": [
        "#converting rank date to datetime data type\n",
        "\n",
        "ranking['rank_date'] = pd.to_datetime(ranking['rank_date'])"
      ],
      "execution_count": null,
      "outputs": []
    },
    {
      "cell_type": "code",
      "metadata": {
        "id": "a7YGwRAaDqA8",
        "colab_type": "code",
        "colab": {
          "base_uri": "https://localhost:8080/",
          "height": 166
        },
        "outputId": "70640da8-e4a1-4a7c-d19f-5121db073704"
      },
      "source": [
        "# loading the results dataset\n",
        "\n",
        "results = pd.read_csv(\"/content/results.csv\", encoding = 'latin1')\n",
        "results.head(4)"
      ],
      "execution_count": null,
      "outputs": [
        {
          "output_type": "execute_result",
          "data": {
            "text/html": [
              "<div>\n",
              "<style scoped>\n",
              "    .dataframe tbody tr th:only-of-type {\n",
              "        vertical-align: middle;\n",
              "    }\n",
              "\n",
              "    .dataframe tbody tr th {\n",
              "        vertical-align: top;\n",
              "    }\n",
              "\n",
              "    .dataframe thead th {\n",
              "        text-align: right;\n",
              "    }\n",
              "</style>\n",
              "<table border=\"1\" class=\"dataframe\">\n",
              "  <thead>\n",
              "    <tr style=\"text-align: right;\">\n",
              "      <th></th>\n",
              "      <th>date</th>\n",
              "      <th>home_team</th>\n",
              "      <th>away_team</th>\n",
              "      <th>home_score</th>\n",
              "      <th>away_score</th>\n",
              "      <th>tournament</th>\n",
              "      <th>city</th>\n",
              "      <th>country</th>\n",
              "      <th>neutral</th>\n",
              "    </tr>\n",
              "  </thead>\n",
              "  <tbody>\n",
              "    <tr>\n",
              "      <th>0</th>\n",
              "      <td>1872-11-30</td>\n",
              "      <td>Scotland</td>\n",
              "      <td>England</td>\n",
              "      <td>0</td>\n",
              "      <td>0</td>\n",
              "      <td>Friendly</td>\n",
              "      <td>Glasgow</td>\n",
              "      <td>Scotland</td>\n",
              "      <td>False</td>\n",
              "    </tr>\n",
              "    <tr>\n",
              "      <th>1</th>\n",
              "      <td>1873-03-08</td>\n",
              "      <td>England</td>\n",
              "      <td>Scotland</td>\n",
              "      <td>4</td>\n",
              "      <td>2</td>\n",
              "      <td>Friendly</td>\n",
              "      <td>London</td>\n",
              "      <td>England</td>\n",
              "      <td>False</td>\n",
              "    </tr>\n",
              "    <tr>\n",
              "      <th>2</th>\n",
              "      <td>1874-03-07</td>\n",
              "      <td>Scotland</td>\n",
              "      <td>England</td>\n",
              "      <td>2</td>\n",
              "      <td>1</td>\n",
              "      <td>Friendly</td>\n",
              "      <td>Glasgow</td>\n",
              "      <td>Scotland</td>\n",
              "      <td>False</td>\n",
              "    </tr>\n",
              "    <tr>\n",
              "      <th>3</th>\n",
              "      <td>1875-03-06</td>\n",
              "      <td>England</td>\n",
              "      <td>Scotland</td>\n",
              "      <td>2</td>\n",
              "      <td>2</td>\n",
              "      <td>Friendly</td>\n",
              "      <td>London</td>\n",
              "      <td>England</td>\n",
              "      <td>False</td>\n",
              "    </tr>\n",
              "  </tbody>\n",
              "</table>\n",
              "</div>"
            ],
            "text/plain": [
              "         date home_team away_team  ...     city   country neutral\n",
              "0  1872-11-30  Scotland   England  ...  Glasgow  Scotland   False\n",
              "1  1873-03-08   England  Scotland  ...   London   England   False\n",
              "2  1874-03-07  Scotland   England  ...  Glasgow  Scotland   False\n",
              "3  1875-03-06   England  Scotland  ...   London   England   False\n",
              "\n",
              "[4 rows x 9 columns]"
            ]
          },
          "metadata": {
            "tags": []
          },
          "execution_count": 56
        }
      ]
    },
    {
      "cell_type": "code",
      "metadata": {
        "id": "DqY9TYF1EHTl",
        "colab_type": "code",
        "colab": {
          "base_uri": "https://localhost:8080/",
          "height": 166
        },
        "outputId": "2c5f609a-f8c1-48d8-c657-47454201857a"
      },
      "source": [
        "# previewing the bottom part of the dataset\n",
        "\n",
        "results.tail(4)"
      ],
      "execution_count": null,
      "outputs": [
        {
          "output_type": "execute_result",
          "data": {
            "text/html": [
              "<div>\n",
              "<style scoped>\n",
              "    .dataframe tbody tr th:only-of-type {\n",
              "        vertical-align: middle;\n",
              "    }\n",
              "\n",
              "    .dataframe tbody tr th {\n",
              "        vertical-align: top;\n",
              "    }\n",
              "\n",
              "    .dataframe thead th {\n",
              "        text-align: right;\n",
              "    }\n",
              "</style>\n",
              "<table border=\"1\" class=\"dataframe\">\n",
              "  <thead>\n",
              "    <tr style=\"text-align: right;\">\n",
              "      <th></th>\n",
              "      <th>date</th>\n",
              "      <th>home_team</th>\n",
              "      <th>away_team</th>\n",
              "      <th>home_score</th>\n",
              "      <th>away_score</th>\n",
              "      <th>tournament</th>\n",
              "      <th>city</th>\n",
              "      <th>country</th>\n",
              "      <th>neutral</th>\n",
              "    </tr>\n",
              "  </thead>\n",
              "  <tbody>\n",
              "    <tr>\n",
              "      <th>14577</th>\n",
              "      <td>1987-07-18</td>\n",
              "      <td>Sudan</td>\n",
              "      <td>Cameroon</td>\n",
              "      <td>1</td>\n",
              "      <td>0</td>\n",
              "      <td>African Cup of Nations qualification</td>\n",
              "      <td>Khartoum</td>\n",
              "      <td>Sudan</td>\n",
              "      <td>False</td>\n",
              "    </tr>\n",
              "    <tr>\n",
              "      <th>14578</th>\n",
              "      <td>1987-07-19</td>\n",
              "      <td>DR Congo</td>\n",
              "      <td>Senegal</td>\n",
              "      <td>0</td>\n",
              "      <td>0</td>\n",
              "      <td>African Cup of Nations qualification</td>\n",
              "      <td>Kinshasa</td>\n",
              "      <td>ZaÃ¯re</td>\n",
              "      <td>False</td>\n",
              "    </tr>\n",
              "    <tr>\n",
              "      <th>14579</th>\n",
              "      <td>1987-07-19</td>\n",
              "      <td>Ivory Coast</td>\n",
              "      <td>Malawi</td>\n",
              "      <td>2</td>\n",
              "      <td>0</td>\n",
              "      <td>African Cup of Nations qualification</td>\n",
              "      <td>Abidjan</td>\n",
              "      <td>Ivory Coast</td>\n",
              "      <td>False</td>\n",
              "    </tr>\n",
              "    <tr>\n",
              "      <th>14580</th>\n",
              "      <td>1987-07-25</td>\n",
              "      <td>SÃ£o TomÃ© and PrÃ­ncipe</td>\n",
              "      <td>Guinea-Bissau</td>\n",
              "      <td>0</td>\n",
              "      <td>2</td>\n",
              "      <td>Friendly</td>\n",
              "      <td>SÃ£o TomÃ©</td>\n",
              "      <td>SÃ</td>\n",
              "      <td>NaN</td>\n",
              "    </tr>\n",
              "  </tbody>\n",
              "</table>\n",
              "</div>"
            ],
            "text/plain": [
              "             date                 home_team  ...      country  neutral\n",
              "14577  1987-07-18                     Sudan  ...        Sudan    False\n",
              "14578  1987-07-19                  DR Congo  ...       ZaÃ¯re    False\n",
              "14579  1987-07-19               Ivory Coast  ...  Ivory Coast    False\n",
              "14580  1987-07-25  SÃ£o TomÃ© and PrÃ­ncipe  ...           SÃ      NaN\n",
              "\n",
              "[4 rows x 9 columns]"
            ]
          },
          "metadata": {
            "tags": []
          },
          "execution_count": 57
        }
      ]
    },
    {
      "cell_type": "code",
      "metadata": {
        "id": "V64uuz4CET8c",
        "colab_type": "code",
        "colab": {
          "base_uri": "https://localhost:8080/",
          "height": 67
        },
        "outputId": "b87b6e6e-4006-4a77-db5e-c84811396a0e"
      },
      "source": [
        "# checking into the columns in the dataset\n",
        "\n",
        "results.columns"
      ],
      "execution_count": null,
      "outputs": [
        {
          "output_type": "execute_result",
          "data": {
            "text/plain": [
              "Index(['date', 'home_team', 'away_team', 'home_score', 'away_score',\n",
              "       'tournament', 'city', 'country', 'neutral'],\n",
              "      dtype='object')"
            ]
          },
          "metadata": {
            "tags": []
          },
          "execution_count": 58
        }
      ]
    },
    {
      "cell_type": "code",
      "metadata": {
        "id": "WkJKvwA3A8e1",
        "colab_type": "code",
        "colab": {
          "base_uri": "https://localhost:8080/",
          "height": 34
        },
        "outputId": "d921b586-236b-448b-efea-2ae7ab6b8c31"
      },
      "source": [
        "# checking the size of the dataset\n",
        "\n",
        "results.shape"
      ],
      "execution_count": null,
      "outputs": [
        {
          "output_type": "execute_result",
          "data": {
            "text/plain": [
              "(14581, 9)"
            ]
          },
          "metadata": {
            "tags": []
          },
          "execution_count": 59
        }
      ]
    },
    {
      "cell_type": "code",
      "metadata": {
        "id": "aYyYbMIO4hCO",
        "colab_type": "code",
        "colab": {
          "base_uri": "https://localhost:8080/",
          "height": 185
        },
        "outputId": "95c987cf-2042-4839-b3eb-15a3ee0d77a5"
      },
      "source": [
        "# checking unique values of the dataset\n",
        "\n",
        "results.nunique()"
      ],
      "execution_count": null,
      "outputs": [
        {
          "output_type": "execute_result",
          "data": {
            "text/plain": [
              "date          8392\n",
              "home_team      210\n",
              "away_team      212\n",
              "home_score      19\n",
              "away_score      19\n",
              "tournament      61\n",
              "city           794\n",
              "country        214\n",
              "neutral          2\n",
              "dtype: int64"
            ]
          },
          "metadata": {
            "tags": []
          },
          "execution_count": 60
        }
      ]
    },
    {
      "cell_type": "code",
      "metadata": {
        "id": "-lR7taD73Bt3",
        "colab_type": "code",
        "colab": {
          "base_uri": "https://localhost:8080/",
          "height": 185
        },
        "outputId": "baf44514-f21f-4b5d-9008-4adea69a7eb3"
      },
      "source": [
        "# exploring datatypes of the different columns \n",
        "\n",
        "results.dtypes"
      ],
      "execution_count": null,
      "outputs": [
        {
          "output_type": "execute_result",
          "data": {
            "text/plain": [
              "date          object\n",
              "home_team     object\n",
              "away_team     object\n",
              "home_score     int64\n",
              "away_score     int64\n",
              "tournament    object\n",
              "city          object\n",
              "country       object\n",
              "neutral       object\n",
              "dtype: object"
            ]
          },
          "metadata": {
            "tags": []
          },
          "execution_count": 61
        }
      ]
    },
    {
      "cell_type": "code",
      "metadata": {
        "id": "OhNb9pzj1xeu",
        "colab_type": "code",
        "colab": {}
      },
      "source": [
        "#converting date column to datetime data type\n",
        "\n",
        "results['date'] = pd.to_datetime(results['date'])\n"
      ],
      "execution_count": null,
      "outputs": []
    },
    {
      "cell_type": "code",
      "metadata": {
        "id": "L-5isDzS38Ga",
        "colab_type": "code",
        "colab": {
          "base_uri": "https://localhost:8080/",
          "height": 185
        },
        "outputId": "14797da4-90fe-45af-bd6f-e7b07a4245c7"
      },
      "source": [
        "results.dtypes"
      ],
      "execution_count": null,
      "outputs": [
        {
          "output_type": "execute_result",
          "data": {
            "text/plain": [
              "date          datetime64[ns]\n",
              "home_team             object\n",
              "away_team             object\n",
              "home_score             int64\n",
              "away_score             int64\n",
              "tournament            object\n",
              "city                  object\n",
              "country               object\n",
              "neutral               object\n",
              "dtype: object"
            ]
          },
          "metadata": {
            "tags": []
          },
          "execution_count": 63
        }
      ]
    },
    {
      "cell_type": "markdown",
      "metadata": {
        "id": "gbH0rsPxZDTl",
        "colab_type": "text"
      },
      "source": [
        "### Merging the Datasets"
      ]
    },
    {
      "cell_type": "code",
      "metadata": {
        "id": "sMmDAFWNZhPO",
        "colab_type": "code",
        "colab": {}
      },
      "source": [
        "#rename country in the ranking dataset to avoid duplicats\n",
        "\n",
        "ranking = ranking.rename(columns = {\"country_full\" : \"country\"})"
      ],
      "execution_count": null,
      "outputs": []
    },
    {
      "cell_type": "code",
      "metadata": {
        "id": "PSVsPMBqiGj8",
        "colab_type": "code",
        "colab": {
          "base_uri": "https://localhost:8080/",
          "height": 67
        },
        "outputId": "43651340-a3b9-41e0-cfd2-e3f97f2a557c"
      },
      "source": [
        "# merging the main dataset\n",
        "football = results.merge(ranking, left_on = ['date', 'home_team'],\n",
        "                          right_on = ['rank_date', 'country'])\n",
        "football = results.merge(ranking, left_on = ['date', 'away_team'],\n",
        "                          right_on = ['rank_date', 'country'], suffixes =('_home', '_away_'))\n",
        "football.head(4)"
      ],
      "execution_count": null,
      "outputs": [
        {
          "output_type": "execute_result",
          "data": {
            "text/html": [
              "<div>\n",
              "<style scoped>\n",
              "    .dataframe tbody tr th:only-of-type {\n",
              "        vertical-align: middle;\n",
              "    }\n",
              "\n",
              "    .dataframe tbody tr th {\n",
              "        vertical-align: top;\n",
              "    }\n",
              "\n",
              "    .dataframe thead th {\n",
              "        text-align: right;\n",
              "    }\n",
              "</style>\n",
              "<table border=\"1\" class=\"dataframe\">\n",
              "  <thead>\n",
              "    <tr style=\"text-align: right;\">\n",
              "      <th></th>\n",
              "      <th>date</th>\n",
              "      <th>home_team</th>\n",
              "      <th>away_team</th>\n",
              "      <th>home_score</th>\n",
              "      <th>away_score</th>\n",
              "      <th>tournament</th>\n",
              "      <th>city</th>\n",
              "      <th>country_home</th>\n",
              "      <th>neutral</th>\n",
              "      <th>rank</th>\n",
              "      <th>country_away_</th>\n",
              "      <th>country_abrv</th>\n",
              "      <th>total_points</th>\n",
              "      <th>previous_points</th>\n",
              "      <th>rank_change</th>\n",
              "      <th>cur_year_avg</th>\n",
              "      <th>cur_year_avg_weighted</th>\n",
              "      <th>last_year_avg</th>\n",
              "      <th>last_year_avg_weighted</th>\n",
              "      <th>two_year_ago_avg</th>\n",
              "      <th>two_year_ago_weighted</th>\n",
              "      <th>three_year_ago_avg</th>\n",
              "      <th>three_year_ago_weighted</th>\n",
              "      <th>confederation</th>\n",
              "      <th>rank_date</th>\n",
              "    </tr>\n",
              "  </thead>\n",
              "  <tbody>\n",
              "  </tbody>\n",
              "</table>\n",
              "</div>"
            ],
            "text/plain": [
              "Empty DataFrame\n",
              "Columns: [date, home_team, away_team, home_score, away_score, tournament, city, country_home, neutral, rank, country_away_, country_abrv, total_points, previous_points, rank_change, cur_year_avg, cur_year_avg_weighted, last_year_avg, last_year_avg_weighted, two_year_ago_avg, two_year_ago_weighted, three_year_ago_avg, three_year_ago_weighted, confederation, rank_date]\n",
              "Index: []"
            ]
          },
          "metadata": {
            "tags": []
          },
          "execution_count": 65
        }
      ]
    },
    {
      "cell_type": "code",
      "metadata": {
        "id": "8USe_OYZNTdg",
        "colab_type": "code",
        "colab": {}
      },
      "source": [
        "#merging the two datasets on home team to obtain a dataset of home team countries with their rankings\n",
        "\n",
        "home_team = results.merge(ranking, left_on = ['date', 'home_team'],\n",
        "                          right_on = ['rank_date', 'country'])\n",
        "home_team.head(3)\n",
        "\n",
        "#renaming the rank and rank change columns to home team rank columns \n",
        "\n",
        "home_team = home_team.rename(columns = ({'rank' : 'home_team_rank', 'rank_change' : 'home_rank_change'}))\n",
        "home_team.head(4)"
      ],
      "execution_count": null,
      "outputs": []
    },
    {
      "cell_type": "code",
      "metadata": {
        "id": "3p-yFHgiPE38",
        "colab_type": "code",
        "colab": {}
      },
      "source": [
        "#merging the two datasets on away team to obtain a dataset of away team countries with their rankings\n",
        "\n",
        "away_team = results.merge(ranking, left_on = ['date', 'away_team'],\n",
        "                          right_on = ['rank_date', 'country'], suffixes =('_home', '_away_'))\n",
        "away_team.tail(4)\n",
        "\n",
        "#renaming rank to away team rank\n",
        "\n",
        "away_team = away_team.rename(columns = {'rank' : 'away_team_rank', 'rank_change' : 'away_rank_change'})\n",
        "away_team.head(4)"
      ],
      "execution_count": null,
      "outputs": []
    },
    {
      "cell_type": "code",
      "metadata": {
        "id": "XPKYVMpkkUP5",
        "colab_type": "code",
        "colab": {}
      },
      "source": [
        "# adding home team rank, home team rank change, away team rank and away team rank change to the football dataframe\n",
        "football['home_team_rank'] = home_team['home_team_rank']\n",
        "football['away_team_rank'] = away_team['away_team_rank']\n",
        "football['home_team_rank_change'] = home_team['home_rank_change']\n",
        "football['away_team_rank_change'] = away_team['away_rank_change']\n",
        "\n",
        "\n",
        "football.head(2)"
      ],
      "execution_count": null,
      "outputs": []
    },
    {
      "cell_type": "markdown",
      "metadata": {
        "id": "sKDkV4IpGFBa",
        "colab_type": "text"
      },
      "source": [
        "##3. Checking the data"
      ]
    },
    {
      "cell_type": "code",
      "metadata": {
        "id": "jp2BNaPO5aZ_",
        "colab_type": "code",
        "colab": {}
      },
      "source": [
        "# splitting the rank date column to year, month and date\n",
        "\n",
        "football[['yy','mm','dd']] = football['rank_date'].astype(str).str.split('-', expand=True).astype(int)\n",
        "\n",
        "#checking the datatypes to ensure changes have been made\n",
        "football.dtypes"
      ],
      "execution_count": null,
      "outputs": []
    },
    {
      "cell_type": "markdown",
      "metadata": {
        "id": "N_MkSnbNGOh5",
        "colab_type": "text"
      },
      "source": [
        "Some columns have the same details, some have been repeated while others are irrelevant to our study hence the need to drop these columns "
      ]
    },
    {
      "cell_type": "code",
      "metadata": {
        "id": "rquKf_giqGxl",
        "colab_type": "code",
        "colab": {}
      },
      "source": [
        "#checking our columns \n",
        "\n",
        "football.columns"
      ],
      "execution_count": null,
      "outputs": []
    },
    {
      "cell_type": "code",
      "metadata": {
        "id": "XREfllXFdh4C",
        "colab_type": "code",
        "colab": {}
      },
      "source": [
        "# dropping irrelevent columns from the football dataset\n",
        "\n",
        "# football.drop(['date', 'city', 'country_home', 'rank', 'country_away_', 'country_abrv', 'rank_change', 'rank_date', 'mm', 'dd'], axis = 1, inplace = True)"
      ],
      "execution_count": null,
      "outputs": []
    },
    {
      "cell_type": "code",
      "metadata": {
        "id": "POdTBxZkd8ks",
        "colab_type": "code",
        "colab": {}
      },
      "source": [
        "# confirming we only have relevent columns in our dataset\n",
        "\n",
        "football.columns"
      ],
      "execution_count": null,
      "outputs": []
    },
    {
      "cell_type": "markdown",
      "metadata": {
        "id": "RzcIbXRmG5dd",
        "colab_type": "text"
      },
      "source": [
        "All the columns required for this study are present. However, we might need to drop some of the columns and also add more "
      ]
    },
    {
      "cell_type": "code",
      "metadata": {
        "id": "JzdUNtzdpZJU",
        "colab_type": "code",
        "colab": {}
      },
      "source": [
        "#checking the size of our newly obtained dataset\n",
        "\n",
        "football.shape\n"
      ],
      "execution_count": null,
      "outputs": []
    },
    {
      "cell_type": "markdown",
      "metadata": {
        "id": "TUyGccxkDlbF",
        "colab_type": "text"
      },
      "source": [
        "The new dataset has 933 records and 22 columns"
      ]
    },
    {
      "cell_type": "code",
      "metadata": {
        "id": "FdqaCAS7TdN6",
        "colab_type": "code",
        "colab": {}
      },
      "source": [
        "#obtaining more information about the dataset\n",
        "football.info()"
      ],
      "execution_count": null,
      "outputs": []
    },
    {
      "cell_type": "markdown",
      "metadata": {
        "id": "uMT1TfEzgy5X",
        "colab_type": "text"
      },
      "source": [
        "The data has a total of 933 records of non-null values"
      ]
    },
    {
      "cell_type": "code",
      "metadata": {
        "id": "o83gEmPMgtmc",
        "colab_type": "code",
        "colab": {}
      },
      "source": [
        "# checking for duplicates in the dataset\n",
        "\n",
        "football[football.duplicated()]"
      ],
      "execution_count": null,
      "outputs": []
    },
    {
      "cell_type": "markdown",
      "metadata": {
        "id": "MmqRmkuYhbe7",
        "colab_type": "text"
      },
      "source": [
        "There are no records that have duplicates in our dataset"
      ]
    },
    {
      "cell_type": "code",
      "metadata": {
        "id": "jPFmPolNeRuN",
        "colab_type": "code",
        "colab": {
          "base_uri": "https://localhost:8080/",
          "height": 721
        },
        "outputId": "2d85271b-9d1c-4d7e-f9a3-a53752b6c853"
      },
      "source": [
        "# checking for outliers in the home scores, away scores and the ranking columns\n",
        "# creating a list of columns of interest\n",
        "\n",
        "columns = ['home_score', 'away_score', 'home_team_rank', 'away_team_rank', 'home_team_rank_change', 'away_team_rank_change']\n",
        "\n",
        "\n",
        "fig, ax = plt.subplots(len(columns), figsize = (10, 12))\n",
        "\n",
        "for i, col_val in enumerate(columns):\n",
        "\n",
        "  sb.boxplot(y= football[col_val], ax=ax[i])\n",
        "  ax[i].set_title('Box plot-{}'.format(col_val), fontsize=10)\n",
        "  ax[i].set_xlabel(col_val, fontsize=8)\n",
        "\n",
        "plt.show()\n",
        "\n"
      ],
      "execution_count": null,
      "outputs": [
        {
          "output_type": "display_data",
          "data": {
            "image/png": "[encoded data removed]",
            "text/plain": [
              "<Figure size 720x864 with 6 Axes>"
            ]
          },
          "metadata": {
            "tags": []
          }
        }
      ]
    },
    {
      "cell_type": "markdown",
      "metadata": {
        "id": "VXIlLVDBi3b7",
        "colab_type": "text"
      },
      "source": [
        "In the home score column, most of the observations lie above the 5 mark but below the 20 mark. There is also an observed value at the 31st mark. This could be a true observation hence we will not remove it. In the away score column, the points are distributed evenly above 5 but below 10, there is no value that is observed as an anomaly.\n",
        "\n",
        "The home team rank column has an outlier around the 200 mark while there are no outliers in the away team rank column.\n",
        "\n",
        "In the home team rank change column, we observe quite a number of observations above and below the interquartile range as well as in the away team rank change columns. This could mean the changes in ranks are highly inconsistent."
      ]
    },
    {
      "cell_type": "markdown",
      "metadata": {
        "id": "xcyy7Pg0Hd1g",
        "colab_type": "text"
      },
      "source": [
        "##4. External Datasource Validation"
      ]
    },
    {
      "cell_type": "markdown",
      "metadata": {
        "id": "5thR3ntXHiWt",
        "colab_type": "text"
      },
      "source": [
        ""
      ]
    },
    {
      "cell_type": "markdown",
      "metadata": {
        "id": "l9BIXdPYzsMJ",
        "colab_type": "text"
      },
      "source": [
        "##5. Exploratory Data Analysis"
      ]
    },
    {
      "cell_type": "markdown",
      "metadata": {
        "id": "csw_MF5ZMyGu",
        "colab_type": "text"
      },
      "source": [
        "### Univariate Analysis"
      ]
    },
    {
      "cell_type": "code",
      "metadata": {
        "id": "FA5L64aKM2fx",
        "colab_type": "code",
        "colab": {
          "base_uri": "https://localhost:8080/",
          "height": 304
        },
        "outputId": "09a27d07-b1ce-4adc-b96c-338e19b91e56"
      },
      "source": [
        "football.describe()"
      ],
      "execution_count": null,
      "outputs": [
        {
          "output_type": "execute_result",
          "data": {
            "text/html": [
              "<div>\n",
              "<style scoped>\n",
              "    .dataframe tbody tr th:only-of-type {\n",
              "        vertical-align: middle;\n",
              "    }\n",
              "\n",
              "    .dataframe tbody tr th {\n",
              "        vertical-align: top;\n",
              "    }\n",
              "\n",
              "    .dataframe thead th {\n",
              "        text-align: right;\n",
              "    }\n",
              "</style>\n",
              "<table border=\"1\" class=\"dataframe\">\n",
              "  <thead>\n",
              "    <tr style=\"text-align: right;\">\n",
              "      <th></th>\n",
              "      <th>home_score</th>\n",
              "      <th>away_score</th>\n",
              "      <th>total_points</th>\n",
              "      <th>previous_points</th>\n",
              "      <th>cur_year_avg</th>\n",
              "      <th>cur_year_avg_weighted</th>\n",
              "      <th>last_year_avg</th>\n",
              "      <th>last_year_avg_weighted</th>\n",
              "      <th>two_year_ago_avg</th>\n",
              "      <th>two_year_ago_weighted</th>\n",
              "      <th>three_year_ago_avg</th>\n",
              "      <th>three_year_ago_weighted</th>\n",
              "      <th>home_team_rank</th>\n",
              "      <th>away_team_rank</th>\n",
              "      <th>home_team_rank_change</th>\n",
              "      <th>away_team_rank_change</th>\n",
              "    </tr>\n",
              "  </thead>\n",
              "  <tbody>\n",
              "    <tr>\n",
              "      <th>count</th>\n",
              "      <td>933.000000</td>\n",
              "      <td>933.000000</td>\n",
              "      <td>933.000000</td>\n",
              "      <td>933.000000</td>\n",
              "      <td>933.000000</td>\n",
              "      <td>933.000000</td>\n",
              "      <td>933.000000</td>\n",
              "      <td>933.000000</td>\n",
              "      <td>933.000000</td>\n",
              "      <td>933.000000</td>\n",
              "      <td>933.000000</td>\n",
              "      <td>933.000000</td>\n",
              "      <td>933.000000</td>\n",
              "      <td>933.000000</td>\n",
              "      <td>933.000000</td>\n",
              "      <td>933.000000</td>\n",
              "    </tr>\n",
              "    <tr>\n",
              "      <th>mean</th>\n",
              "      <td>1.648446</td>\n",
              "      <td>1.004287</td>\n",
              "      <td>30.426195</td>\n",
              "      <td>443.767417</td>\n",
              "      <td>15.040525</td>\n",
              "      <td>15.040525</td>\n",
              "      <td>15.260772</td>\n",
              "      <td>7.630386</td>\n",
              "      <td>15.712326</td>\n",
              "      <td>4.713687</td>\n",
              "      <td>15.208317</td>\n",
              "      <td>3.041651</td>\n",
              "      <td>66.025723</td>\n",
              "      <td>70.445874</td>\n",
              "      <td>-0.061093</td>\n",
              "      <td>0.148982</td>\n",
              "    </tr>\n",
              "    <tr>\n",
              "      <th>std</th>\n",
              "      <td>1.951309</td>\n",
              "      <td>1.167323</td>\n",
              "      <td>132.837821</td>\n",
              "      <td>313.218600</td>\n",
              "      <td>69.138288</td>\n",
              "      <td>69.138288</td>\n",
              "      <td>68.302697</td>\n",
              "      <td>34.151370</td>\n",
              "      <td>72.227343</td>\n",
              "      <td>21.668130</td>\n",
              "      <td>68.680010</td>\n",
              "      <td>13.736013</td>\n",
              "      <td>47.557006</td>\n",
              "      <td>50.450593</td>\n",
              "      <td>4.409013</td>\n",
              "      <td>4.818630</td>\n",
              "    </tr>\n",
              "    <tr>\n",
              "      <th>min</th>\n",
              "      <td>0.000000</td>\n",
              "      <td>0.000000</td>\n",
              "      <td>0.000000</td>\n",
              "      <td>0.000000</td>\n",
              "      <td>0.000000</td>\n",
              "      <td>0.000000</td>\n",
              "      <td>0.000000</td>\n",
              "      <td>0.000000</td>\n",
              "      <td>0.000000</td>\n",
              "      <td>0.000000</td>\n",
              "      <td>0.000000</td>\n",
              "      <td>0.000000</td>\n",
              "      <td>1.000000</td>\n",
              "      <td>1.000000</td>\n",
              "      <td>-22.000000</td>\n",
              "      <td>-43.000000</td>\n",
              "    </tr>\n",
              "    <tr>\n",
              "      <th>25%</th>\n",
              "      <td>0.000000</td>\n",
              "      <td>0.000000</td>\n",
              "      <td>0.000000</td>\n",
              "      <td>170.000000</td>\n",
              "      <td>0.000000</td>\n",
              "      <td>0.000000</td>\n",
              "      <td>0.000000</td>\n",
              "      <td>0.000000</td>\n",
              "      <td>0.000000</td>\n",
              "      <td>0.000000</td>\n",
              "      <td>0.000000</td>\n",
              "      <td>0.000000</td>\n",
              "      <td>27.000000</td>\n",
              "      <td>29.000000</td>\n",
              "      <td>-2.000000</td>\n",
              "      <td>-1.000000</td>\n",
              "    </tr>\n",
              "    <tr>\n",
              "      <th>50%</th>\n",
              "      <td>1.000000</td>\n",
              "      <td>1.000000</td>\n",
              "      <td>0.000000</td>\n",
              "      <td>452.000000</td>\n",
              "      <td>0.000000</td>\n",
              "      <td>0.000000</td>\n",
              "      <td>0.000000</td>\n",
              "      <td>0.000000</td>\n",
              "      <td>0.000000</td>\n",
              "      <td>0.000000</td>\n",
              "      <td>0.000000</td>\n",
              "      <td>0.000000</td>\n",
              "      <td>59.000000</td>\n",
              "      <td>61.000000</td>\n",
              "      <td>0.000000</td>\n",
              "      <td>0.000000</td>\n",
              "    </tr>\n",
              "    <tr>\n",
              "      <th>75%</th>\n",
              "      <td>2.000000</td>\n",
              "      <td>2.000000</td>\n",
              "      <td>0.000000</td>\n",
              "      <td>625.000000</td>\n",
              "      <td>0.000000</td>\n",
              "      <td>0.000000</td>\n",
              "      <td>0.000000</td>\n",
              "      <td>0.000000</td>\n",
              "      <td>0.000000</td>\n",
              "      <td>0.000000</td>\n",
              "      <td>0.000000</td>\n",
              "      <td>0.000000</td>\n",
              "      <td>96.000000</td>\n",
              "      <td>103.000000</td>\n",
              "      <td>1.000000</td>\n",
              "      <td>1.000000</td>\n",
              "    </tr>\n",
              "    <tr>\n",
              "      <th>max</th>\n",
              "      <td>31.000000</td>\n",
              "      <td>9.000000</td>\n",
              "      <td>1181.430000</td>\n",
              "      <td>1883.000000</td>\n",
              "      <td>817.580000</td>\n",
              "      <td>817.580000</td>\n",
              "      <td>617.620000</td>\n",
              "      <td>308.810000</td>\n",
              "      <td>637.290000</td>\n",
              "      <td>191.190000</td>\n",
              "      <td>665.550000</td>\n",
              "      <td>133.110000</td>\n",
              "      <td>206.000000</td>\n",
              "      <td>209.000000</td>\n",
              "      <td>38.000000</td>\n",
              "      <td>34.000000</td>\n",
              "    </tr>\n",
              "  </tbody>\n",
              "</table>\n",
              "</div>"
            ],
            "text/plain": [
              "       home_score  away_score  ...  home_team_rank_change  away_team_rank_change\n",
              "count  933.000000  933.000000  ...             933.000000             933.000000\n",
              "mean     1.648446    1.004287  ...              -0.061093               0.148982\n",
              "std      1.951309    1.167323  ...               4.409013               4.818630\n",
              "min      0.000000    0.000000  ...             -22.000000             -43.000000\n",
              "25%      0.000000    0.000000  ...              -2.000000              -1.000000\n",
              "50%      1.000000    1.000000  ...               0.000000               0.000000\n",
              "75%      2.000000    2.000000  ...               1.000000               1.000000\n",
              "max     31.000000    9.000000  ...              38.000000              34.000000\n",
              "\n",
              "[8 rows x 16 columns]"
            ]
          },
          "metadata": {
            "tags": []
          },
          "execution_count": 34
        }
      ]
    },
    {
      "cell_type": "markdown",
      "metadata": {
        "id": "pxrYsNk_MnPu",
        "colab_type": "text"
      },
      "source": [
        "###Measures of Central Tendency"
      ]
    },
    {
      "cell_type": "code",
      "metadata": {
        "id": "al2SQQ9ZMscZ",
        "colab_type": "code",
        "colab": {
          "base_uri": "https://localhost:8080/",
          "height": 319
        },
        "outputId": "2db30ab5-adc5-4a3a-877c-2f65e146182a"
      },
      "source": [
        "# creating a list of scores and ranks of the teams\n",
        "columns = ['home_score', 'away_score', 'home_team_rank', 'away_team_rank', 'home_team_rank_change', 'away_team_rank_change']\n",
        "\n",
        "#Obtaining the mean of the columns mentioned\n",
        "\n",
        "for column in columns:\n",
        "  print('\\n')\n",
        "  print(column +':' + str(football[column].mean()))"
      ],
      "execution_count": null,
      "outputs": [
        {
          "output_type": "stream",
          "text": [
            "\n",
            "\n",
            "home_score:1.6484458735262595\n",
            "\n",
            "\n",
            "away_score:1.0042872454448017\n",
            "\n",
            "\n",
            "home_team_rank:66.02572347266882\n",
            "\n",
            "\n",
            "away_team_rank:70.44587352625938\n",
            "\n",
            "\n",
            "home_team_rank_change:-0.06109324758842444\n",
            "\n",
            "\n",
            "away_team_rank_change:0.1489817792068596\n"
          ],
          "name": "stdout"
        }
      ]
    },
    {
      "cell_type": "markdown",
      "metadata": {
        "id": "HfUR41WlO9FA",
        "colab_type": "text"
      },
      "source": [
        "Both home scores and away scores have a mean range of 1 but home score has a higher mean by 0.5. \n",
        "\n",
        "The mean values of the away team rank is higher than the mean value of the home team rank. Hence the away teams have recorded higher chances of higher rankings.\n",
        "\n",
        "The home team rank change has a negative mean value. This could mean most home teams rank lower per match."
      ]
    },
    {
      "cell_type": "code",
      "metadata": {
        "id": "3h22PqzxRJNt",
        "colab_type": "code",
        "colab": {
          "base_uri": "https://localhost:8080/",
          "height": 420
        },
        "outputId": "aa061589-2de3-438c-8019-8fdfd2b1edbb"
      },
      "source": [
        "#Obtaining the mode of the columns mentioned\n",
        "\n",
        "for column in columns:\n",
        "  print('\\n')\n",
        "  print(column +':' + str(football[column].mode()))"
      ],
      "execution_count": null,
      "outputs": [
        {
          "output_type": "stream",
          "text": [
            "\n",
            "\n",
            "home_score:0    1\n",
            "dtype: int64\n",
            "\n",
            "\n",
            "away_score:0    0\n",
            "dtype: int64\n",
            "\n",
            "\n",
            "home_team_rank:0    33\n",
            "dtype: int64\n",
            "\n",
            "\n",
            "away_team_rank:0    36\n",
            "dtype: int64\n",
            "\n",
            "\n",
            "home_team_rank_change:0    0\n",
            "dtype: int64\n",
            "\n",
            "\n",
            "away_team_rank_change:0    0\n",
            "dtype: int64\n"
          ],
          "name": "stdout"
        }
      ]
    },
    {
      "cell_type": "markdown",
      "metadata": {
        "id": "ItqPB13wRVFu",
        "colab_type": "text"
      },
      "source": [
        "Most home scores recorded are 1's as compared to most away scores recorded that are 0's. \n",
        "\n",
        "Most home teams are ranked at 33 while most away teams are ranked at 36, hence more away scores have a higher ranking as compared to the home teams"
      ]
    },
    {
      "cell_type": "markdown",
      "metadata": {
        "id": "IpA_VpaySFMw",
        "colab_type": "text"
      },
      "source": [
        "### Measures of Dispersion"
      ]
    },
    {
      "cell_type": "code",
      "metadata": {
        "id": "tVKr2FNgSNQT",
        "colab_type": "code",
        "colab": {
          "base_uri": "https://localhost:8080/",
          "height": 622
        },
        "outputId": "2685b063-2e93-45f5-85fb-35235dabbd7b"
      },
      "source": [
        "for column in columns:\n",
        "  print('\\n')\n",
        "  print(column + ', variance: ' +str(football[column].var()))\n",
        "  print(column + ', std_deviation: ' +str(football[column].std()))\n",
        "  print(column + ', skewness: ' +str(football[column].skew()))\n",
        "  print(column + ', kurtosis: ' +str(football[column].kurt()))"
      ],
      "execution_count": null,
      "outputs": [
        {
          "output_type": "stream",
          "text": [
            "\n",
            "\n",
            "home_score, variance: 3.8076075606400894\n",
            "home_score, std_deviation: 1.9513091914507268\n",
            "home_score, skewness: 5.276778075359087\n",
            "home_score, kurtosis: 60.985748604004904\n",
            "\n",
            "\n",
            "away_score, variance: 1.3626425440109746\n",
            "away_score, std_deviation: 1.1673228105417004\n",
            "away_score, skewness: 1.8330710075212275\n",
            "away_score, kurtosis: 5.839401828995081\n",
            "\n",
            "\n",
            "home_team_rank, variance: 2261.668865489972\n",
            "home_team_rank, std_deviation: 47.55700648158978\n",
            "home_team_rank, skewness: 0.7211541914994738\n",
            "home_team_rank, kurtosis: -0.21116227568788837\n",
            "\n",
            "\n",
            "away_team_rank, variance: 2545.2623568809854\n",
            "away_team_rank, std_deviation: 50.45059322625439\n",
            "away_team_rank, skewness: 0.6728937288778412\n",
            "away_team_rank, kurtosis: -0.35497011685628177\n",
            "\n",
            "\n",
            "home_team_rank_change, variance: 19.439396657604604\n",
            "home_team_rank_change, std_deviation: 4.409013116061757\n",
            "home_team_rank_change, skewness: 1.853762156325902\n",
            "home_team_rank_change, kurtosis: 15.606619870784572\n",
            "\n",
            "\n",
            "away_team_rank_change, variance: 23.219196923487434\n",
            "away_team_rank_change, std_deviation: 4.818630191609171\n",
            "away_team_rank_change, skewness: 0.5067789580943651\n",
            "away_team_rank_change, kurtosis: 20.275495459716712\n"
          ],
          "name": "stdout"
        }
      ]
    },
    {
      "cell_type": "markdown",
      "metadata": {
        "id": "mDpe8m5GL4HH",
        "colab_type": "text"
      },
      "source": [
        "###Histograms"
      ]
    },
    {
      "cell_type": "code",
      "metadata": {
        "id": "mxqonaQ5L75H",
        "colab_type": "code",
        "colab": {
          "base_uri": "https://localhost:8080/",
          "height": 602
        },
        "outputId": "6cae248e-43ee-4b6b-96b7-2f3e83f0d078"
      },
      "source": [
        "# histograms of our columns of interest\n",
        "\n",
        "sb.set_style('darkgrid')\n",
        "fig, axes = plt.subplots(len(columns), figsize = (7, 8))\n",
        "fig.suptitle('Distributions of scores and rankings', y= 1.01, color = 'black', fontsize = 15)\n",
        "\n",
        "for ax, data, name in zip(axes.flatten(), football, columns):\n",
        "  sb.distplot(football[name], ax = ax, kde = True, color = 'purple')\n",
        "plt.tight_layout()"
      ],
      "execution_count": null,
      "outputs": [
        {
          "output_type": "display_data",
          "data": {
            "image/png": "[encoded data removed]",
            "text/plain": [
              "<Figure size 504x576 with 6 Axes>"
            ]
          },
          "metadata": {
            "tags": []
          }
        }
      ]
    },
    {
      "cell_type": "markdown",
      "metadata": {
        "id": "FxUPr1HjV50M",
        "colab_type": "text"
      },
      "source": [
        "### Bar Charts"
      ]
    },
    {
      "cell_type": "code",
      "metadata": {
        "id": "cnxymLzZV8Zm",
        "colab_type": "code",
        "colab": {
          "base_uri": "https://localhost:8080/",
          "height": 339
        },
        "outputId": "d9700ea3-3d5f-40d6-93d3-c31d92aa2cf9"
      },
      "source": [
        "# creating a list of all categorical columns for exploration\n",
        "\n",
        "categorical_columns = ['home_team', 'away_team', 'tournament', 'neutral','confederation']\n",
        "\n",
        "football['home_team'].value_counts().head(10).plot.bar()\n"
      ],
      "execution_count": null,
      "outputs": [
        {
          "output_type": "execute_result",
          "data": {
            "text/plain": [
              "<matplotlib.axes._subplots.AxesSubplot at 0x7f20fc0c0978>"
            ]
          },
          "metadata": {
            "tags": []
          },
          "execution_count": 43
        },
        {
          "output_type": "display_data",
          "data": {
            "image/png": "[encoded data removed]",
            "text/plain": [
              "<Figure size 432x288 with 1 Axes>"
            ]
          },
          "metadata": {
            "tags": []
          }
        }
      ]
    },
    {
      "cell_type": "code",
      "metadata": {
        "id": "rowWEGf1XJBY",
        "colab_type": "code",
        "colab": {
          "base_uri": "https://localhost:8080/",
          "height": 218
        },
        "outputId": "5ceadf1f-c123-4f22-9fd5-94fce50a956f"
      },
      "source": [
        "# frequency distribution\n",
        "\n",
        "football['home_team'].value_counts()"
      ],
      "execution_count": null,
      "outputs": [
        {
          "output_type": "execute_result",
          "data": {
            "text/plain": [
              "Mexico              23\n",
              "Portugal            15\n",
              "Saudi Arabia        15\n",
              "Estonia             15\n",
              "Hungary             14\n",
              "                    ..\n",
              "Liberia              1\n",
              "Papua New Guinea     1\n",
              "Samoa                1\n",
              "Afghanistan          1\n",
              "Macau                1\n",
              "Name: home_team, Length: 175, dtype: int64"
            ]
          },
          "metadata": {
            "tags": []
          },
          "execution_count": 44
        }
      ]
    },
    {
      "cell_type": "markdown",
      "metadata": {
        "id": "BomcR_p6Yi6o",
        "colab_type": "text"
      },
      "source": [
        "Mexico has the most records of home teams i.e most of the matches were played in Mexico, followed by Portugal, Saudi Arabia and Estonia whereas Liberia, Papua New Guinea, Samoa, Afghanistan and Macau have the least records of home teams"
      ]
    },
    {
      "cell_type": "code",
      "metadata": {
        "id": "Yk8KzjPAXeZJ",
        "colab_type": "code",
        "colab": {
          "base_uri": "https://localhost:8080/",
          "height": 326
        },
        "outputId": "9d2a89bf-8a8a-4755-91cb-a76ffecbd9d6"
      },
      "source": [
        "# bar graph of away teams\n",
        "\n",
        "football['away_team'].value_counts().head(10).plot.bar()\n"
      ],
      "execution_count": null,
      "outputs": [
        {
          "output_type": "execute_result",
          "data": {
            "text/plain": [
              "<matplotlib.axes._subplots.AxesSubplot at 0x7f20fd5cde48>"
            ]
          },
          "metadata": {
            "tags": []
          },
          "execution_count": 45
        },
        {
          "output_type": "display_data",
          "data": {
            "image/png": "[encoded data removed]",
            "text/plain": [
              "<Figure size 432x288 with 1 Axes>"
            ]
          },
          "metadata": {
            "tags": []
          }
        }
      ]
    },
    {
      "cell_type": "code",
      "metadata": {
        "id": "9hEhpOdKXl2x",
        "colab_type": "code",
        "colab": {
          "base_uri": "https://localhost:8080/",
          "height": 218
        },
        "outputId": "6cda2036-27a5-4200-f7d9-436d121bd698"
      },
      "source": [
        "# frequency distrbution of the away team\n",
        "\n",
        "football['away_team'].value_counts()"
      ],
      "execution_count": null,
      "outputs": [
        {
          "output_type": "execute_result",
          "data": {
            "text/plain": [
              "Uruguay            15\n",
              "Argentina          15\n",
              "Kuwait             14\n",
              "Bulgaria           14\n",
              "Israel             14\n",
              "                   ..\n",
              "Sierra Leone        1\n",
              "Chad                1\n",
              "Nepal               1\n",
              "San Marino          1\n",
              "Solomon Islands     1\n",
              "Name: away_team, Length: 164, dtype: int64"
            ]
          },
          "metadata": {
            "tags": []
          },
          "execution_count": 46
        }
      ]
    },
    {
      "cell_type": "markdown",
      "metadata": {
        "id": "BUSvmwIMXxki",
        "colab_type": "text"
      },
      "source": [
        "There are a total of 175 away teams with Uruguay and Argentina being the most records of 15 and Sierra Leone, Chad, Nepal, San Marino and Solomon Islands with the least records of 1."
      ]
    },
    {
      "cell_type": "code",
      "metadata": {
        "id": "n53ciakLZLJ-",
        "colab_type": "code",
        "colab": {
          "base_uri": "https://localhost:8080/",
          "height": 440
        },
        "outputId": "c29433d0-014f-4bfa-e0a0-57aaebc4395a"
      },
      "source": [
        "# bar graphs of the types of tournaments played\n",
        "\n",
        "football['tournament'].value_counts().head(10).plot.bar()"
      ],
      "execution_count": null,
      "outputs": [
        {
          "output_type": "execute_result",
          "data": {
            "text/plain": [
              "<matplotlib.axes._subplots.AxesSubplot at 0x7f20eff8a9b0>"
            ]
          },
          "metadata": {
            "tags": []
          },
          "execution_count": 48
        },
        {
          "output_type": "display_data",
          "data": {
            "image/png": "[encoded data removed]",
            "text/plain": [
              "<Figure size 432x288 with 1 Axes>"
            ]
          },
          "metadata": {
            "tags": []
          }
        }
      ]
    },
    {
      "cell_type": "code",
      "metadata": {
        "id": "iJwKizfvZlY_",
        "colab_type": "code",
        "colab": {
          "base_uri": "https://localhost:8080/",
          "height": 672
        },
        "outputId": "862cd94e-7c31-4e31-ed3e-115f1f45b72f"
      },
      "source": [
        "# frequency distribution of tournaments\n",
        "\n",
        "football['tournament'].value_counts()"
      ],
      "execution_count": null,
      "outputs": [
        {
          "output_type": "execute_result",
          "data": {
            "text/plain": [
              "Friendly                                      598\n",
              "FIFA World Cup qualification                  155\n",
              "UEFA Euro qualification                        39\n",
              "AFC Asian Cup qualification                    36\n",
              "Cyprus International Tournament                 8\n",
              "AFF Championship                                8\n",
              "Gulf Cup                                        7\n",
              "Gold Cup                                        6\n",
              "Copa América                                    6\n",
              "CECAFA Cup                                      6\n",
              "CFU Caribbean Cup qualification                 5\n",
              "African Cup of Nations qualification            5\n",
              "African Nations Championship                    4\n",
              "SAFF Cup                                        4\n",
              "African Cup of Nations                          4\n",
              "AFC Asian Cup                                   4\n",
              "Gold Cup qualification                          3\n",
              "King's Cup                                      3\n",
              "Malta International Tournament                  3\n",
              "United Arab Emirates Friendship Tournament      3\n",
              "AFC Challenge Cup qualification                 2\n",
              "Oceania Nations Cup                             2\n",
              "CFU Caribbean Cup                               2\n",
              "Korea Cup                                       2\n",
              "Confederations Cup                              2\n",
              "Merdeka Tournament                              2\n",
              "Prime Minister's Cup                            2\n",
              "UNCAF Cup                                       2\n",
              "Copa del Pacífico                               1\n",
              "Windward Islands Tournament                     1\n",
              "Millennium Cup                                  1\n",
              "EAFF Championship                               1\n",
              "USA Cup                                         1\n",
              "South Pacific Games                             1\n",
              "UAFA Cup                                        1\n",
              "Intercontinental Cup                            1\n",
              "COSAFA Cup                                      1\n",
              "Nehru Cup                                       1\n",
              "Name: tournament, dtype: int64"
            ]
          },
          "metadata": {
            "tags": []
          },
          "execution_count": 50
        }
      ]
    },
    {
      "cell_type": "markdown",
      "metadata": {
        "id": "CK8PJ9PVZJCb",
        "colab_type": "text"
      },
      "source": [
        "The total number of tournaments recorded is 109. The highest record is of 589 friendly matches followed by 155 matches of FIFA World Cup qualifications. There's a huge difference between the two most recorded types of tournaments, this means our data consisits of mostly friendly matches. Most of the other tournament types have significantly few records."
      ]
    },
    {
      "cell_type": "code",
      "metadata": {
        "id": "ihj50VdIcNbz",
        "colab_type": "code",
        "colab": {
          "base_uri": "https://localhost:8080/",
          "height": 333
        },
        "outputId": "c48076c2-13fd-4b7a-fba4-88df8cf75898"
      },
      "source": [
        "# bar graph of conferedation\n",
        "\n",
        "football['confederation'].value_counts().plot.bar()"
      ],
      "execution_count": null,
      "outputs": [
        {
          "output_type": "execute_result",
          "data": {
            "text/plain": [
              "<matplotlib.axes._subplots.AxesSubplot at 0x7f20fc8c3710>"
            ]
          },
          "metadata": {
            "tags": []
          },
          "execution_count": 58
        },
        {
          "output_type": "display_data",
          "data": {
            "image/png": "[encoded data removed]",
            "text/plain": [
              "<Figure size 432x288 with 1 Axes>"
            ]
          },
          "metadata": {
            "tags": []
          }
        }
      ]
    },
    {
      "cell_type": "markdown",
      "metadata": {
        "id": "BBafJUOsctC-",
        "colab_type": "text"
      },
      "source": [
        "The dataset has included a total of 6 confederations with UEFA recording the most number of matches followed by AFC which has recorded almost half of the matches from UEFA. OFC has recorded the least matches"
      ]
    },
    {
      "cell_type": "code",
      "metadata": {
        "id": "8t_em9wNbUtH",
        "colab_type": "code",
        "colab": {
          "base_uri": "https://localhost:8080/",
          "height": 301
        },
        "outputId": "88d3932d-ba8a-4df7-b58a-dfb5ea49aee0"
      },
      "source": [
        "# bar graphs of neutral\n",
        "\n",
        "football['neutral'].value_counts().plot.bar()"
      ],
      "execution_count": null,
      "outputs": [
        {
          "output_type": "execute_result",
          "data": {
            "text/plain": [
              "<matplotlib.axes._subplots.AxesSubplot at 0x7f20f0065da0>"
            ]
          },
          "metadata": {
            "tags": []
          },
          "execution_count": 52
        },
        {
          "output_type": "display_data",
          "data": {
            "image/png": "[encoded data removed]",
            "text/plain": [
              "<Figure size 432x288 with 1 Axes>"
            ]
          },
          "metadata": {
            "tags": []
          }
        }
      ]
    },
    {
      "cell_type": "markdown",
      "metadata": {
        "id": "IbIpTL2EbqXu",
        "colab_type": "text"
      },
      "source": [
        "The number of matches played at a neutral venue is relatively lower than the matches not played at a neutral venue."
      ]
    },
    {
      "cell_type": "code",
      "metadata": {
        "id": "D6XdRUrFdw0L",
        "colab_type": "code",
        "colab": {
          "base_uri": "https://localhost:8080/",
          "height": 301
        },
        "outputId": "fd1c01aa-e1ff-4e88-d2bb-3365714014b7"
      },
      "source": [
        "# bar charts of years \n",
        "football['yy'].value_counts().plot.bar()"
      ],
      "execution_count": null,
      "outputs": [
        {
          "output_type": "execute_result",
          "data": {
            "text/plain": [
              "<matplotlib.axes._subplots.AxesSubplot at 0x7f20fa1e3518>"
            ]
          },
          "metadata": {
            "tags": []
          },
          "execution_count": 96
        },
        {
          "output_type": "display_data",
          "data": {
            "image/png": "[encoded data removed]",
            "text/plain": [
              "<Figure size 432x288 with 1 Axes>"
            ]
          },
          "metadata": {
            "tags": []
          }
        }
      ]
    },
    {
      "cell_type": "markdown",
      "metadata": {
        "id": "n-EKW2KXlpzl",
        "colab_type": "text"
      },
      "source": [
        "The year 2010 had the most matches played, around 140 matches. This could have been as a result of the world cup that happened during that year followed by 2002 with 85 matches, which was also an year the world cup was played. Following closely is 2004 with around 70 matches. 2014 and 1995 have recorded the least matches played."
      ]
    },
    {
      "cell_type": "markdown",
      "metadata": {
        "id": "DH6u9Kh3dtBZ",
        "colab_type": "text"
      },
      "source": [
        "<!-- rank dates -->"
      ]
    },
    {
      "cell_type": "markdown",
      "metadata": {
        "id": "Y1fKsfv-nG6V",
        "colab_type": "text"
      },
      "source": [
        "##6. Implementing the Solution\n",
        "\n",
        "Expected flow for the assessment:\n",
        "\n",
        "Perform your EDA\n",
        "\n",
        "Perform any necessary feature engineering \n",
        "\n",
        "Check of multicollinearity\n",
        "\n",
        "Start building the model\n",
        "\n",
        "Cross-validate the model\n",
        "\n",
        "Compute RMSE\n",
        "Create residual plots for your models, and assess their heteroscedasticity using Bartlett’s test\n",
        "\n",
        "Perform appropriate regressions on the data including your justification\n",
        "\n",
        "Challenge your solution by providing insights on how you can make improvements"
      ]
    },
    {
      "cell_type": "markdown",
      "metadata": {
        "id": "P48s2MZ7nYKM",
        "colab_type": "text"
      },
      "source": [
        "### Feature Engineering"
      ]
    },
    {
      "cell_type": "code",
      "metadata": {
        "id": "to3jT5sqrOq1",
        "colab_type": "code",
        "colab": {
          "base_uri": "https://localhost:8080/",
          "height": 223
        },
        "outputId": "7624817f-c2b7-46cb-98cb-6c5187564b06"
      },
      "source": [
        "# adding the status column to the dataset \n",
        "# creating a list of our conditions\n",
        "conditions = [\n",
        "              football['home_score'] > football['away_score'],\n",
        "              football['home_score'] == football['away_score'],\n",
        "              football['home_score'] < football['away_score']\n",
        "]\n",
        "\n",
        "# create a list of the values we want to assign for each \n",
        "values = ['Win', 'Draw', 'Loss']\n",
        "\n",
        "# creating a new columnn and using np.select to assign values to it using our lists as attributes\n",
        "\n",
        "football['status'] = np.select(conditions, values)\n",
        "\n",
        "# previewing the column\n",
        "football.head(3)"
      ],
      "execution_count": null,
      "outputs": [
        {
          "output_type": "execute_result",
          "data": {
            "text/html": [
              "<div>\n",
              "<style scoped>\n",
              "    .dataframe tbody tr th:only-of-type {\n",
              "        vertical-align: middle;\n",
              "    }\n",
              "\n",
              "    .dataframe tbody tr th {\n",
              "        vertical-align: top;\n",
              "    }\n",
              "\n",
              "    .dataframe thead th {\n",
              "        text-align: right;\n",
              "    }\n",
              "</style>\n",
              "<table border=\"1\" class=\"dataframe\">\n",
              "  <thead>\n",
              "    <tr style=\"text-align: right;\">\n",
              "      <th></th>\n",
              "      <th>home_team</th>\n",
              "      <th>away_team</th>\n",
              "      <th>home_score</th>\n",
              "      <th>away_score</th>\n",
              "      <th>tournament</th>\n",
              "      <th>neutral</th>\n",
              "      <th>total_points</th>\n",
              "      <th>previous_points</th>\n",
              "      <th>cur_year_avg</th>\n",
              "      <th>cur_year_avg_weighted</th>\n",
              "      <th>last_year_avg</th>\n",
              "      <th>last_year_avg_weighted</th>\n",
              "      <th>two_year_ago_avg</th>\n",
              "      <th>two_year_ago_weighted</th>\n",
              "      <th>three_year_ago_avg</th>\n",
              "      <th>three_year_ago_weighted</th>\n",
              "      <th>confederation</th>\n",
              "      <th>home_team_rank</th>\n",
              "      <th>away_team_rank</th>\n",
              "      <th>home_team_rank_change</th>\n",
              "      <th>away_team_rank_change</th>\n",
              "      <th>yy</th>\n",
              "      <th>status</th>\n",
              "    </tr>\n",
              "  </thead>\n",
              "  <tbody>\n",
              "    <tr>\n",
              "      <th>0</th>\n",
              "      <td>Bolivia</td>\n",
              "      <td>Uruguay</td>\n",
              "      <td>3</td>\n",
              "      <td>1</td>\n",
              "      <td>FIFA World Cup qualification</td>\n",
              "      <td>False</td>\n",
              "      <td>0.0</td>\n",
              "      <td>47</td>\n",
              "      <td>0.0</td>\n",
              "      <td>0.0</td>\n",
              "      <td>0.0</td>\n",
              "      <td>0.0</td>\n",
              "      <td>0.0</td>\n",
              "      <td>0.0</td>\n",
              "      <td>0.0</td>\n",
              "      <td>0.0</td>\n",
              "      <td>CONMEBOL</td>\n",
              "      <td>59</td>\n",
              "      <td>22</td>\n",
              "      <td>28</td>\n",
              "      <td>-6</td>\n",
              "      <td>1993</td>\n",
              "      <td>Win</td>\n",
              "    </tr>\n",
              "    <tr>\n",
              "      <th>1</th>\n",
              "      <td>Brazil</td>\n",
              "      <td>Mexico</td>\n",
              "      <td>1</td>\n",
              "      <td>1</td>\n",
              "      <td>Friendly</td>\n",
              "      <td>False</td>\n",
              "      <td>0.0</td>\n",
              "      <td>42</td>\n",
              "      <td>0.0</td>\n",
              "      <td>0.0</td>\n",
              "      <td>0.0</td>\n",
              "      <td>0.0</td>\n",
              "      <td>0.0</td>\n",
              "      <td>0.0</td>\n",
              "      <td>0.0</td>\n",
              "      <td>0.0</td>\n",
              "      <td>CONCACAF</td>\n",
              "      <td>8</td>\n",
              "      <td>14</td>\n",
              "      <td>-5</td>\n",
              "      <td>11</td>\n",
              "      <td>1993</td>\n",
              "      <td>Draw</td>\n",
              "    </tr>\n",
              "    <tr>\n",
              "      <th>2</th>\n",
              "      <td>Ecuador</td>\n",
              "      <td>Venezuela</td>\n",
              "      <td>5</td>\n",
              "      <td>0</td>\n",
              "      <td>FIFA World Cup qualification</td>\n",
              "      <td>False</td>\n",
              "      <td>0.0</td>\n",
              "      <td>4</td>\n",
              "      <td>0.0</td>\n",
              "      <td>0.0</td>\n",
              "      <td>0.0</td>\n",
              "      <td>0.0</td>\n",
              "      <td>0.0</td>\n",
              "      <td>0.0</td>\n",
              "      <td>0.0</td>\n",
              "      <td>0.0</td>\n",
              "      <td>CONMEBOL</td>\n",
              "      <td>35</td>\n",
              "      <td>94</td>\n",
              "      <td>30</td>\n",
              "      <td>31</td>\n",
              "      <td>1993</td>\n",
              "      <td>Win</td>\n",
              "    </tr>\n",
              "  </tbody>\n",
              "</table>\n",
              "</div>"
            ],
            "text/plain": [
              "  home_team  away_team  home_score  ...  away_team_rank_change    yy  status\n",
              "0   Bolivia    Uruguay           3  ...                     -6  1993     Win\n",
              "1    Brazil     Mexico           1  ...                     11  1993    Draw\n",
              "2   Ecuador  Venezuela           5  ...                     31  1993     Win\n",
              "\n",
              "[3 rows x 23 columns]"
            ]
          },
          "metadata": {
            "tags": []
          },
          "execution_count": 97
        }
      ]
    },
    {
      "cell_type": "code",
      "metadata": {
        "id": "duw2cnSivRhM",
        "colab_type": "code",
        "colab": {
          "base_uri": "https://localhost:8080/",
          "height": 195
        },
        "outputId": "54353468-e50a-4598-8a00-86e40c5ba621"
      },
      "source": [
        "# dropping all columns that are not independent variables in the football dataset\n",
        "\n",
        "independent = football.drop(columns = ['home_team', 'away_team', 'tournament', 'yy', 'confederation'])"
      ],
      "execution_count": null,
      "outputs": [
        {
          "output_type": "error",
          "ename": "NameError",
          "evalue": "ignored",
          "traceback": [
            "\u001b[0;31m---------------------------------------------------------------------------\u001b[0m",
            "\u001b[0;31mNameError\u001b[0m                                 Traceback (most recent call last)",
            "\u001b[0;32m<ipython-input-1-c07bcd1fbe55>\u001b[0m in \u001b[0;36m<module>\u001b[0;34m()\u001b[0m\n\u001b[1;32m      1\u001b[0m \u001b[0;31m# dropping all columns that are not independent variables in the football dataset\u001b[0m\u001b[0;34m\u001b[0m\u001b[0;34m\u001b[0m\u001b[0;34m\u001b[0m\u001b[0m\n\u001b[1;32m      2\u001b[0m \u001b[0;34m\u001b[0m\u001b[0m\n\u001b[0;32m----> 3\u001b[0;31m \u001b[0mindependent\u001b[0m \u001b[0;34m=\u001b[0m \u001b[0mfootball\u001b[0m\u001b[0;34m.\u001b[0m\u001b[0mdrop\u001b[0m\u001b[0;34m(\u001b[0m\u001b[0mcolumns\u001b[0m \u001b[0;34m=\u001b[0m \u001b[0;34m[\u001b[0m\u001b[0;34m'home_team'\u001b[0m\u001b[0;34m,\u001b[0m \u001b[0;34m'away_team'\u001b[0m\u001b[0;34m,\u001b[0m \u001b[0;34m'tournament'\u001b[0m\u001b[0;34m,\u001b[0m \u001b[0;34m'yy'\u001b[0m\u001b[0;34m,\u001b[0m \u001b[0;34m'confederation'\u001b[0m\u001b[0;34m]\u001b[0m\u001b[0;34m)\u001b[0m\u001b[0;34m\u001b[0m\u001b[0;34m\u001b[0m\u001b[0m\n\u001b[0m",
            "\u001b[0;31mNameError\u001b[0m: name 'football' is not defined"
          ]
        }
      ]
    },
    {
      "cell_type": "code",
      "metadata": {
        "id": "B28YKjdzupi6",
        "colab_type": "code",
        "colab": {
          "base_uri": "https://localhost:8080/",
          "height": 84
        },
        "outputId": "d011a84b-e905-4cb5-e1f6-b90e53d488b6"
      },
      "source": [
        "# exploring the status column \n",
        "football['status'].value_counts()"
      ],
      "execution_count": null,
      "outputs": [
        {
          "output_type": "execute_result",
          "data": {
            "text/plain": [
              "Win     451\n",
              "Loss    243\n",
              "Draw    239\n",
              "Name: status, dtype: int64"
            ]
          },
          "metadata": {
            "tags": []
          },
          "execution_count": 98
        }
      ]
    },
    {
      "cell_type": "markdown",
      "metadata": {
        "id": "egZ368bCu5Y7",
        "colab_type": "text"
      },
      "source": [
        "The home team has experienced more wins than losses and draws and more losses than draws"
      ]
    },
    {
      "cell_type": "markdown",
      "metadata": {
        "id": "2tA-t_UYvM1P",
        "colab_type": "text"
      },
      "source": [
        "### Checking for multicollinearity"
      ]
    },
    {
      "cell_type": "markdown",
      "metadata": {
        "id": "V99Hl7rPOmnt",
        "colab_type": "text"
      },
      "source": [
        "###Polynomial Regression"
      ]
    },
    {
      "cell_type": "code",
      "metadata": {
        "id": "PpXIKg3SOqzG",
        "colab_type": "code",
        "colab": {}
      },
      "source": [
        ""
      ],
      "execution_count": null,
      "outputs": []
    },
    {
      "cell_type": "markdown",
      "metadata": {
        "id": "RNhaCq77Ohcb",
        "colab_type": "text"
      },
      "source": [
        "###Logistic Regression"
      ]
    },
    {
      "cell_type": "code",
      "metadata": {
        "id": "gNZIWwrrFfqM",
        "colab_type": "code",
        "colab": {
          "base_uri": "https://localhost:8080/",
          "height": 195
        },
        "outputId": "2a7f482a-8246-40ca-9043-0d9577807b0f"
      },
      "source": [
        "# columns required for logistsic regression: home team, home team score, away team, away team score,\n",
        "# year, home team rank, away team rank, tournament type, status(generate) - Win, Draw, loss\n",
        "\n",
        "#create a list of conditions\n",
        "conditions = [\n",
        "              (results['home_score'] > results['away_score']),\n",
        "              (results['home_score'] == results['away_score']),\n",
        "              (results['home_score'] < results['away_score'])\n",
        "]\n",
        "\n",
        "#create a list of the values we want to assign for each condition\n",
        "values = ['Win', 'Draw', 'Loss']\n",
        "\n",
        "#create a new column and use np.select to assign values to it using our lists as arguments\n",
        "\n",
        "results['status'] = np.select(conditions, values)\n",
        "\n",
        "#previewing our column\n",
        "results.head()"
      ],
      "execution_count": null,
      "outputs": [
        {
          "output_type": "execute_result",
          "data": {
            "text/html": [
              "<div>\n",
              "<style scoped>\n",
              "    .dataframe tbody tr th:only-of-type {\n",
              "        vertical-align: middle;\n",
              "    }\n",
              "\n",
              "    .dataframe tbody tr th {\n",
              "        vertical-align: top;\n",
              "    }\n",
              "\n",
              "    .dataframe thead th {\n",
              "        text-align: right;\n",
              "    }\n",
              "</style>\n",
              "<table border=\"1\" class=\"dataframe\">\n",
              "  <thead>\n",
              "    <tr style=\"text-align: right;\">\n",
              "      <th></th>\n",
              "      <th>date</th>\n",
              "      <th>home_team</th>\n",
              "      <th>away_team</th>\n",
              "      <th>home_score</th>\n",
              "      <th>away_score</th>\n",
              "      <th>tournament</th>\n",
              "      <th>city</th>\n",
              "      <th>country</th>\n",
              "      <th>neutral</th>\n",
              "      <th>status</th>\n",
              "    </tr>\n",
              "  </thead>\n",
              "  <tbody>\n",
              "    <tr>\n",
              "      <th>0</th>\n",
              "      <td>1872-11-30</td>\n",
              "      <td>Scotland</td>\n",
              "      <td>England</td>\n",
              "      <td>0</td>\n",
              "      <td>0</td>\n",
              "      <td>Friendly</td>\n",
              "      <td>Glasgow</td>\n",
              "      <td>Scotland</td>\n",
              "      <td>False</td>\n",
              "      <td>Draw</td>\n",
              "    </tr>\n",
              "    <tr>\n",
              "      <th>1</th>\n",
              "      <td>1873-03-08</td>\n",
              "      <td>England</td>\n",
              "      <td>Scotland</td>\n",
              "      <td>4</td>\n",
              "      <td>2</td>\n",
              "      <td>Friendly</td>\n",
              "      <td>London</td>\n",
              "      <td>England</td>\n",
              "      <td>False</td>\n",
              "      <td>Win</td>\n",
              "    </tr>\n",
              "    <tr>\n",
              "      <th>2</th>\n",
              "      <td>1874-03-07</td>\n",
              "      <td>Scotland</td>\n",
              "      <td>England</td>\n",
              "      <td>2</td>\n",
              "      <td>1</td>\n",
              "      <td>Friendly</td>\n",
              "      <td>Glasgow</td>\n",
              "      <td>Scotland</td>\n",
              "      <td>False</td>\n",
              "      <td>Win</td>\n",
              "    </tr>\n",
              "    <tr>\n",
              "      <th>3</th>\n",
              "      <td>1875-03-06</td>\n",
              "      <td>England</td>\n",
              "      <td>Scotland</td>\n",
              "      <td>2</td>\n",
              "      <td>2</td>\n",
              "      <td>Friendly</td>\n",
              "      <td>London</td>\n",
              "      <td>England</td>\n",
              "      <td>False</td>\n",
              "      <td>Draw</td>\n",
              "    </tr>\n",
              "    <tr>\n",
              "      <th>4</th>\n",
              "      <td>1876-03-04</td>\n",
              "      <td>Scotland</td>\n",
              "      <td>England</td>\n",
              "      <td>3</td>\n",
              "      <td>0</td>\n",
              "      <td>Friendly</td>\n",
              "      <td>Glasgow</td>\n",
              "      <td>Scotland</td>\n",
              "      <td>False</td>\n",
              "      <td>Win</td>\n",
              "    </tr>\n",
              "  </tbody>\n",
              "</table>\n",
              "</div>"
            ],
            "text/plain": [
              "         date home_team away_team  ...   country  neutral status\n",
              "0  1872-11-30  Scotland   England  ...  Scotland    False   Draw\n",
              "1  1873-03-08   England  Scotland  ...   England    False    Win\n",
              "2  1874-03-07  Scotland   England  ...  Scotland    False    Win\n",
              "3  1875-03-06   England  Scotland  ...   England    False   Draw\n",
              "4  1876-03-04  Scotland   England  ...  Scotland    False    Win\n",
              "\n",
              "[5 rows x 10 columns]"
            ]
          },
          "metadata": {
            "tags": []
          },
          "execution_count": 21
        }
      ]
    },
    {
      "cell_type": "code",
      "metadata": {
        "id": "f7oxIRncDaqk",
        "colab_type": "code",
        "colab": {
          "base_uri": "https://localhost:8080/",
          "height": 166
        },
        "outputId": "da19b4d9-6d90-44d6-82df-82eb22dea7cf"
      },
      "source": [
        "results.tail(4)"
      ],
      "execution_count": null,
      "outputs": [
        {
          "output_type": "execute_result",
          "data": {
            "text/html": [
              "<div>\n",
              "<style scoped>\n",
              "    .dataframe tbody tr th:only-of-type {\n",
              "        vertical-align: middle;\n",
              "    }\n",
              "\n",
              "    .dataframe tbody tr th {\n",
              "        vertical-align: top;\n",
              "    }\n",
              "\n",
              "    .dataframe thead th {\n",
              "        text-align: right;\n",
              "    }\n",
              "</style>\n",
              "<table border=\"1\" class=\"dataframe\">\n",
              "  <thead>\n",
              "    <tr style=\"text-align: right;\">\n",
              "      <th></th>\n",
              "      <th>date</th>\n",
              "      <th>home_team</th>\n",
              "      <th>away_team</th>\n",
              "      <th>home_score</th>\n",
              "      <th>away_score</th>\n",
              "      <th>tournament</th>\n",
              "      <th>city</th>\n",
              "      <th>country</th>\n",
              "      <th>neutral</th>\n",
              "      <th>status</th>\n",
              "    </tr>\n",
              "  </thead>\n",
              "  <tbody>\n",
              "    <tr>\n",
              "      <th>40835</th>\n",
              "      <td>2019-07-18</td>\n",
              "      <td>Fiji</td>\n",
              "      <td>Solomon Islands</td>\n",
              "      <td>4</td>\n",
              "      <td>4</td>\n",
              "      <td>Pacific Games</td>\n",
              "      <td>Apia</td>\n",
              "      <td>Samoa</td>\n",
              "      <td>True</td>\n",
              "      <td>Draw</td>\n",
              "    </tr>\n",
              "    <tr>\n",
              "      <th>40836</th>\n",
              "      <td>2019-07-19</td>\n",
              "      <td>Senegal</td>\n",
              "      <td>Algeria</td>\n",
              "      <td>0</td>\n",
              "      <td>1</td>\n",
              "      <td>African Cup of Nations</td>\n",
              "      <td>Cairo</td>\n",
              "      <td>Egypt</td>\n",
              "      <td>True</td>\n",
              "      <td>Loss</td>\n",
              "    </tr>\n",
              "    <tr>\n",
              "      <th>40837</th>\n",
              "      <td>2019-07-19</td>\n",
              "      <td>Tajikistan</td>\n",
              "      <td>North Korea</td>\n",
              "      <td>0</td>\n",
              "      <td>1</td>\n",
              "      <td>Intercontinental Cup</td>\n",
              "      <td>Ahmedabad</td>\n",
              "      <td>India</td>\n",
              "      <td>True</td>\n",
              "      <td>Loss</td>\n",
              "    </tr>\n",
              "    <tr>\n",
              "      <th>40838</th>\n",
              "      <td>2019-07-20</td>\n",
              "      <td>Papua New Guinea</td>\n",
              "      <td>Fiji</td>\n",
              "      <td>1</td>\n",
              "      <td>1</td>\n",
              "      <td>Pacific Games</td>\n",
              "      <td>Apia</td>\n",
              "      <td>Samoa</td>\n",
              "      <td>True</td>\n",
              "      <td>Draw</td>\n",
              "    </tr>\n",
              "  </tbody>\n",
              "</table>\n",
              "</div>"
            ],
            "text/plain": [
              "             date         home_team        away_team  ...  country  neutral status\n",
              "40835  2019-07-18              Fiji  Solomon Islands  ...    Samoa     True   Draw\n",
              "40836  2019-07-19           Senegal          Algeria  ...    Egypt     True   Loss\n",
              "40837  2019-07-19        Tajikistan      North Korea  ...    India     True   Loss\n",
              "40838  2019-07-20  Papua New Guinea             Fiji  ...    Samoa     True   Draw\n",
              "\n",
              "[4 rows x 10 columns]"
            ]
          },
          "metadata": {
            "tags": []
          },
          "execution_count": 22
        }
      ]
    },
    {
      "cell_type": "code",
      "metadata": {
        "id": "R5vWZRmwzoeg",
        "colab_type": "code",
        "colab": {
          "base_uri": "https://localhost:8080/",
          "height": 202
        },
        "outputId": "6f386c29-408a-4690-9565-2d3230c11125"
      },
      "source": [
        "#finding unique values \n",
        "results.nunique()"
      ],
      "execution_count": null,
      "outputs": [
        {
          "output_type": "execute_result",
          "data": {
            "text/plain": [
              "date          15115\n",
              "home_team       309\n",
              "away_team       306\n",
              "home_score       26\n",
              "away_score       22\n",
              "tournament      109\n",
              "city           1960\n",
              "country         266\n",
              "neutral           2\n",
              "status            3\n",
              "dtype: int64"
            ]
          },
          "metadata": {
            "tags": []
          },
          "execution_count": 23
        }
      ]
    },
    {
      "cell_type": "code",
      "metadata": {
        "id": "kiDqbcihIpKO",
        "colab_type": "code",
        "colab": {}
      },
      "source": [
        "#visualizing our target variable"
      ],
      "execution_count": null,
      "outputs": []
    }
  ]
}